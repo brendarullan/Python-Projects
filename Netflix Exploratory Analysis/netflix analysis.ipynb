{
 "cells": [
  {
   "attachments": {},
   "cell_type": "markdown",
   "metadata": {},
   "source": [
    "Phase 1: About the data\n",
    "The Netflix Movies & TV Shows dataset can be found on Kaggle. It contains all TV Shows and Movies metadata available on Netflix. The dataset is updated every month. It contains 8807 records and 12 columns.\n",
    "\n",
    "Netflix was founded on August 29, 1997, as a mail-based rental business. In January 2007, the company launched a streaming media service, introducing video on demand via the Internet."
   ]
  },
  {
   "attachments": {},
   "cell_type": "markdown",
   "metadata": {},
   "source": [
    "Objective\n",
    "The purpose of this analysis is to answer the following questions:\n",
    "\n",
    "Number of movies/tv-shows added to the streaming platform by year\n",
    "Which month has the most added movies/tv-shows?\n",
    "Which day has the most added movies/tv-shows?\n",
    "How many Movies vs. TV-Shows?\n",
    "Which year has the most releases Movies/TV-Shows?\n",
    "Which is the oldest movie/tv-show on streaming?\n",
    "Which countries produce the most movies/tv-shows?\n",
    "Cast members with the most content"
   ]
  },
  {
   "attachments": {},
   "cell_type": "markdown",
   "metadata": {},
   "source": [
    "Phase 2: Data prep\n",
    "\n",
    "#Importing Libraries"
   ]
  },
  {
   "cell_type": "code",
   "execution_count": 1,
   "metadata": {},
   "outputs": [],
   "source": [
    "import pandas as pd \n",
    "import plotly.express as px"
   ]
  },
  {
   "cell_type": "code",
   "execution_count": 2,
   "metadata": {},
   "outputs": [],
   "source": [
    "import plotly.io as pio\n",
    "pio.renderers.default = \"svg\""
   ]
  },
  {
   "attachments": {},
   "cell_type": "markdown",
   "metadata": {},
   "source": [
    "#Loading the dataset with Pandas"
   ]
  },
  {
   "cell_type": "code",
   "execution_count": 3,
   "metadata": {},
   "outputs": [
    {
     "data": {
      "text/html": [
       "<div>\n",
       "<style scoped>\n",
       "    .dataframe tbody tr th:only-of-type {\n",
       "        vertical-align: middle;\n",
       "    }\n",
       "\n",
       "    .dataframe tbody tr th {\n",
       "        vertical-align: top;\n",
       "    }\n",
       "\n",
       "    .dataframe thead th {\n",
       "        text-align: right;\n",
       "    }\n",
       "</style>\n",
       "<table border=\"1\" class=\"dataframe\">\n",
       "  <thead>\n",
       "    <tr style=\"text-align: right;\">\n",
       "      <th></th>\n",
       "      <th>show_id</th>\n",
       "      <th>type</th>\n",
       "      <th>title</th>\n",
       "      <th>director</th>\n",
       "      <th>cast</th>\n",
       "      <th>country</th>\n",
       "      <th>date_added</th>\n",
       "      <th>release_year</th>\n",
       "      <th>rating</th>\n",
       "      <th>duration</th>\n",
       "      <th>listed_in</th>\n",
       "      <th>description</th>\n",
       "    </tr>\n",
       "  </thead>\n",
       "  <tbody>\n",
       "    <tr>\n",
       "      <th>0</th>\n",
       "      <td>s1</td>\n",
       "      <td>Movie</td>\n",
       "      <td>Dick Johnson Is Dead</td>\n",
       "      <td>Kirsten Johnson</td>\n",
       "      <td>NaN</td>\n",
       "      <td>United States</td>\n",
       "      <td>September 25, 2021</td>\n",
       "      <td>2020</td>\n",
       "      <td>PG-13</td>\n",
       "      <td>90 min</td>\n",
       "      <td>Documentaries</td>\n",
       "      <td>As her father nears the end of his life, filmm...</td>\n",
       "    </tr>\n",
       "    <tr>\n",
       "      <th>1</th>\n",
       "      <td>s2</td>\n",
       "      <td>TV Show</td>\n",
       "      <td>Blood &amp; Water</td>\n",
       "      <td>NaN</td>\n",
       "      <td>Ama Qamata, Khosi Ngema, Gail Mabalane, Thaban...</td>\n",
       "      <td>South Africa</td>\n",
       "      <td>September 24, 2021</td>\n",
       "      <td>2021</td>\n",
       "      <td>TV-MA</td>\n",
       "      <td>2 Seasons</td>\n",
       "      <td>International TV Shows, TV Dramas, TV Mysteries</td>\n",
       "      <td>After crossing paths at a party, a Cape Town t...</td>\n",
       "    </tr>\n",
       "    <tr>\n",
       "      <th>2</th>\n",
       "      <td>s3</td>\n",
       "      <td>TV Show</td>\n",
       "      <td>Ganglands</td>\n",
       "      <td>Julien Leclercq</td>\n",
       "      <td>Sami Bouajila, Tracy Gotoas, Samuel Jouy, Nabi...</td>\n",
       "      <td>NaN</td>\n",
       "      <td>September 24, 2021</td>\n",
       "      <td>2021</td>\n",
       "      <td>TV-MA</td>\n",
       "      <td>1 Season</td>\n",
       "      <td>Crime TV Shows, International TV Shows, TV Act...</td>\n",
       "      <td>To protect his family from a powerful drug lor...</td>\n",
       "    </tr>\n",
       "    <tr>\n",
       "      <th>3</th>\n",
       "      <td>s4</td>\n",
       "      <td>TV Show</td>\n",
       "      <td>Jailbirds New Orleans</td>\n",
       "      <td>NaN</td>\n",
       "      <td>NaN</td>\n",
       "      <td>NaN</td>\n",
       "      <td>September 24, 2021</td>\n",
       "      <td>2021</td>\n",
       "      <td>TV-MA</td>\n",
       "      <td>1 Season</td>\n",
       "      <td>Docuseries, Reality TV</td>\n",
       "      <td>Feuds, flirtations and toilet talk go down amo...</td>\n",
       "    </tr>\n",
       "    <tr>\n",
       "      <th>4</th>\n",
       "      <td>s5</td>\n",
       "      <td>TV Show</td>\n",
       "      <td>Kota Factory</td>\n",
       "      <td>NaN</td>\n",
       "      <td>Mayur More, Jitendra Kumar, Ranjan Raj, Alam K...</td>\n",
       "      <td>India</td>\n",
       "      <td>September 24, 2021</td>\n",
       "      <td>2021</td>\n",
       "      <td>TV-MA</td>\n",
       "      <td>2 Seasons</td>\n",
       "      <td>International TV Shows, Romantic TV Shows, TV ...</td>\n",
       "      <td>In a city of coaching centers known to train I...</td>\n",
       "    </tr>\n",
       "    <tr>\n",
       "      <th>...</th>\n",
       "      <td>...</td>\n",
       "      <td>...</td>\n",
       "      <td>...</td>\n",
       "      <td>...</td>\n",
       "      <td>...</td>\n",
       "      <td>...</td>\n",
       "      <td>...</td>\n",
       "      <td>...</td>\n",
       "      <td>...</td>\n",
       "      <td>...</td>\n",
       "      <td>...</td>\n",
       "      <td>...</td>\n",
       "    </tr>\n",
       "    <tr>\n",
       "      <th>8802</th>\n",
       "      <td>s8803</td>\n",
       "      <td>Movie</td>\n",
       "      <td>Zodiac</td>\n",
       "      <td>David Fincher</td>\n",
       "      <td>Mark Ruffalo, Jake Gyllenhaal, Robert Downey J...</td>\n",
       "      <td>United States</td>\n",
       "      <td>November 20, 2019</td>\n",
       "      <td>2007</td>\n",
       "      <td>R</td>\n",
       "      <td>158 min</td>\n",
       "      <td>Cult Movies, Dramas, Thrillers</td>\n",
       "      <td>A political cartoonist, a crime reporter and a...</td>\n",
       "    </tr>\n",
       "    <tr>\n",
       "      <th>8803</th>\n",
       "      <td>s8804</td>\n",
       "      <td>TV Show</td>\n",
       "      <td>Zombie Dumb</td>\n",
       "      <td>NaN</td>\n",
       "      <td>NaN</td>\n",
       "      <td>NaN</td>\n",
       "      <td>July 1, 2019</td>\n",
       "      <td>2018</td>\n",
       "      <td>TV-Y7</td>\n",
       "      <td>2 Seasons</td>\n",
       "      <td>Kids' TV, Korean TV Shows, TV Comedies</td>\n",
       "      <td>While living alone in a spooky town, a young g...</td>\n",
       "    </tr>\n",
       "    <tr>\n",
       "      <th>8804</th>\n",
       "      <td>s8805</td>\n",
       "      <td>Movie</td>\n",
       "      <td>Zombieland</td>\n",
       "      <td>Ruben Fleischer</td>\n",
       "      <td>Jesse Eisenberg, Woody Harrelson, Emma Stone, ...</td>\n",
       "      <td>United States</td>\n",
       "      <td>November 1, 2019</td>\n",
       "      <td>2009</td>\n",
       "      <td>R</td>\n",
       "      <td>88 min</td>\n",
       "      <td>Comedies, Horror Movies</td>\n",
       "      <td>Looking to survive in a world taken over by zo...</td>\n",
       "    </tr>\n",
       "    <tr>\n",
       "      <th>8805</th>\n",
       "      <td>s8806</td>\n",
       "      <td>Movie</td>\n",
       "      <td>Zoom</td>\n",
       "      <td>Peter Hewitt</td>\n",
       "      <td>Tim Allen, Courteney Cox, Chevy Chase, Kate Ma...</td>\n",
       "      <td>United States</td>\n",
       "      <td>January 11, 2020</td>\n",
       "      <td>2006</td>\n",
       "      <td>PG</td>\n",
       "      <td>88 min</td>\n",
       "      <td>Children &amp; Family Movies, Comedies</td>\n",
       "      <td>Dragged from civilian life, a former superhero...</td>\n",
       "    </tr>\n",
       "    <tr>\n",
       "      <th>8806</th>\n",
       "      <td>s8807</td>\n",
       "      <td>Movie</td>\n",
       "      <td>Zubaan</td>\n",
       "      <td>Mozez Singh</td>\n",
       "      <td>Vicky Kaushal, Sarah-Jane Dias, Raaghav Chanan...</td>\n",
       "      <td>India</td>\n",
       "      <td>March 2, 2019</td>\n",
       "      <td>2015</td>\n",
       "      <td>TV-14</td>\n",
       "      <td>111 min</td>\n",
       "      <td>Dramas, International Movies, Music &amp; Musicals</td>\n",
       "      <td>A scrappy but poor boy worms his way into a ty...</td>\n",
       "    </tr>\n",
       "  </tbody>\n",
       "</table>\n",
       "<p>8807 rows × 12 columns</p>\n",
       "</div>"
      ],
      "text/plain": [
       "     show_id     type                  title         director  \\\n",
       "0         s1    Movie   Dick Johnson Is Dead  Kirsten Johnson   \n",
       "1         s2  TV Show          Blood & Water              NaN   \n",
       "2         s3  TV Show              Ganglands  Julien Leclercq   \n",
       "3         s4  TV Show  Jailbirds New Orleans              NaN   \n",
       "4         s5  TV Show           Kota Factory              NaN   \n",
       "...      ...      ...                    ...              ...   \n",
       "8802   s8803    Movie                 Zodiac    David Fincher   \n",
       "8803   s8804  TV Show            Zombie Dumb              NaN   \n",
       "8804   s8805    Movie             Zombieland  Ruben Fleischer   \n",
       "8805   s8806    Movie                   Zoom     Peter Hewitt   \n",
       "8806   s8807    Movie                 Zubaan      Mozez Singh   \n",
       "\n",
       "                                                   cast        country  \\\n",
       "0                                                   NaN  United States   \n",
       "1     Ama Qamata, Khosi Ngema, Gail Mabalane, Thaban...   South Africa   \n",
       "2     Sami Bouajila, Tracy Gotoas, Samuel Jouy, Nabi...            NaN   \n",
       "3                                                   NaN            NaN   \n",
       "4     Mayur More, Jitendra Kumar, Ranjan Raj, Alam K...          India   \n",
       "...                                                 ...            ...   \n",
       "8802  Mark Ruffalo, Jake Gyllenhaal, Robert Downey J...  United States   \n",
       "8803                                                NaN            NaN   \n",
       "8804  Jesse Eisenberg, Woody Harrelson, Emma Stone, ...  United States   \n",
       "8805  Tim Allen, Courteney Cox, Chevy Chase, Kate Ma...  United States   \n",
       "8806  Vicky Kaushal, Sarah-Jane Dias, Raaghav Chanan...          India   \n",
       "\n",
       "              date_added  release_year rating   duration  \\\n",
       "0     September 25, 2021          2020  PG-13     90 min   \n",
       "1     September 24, 2021          2021  TV-MA  2 Seasons   \n",
       "2     September 24, 2021          2021  TV-MA   1 Season   \n",
       "3     September 24, 2021          2021  TV-MA   1 Season   \n",
       "4     September 24, 2021          2021  TV-MA  2 Seasons   \n",
       "...                  ...           ...    ...        ...   \n",
       "8802   November 20, 2019          2007      R    158 min   \n",
       "8803        July 1, 2019          2018  TV-Y7  2 Seasons   \n",
       "8804    November 1, 2019          2009      R     88 min   \n",
       "8805    January 11, 2020          2006     PG     88 min   \n",
       "8806       March 2, 2019          2015  TV-14    111 min   \n",
       "\n",
       "                                              listed_in  \\\n",
       "0                                         Documentaries   \n",
       "1       International TV Shows, TV Dramas, TV Mysteries   \n",
       "2     Crime TV Shows, International TV Shows, TV Act...   \n",
       "3                                Docuseries, Reality TV   \n",
       "4     International TV Shows, Romantic TV Shows, TV ...   \n",
       "...                                                 ...   \n",
       "8802                     Cult Movies, Dramas, Thrillers   \n",
       "8803             Kids' TV, Korean TV Shows, TV Comedies   \n",
       "8804                            Comedies, Horror Movies   \n",
       "8805                 Children & Family Movies, Comedies   \n",
       "8806     Dramas, International Movies, Music & Musicals   \n",
       "\n",
       "                                            description  \n",
       "0     As her father nears the end of his life, filmm...  \n",
       "1     After crossing paths at a party, a Cape Town t...  \n",
       "2     To protect his family from a powerful drug lor...  \n",
       "3     Feuds, flirtations and toilet talk go down amo...  \n",
       "4     In a city of coaching centers known to train I...  \n",
       "...                                                 ...  \n",
       "8802  A political cartoonist, a crime reporter and a...  \n",
       "8803  While living alone in a spooky town, a young g...  \n",
       "8804  Looking to survive in a world taken over by zo...  \n",
       "8805  Dragged from civilian life, a former superhero...  \n",
       "8806  A scrappy but poor boy worms his way into a ty...  \n",
       "\n",
       "[8807 rows x 12 columns]"
      ]
     },
     "execution_count": 3,
     "metadata": {},
     "output_type": "execute_result"
    }
   ],
   "source": [
    "netflix = pd.read_csv(\"C:\\\\Users\\\\brullan\\\\Downloads\\\\netflix_titles.csv\\\\netflix_titles.csv\") \n",
    "netflix"
   ]
  },
  {
   "attachments": {},
   "cell_type": "markdown",
   "metadata": {},
   "source": [
    "#column names and types "
   ]
  },
  {
   "cell_type": "code",
   "execution_count": 4,
   "metadata": {},
   "outputs": [
    {
     "name": "stdout",
     "output_type": "stream",
     "text": [
      "<class 'pandas.core.frame.DataFrame'>\n",
      "RangeIndex: 8807 entries, 0 to 8806\n",
      "Data columns (total 12 columns):\n",
      " #   Column        Non-Null Count  Dtype \n",
      "---  ------        --------------  ----- \n",
      " 0   show_id       8807 non-null   object\n",
      " 1   type          8807 non-null   object\n",
      " 2   title         8807 non-null   object\n",
      " 3   director      6173 non-null   object\n",
      " 4   cast          7982 non-null   object\n",
      " 5   country       7976 non-null   object\n",
      " 6   date_added    8797 non-null   object\n",
      " 7   release_year  8807 non-null   int64 \n",
      " 8   rating        8803 non-null   object\n",
      " 9   duration      8804 non-null   object\n",
      " 10  listed_in     8807 non-null   object\n",
      " 11  description   8807 non-null   object\n",
      "dtypes: int64(1), object(11)\n",
      "memory usage: 825.8+ KB\n"
     ]
    }
   ],
   "source": [
    "netflix.info()"
   ]
  },
  {
   "attachments": {},
   "cell_type": "markdown",
   "metadata": {},
   "source": [
    "#Numerical column 'describe'"
   ]
  },
  {
   "cell_type": "code",
   "execution_count": 5,
   "metadata": {},
   "outputs": [
    {
     "data": {
      "text/html": [
       "<div>\n",
       "<style scoped>\n",
       "    .dataframe tbody tr th:only-of-type {\n",
       "        vertical-align: middle;\n",
       "    }\n",
       "\n",
       "    .dataframe tbody tr th {\n",
       "        vertical-align: top;\n",
       "    }\n",
       "\n",
       "    .dataframe thead th {\n",
       "        text-align: right;\n",
       "    }\n",
       "</style>\n",
       "<table border=\"1\" class=\"dataframe\">\n",
       "  <thead>\n",
       "    <tr style=\"text-align: right;\">\n",
       "      <th></th>\n",
       "      <th>release_year</th>\n",
       "    </tr>\n",
       "  </thead>\n",
       "  <tbody>\n",
       "    <tr>\n",
       "      <th>count</th>\n",
       "      <td>8807.000000</td>\n",
       "    </tr>\n",
       "    <tr>\n",
       "      <th>mean</th>\n",
       "      <td>2014.180198</td>\n",
       "    </tr>\n",
       "    <tr>\n",
       "      <th>std</th>\n",
       "      <td>8.819312</td>\n",
       "    </tr>\n",
       "    <tr>\n",
       "      <th>min</th>\n",
       "      <td>1925.000000</td>\n",
       "    </tr>\n",
       "    <tr>\n",
       "      <th>25%</th>\n",
       "      <td>2013.000000</td>\n",
       "    </tr>\n",
       "    <tr>\n",
       "      <th>50%</th>\n",
       "      <td>2017.000000</td>\n",
       "    </tr>\n",
       "    <tr>\n",
       "      <th>75%</th>\n",
       "      <td>2019.000000</td>\n",
       "    </tr>\n",
       "    <tr>\n",
       "      <th>max</th>\n",
       "      <td>2021.000000</td>\n",
       "    </tr>\n",
       "  </tbody>\n",
       "</table>\n",
       "</div>"
      ],
      "text/plain": [
       "       release_year\n",
       "count   8807.000000\n",
       "mean    2014.180198\n",
       "std        8.819312\n",
       "min     1925.000000\n",
       "25%     2013.000000\n",
       "50%     2017.000000\n",
       "75%     2019.000000\n",
       "max     2021.000000"
      ]
     },
     "execution_count": 5,
     "metadata": {},
     "output_type": "execute_result"
    }
   ],
   "source": [
    "netflix.describe()"
   ]
  },
  {
   "attachments": {},
   "cell_type": "markdown",
   "metadata": {},
   "source": [
    "Phase 3: Process\n",
    "\n",
    "#Checking for missing data"
   ]
  },
  {
   "cell_type": "code",
   "execution_count": 6,
   "metadata": {},
   "outputs": [
    {
     "data": {
      "text/plain": [
       "director        2634\n",
       "country          831\n",
       "cast             825\n",
       "date_added        10\n",
       "rating             4\n",
       "duration           3\n",
       "show_id            0\n",
       "type               0\n",
       "title              0\n",
       "release_year       0\n",
       "listed_in          0\n",
       "description        0\n",
       "dtype: int64"
      ]
     },
     "execution_count": 6,
     "metadata": {},
     "output_type": "execute_result"
    }
   ],
   "source": [
    "missing_data = netflix.isna().sum().sort_values(ascending=False)\n",
    "missing_data"
   ]
  },
  {
   "cell_type": "code",
   "execution_count": 7,
   "metadata": {},
   "outputs": [
    {
     "data": {
      "text/html": [
       "<div>\n",
       "<style scoped>\n",
       "    .dataframe tbody tr th:only-of-type {\n",
       "        vertical-align: middle;\n",
       "    }\n",
       "\n",
       "    .dataframe tbody tr th {\n",
       "        vertical-align: top;\n",
       "    }\n",
       "\n",
       "    .dataframe thead th {\n",
       "        text-align: right;\n",
       "    }\n",
       "</style>\n",
       "<table border=\"1\" class=\"dataframe\">\n",
       "  <thead>\n",
       "    <tr style=\"text-align: right;\">\n",
       "      <th></th>\n",
       "      <th>show_id</th>\n",
       "      <th>type</th>\n",
       "      <th>title</th>\n",
       "      <th>director</th>\n",
       "      <th>cast</th>\n",
       "      <th>country</th>\n",
       "      <th>date_added</th>\n",
       "      <th>release_year</th>\n",
       "      <th>rating</th>\n",
       "      <th>duration</th>\n",
       "      <th>listed_in</th>\n",
       "      <th>description</th>\n",
       "    </tr>\n",
       "  </thead>\n",
       "  <tbody>\n",
       "    <tr>\n",
       "      <th>1</th>\n",
       "      <td>s2</td>\n",
       "      <td>TV Show</td>\n",
       "      <td>Blood &amp; Water</td>\n",
       "      <td>NaN</td>\n",
       "      <td>Ama Qamata, Khosi Ngema, Gail Mabalane, Thaban...</td>\n",
       "      <td>South Africa</td>\n",
       "      <td>September 24, 2021</td>\n",
       "      <td>2021</td>\n",
       "      <td>TV-MA</td>\n",
       "      <td>2 Seasons</td>\n",
       "      <td>International TV Shows, TV Dramas, TV Mysteries</td>\n",
       "      <td>After crossing paths at a party, a Cape Town t...</td>\n",
       "    </tr>\n",
       "    <tr>\n",
       "      <th>3</th>\n",
       "      <td>s4</td>\n",
       "      <td>TV Show</td>\n",
       "      <td>Jailbirds New Orleans</td>\n",
       "      <td>NaN</td>\n",
       "      <td>NaN</td>\n",
       "      <td>NaN</td>\n",
       "      <td>September 24, 2021</td>\n",
       "      <td>2021</td>\n",
       "      <td>TV-MA</td>\n",
       "      <td>1 Season</td>\n",
       "      <td>Docuseries, Reality TV</td>\n",
       "      <td>Feuds, flirtations and toilet talk go down amo...</td>\n",
       "    </tr>\n",
       "    <tr>\n",
       "      <th>4</th>\n",
       "      <td>s5</td>\n",
       "      <td>TV Show</td>\n",
       "      <td>Kota Factory</td>\n",
       "      <td>NaN</td>\n",
       "      <td>Mayur More, Jitendra Kumar, Ranjan Raj, Alam K...</td>\n",
       "      <td>India</td>\n",
       "      <td>September 24, 2021</td>\n",
       "      <td>2021</td>\n",
       "      <td>TV-MA</td>\n",
       "      <td>2 Seasons</td>\n",
       "      <td>International TV Shows, Romantic TV Shows, TV ...</td>\n",
       "      <td>In a city of coaching centers known to train I...</td>\n",
       "    </tr>\n",
       "    <tr>\n",
       "      <th>10</th>\n",
       "      <td>s11</td>\n",
       "      <td>TV Show</td>\n",
       "      <td>Vendetta: Truth, Lies and The Mafia</td>\n",
       "      <td>NaN</td>\n",
       "      <td>NaN</td>\n",
       "      <td>NaN</td>\n",
       "      <td>September 24, 2021</td>\n",
       "      <td>2021</td>\n",
       "      <td>TV-MA</td>\n",
       "      <td>1 Season</td>\n",
       "      <td>Crime TV Shows, Docuseries, International TV S...</td>\n",
       "      <td>Sicily boasts a bold \"Anti-Mafia\" coalition. B...</td>\n",
       "    </tr>\n",
       "    <tr>\n",
       "      <th>14</th>\n",
       "      <td>s15</td>\n",
       "      <td>TV Show</td>\n",
       "      <td>Crime Stories: India Detectives</td>\n",
       "      <td>NaN</td>\n",
       "      <td>NaN</td>\n",
       "      <td>NaN</td>\n",
       "      <td>September 22, 2021</td>\n",
       "      <td>2021</td>\n",
       "      <td>TV-MA</td>\n",
       "      <td>1 Season</td>\n",
       "      <td>British TV Shows, Crime TV Shows, Docuseries</td>\n",
       "      <td>Cameras following Bengaluru police on the job ...</td>\n",
       "    </tr>\n",
       "    <tr>\n",
       "      <th>...</th>\n",
       "      <td>...</td>\n",
       "      <td>...</td>\n",
       "      <td>...</td>\n",
       "      <td>...</td>\n",
       "      <td>...</td>\n",
       "      <td>...</td>\n",
       "      <td>...</td>\n",
       "      <td>...</td>\n",
       "      <td>...</td>\n",
       "      <td>...</td>\n",
       "      <td>...</td>\n",
       "      <td>...</td>\n",
       "    </tr>\n",
       "    <tr>\n",
       "      <th>8795</th>\n",
       "      <td>s8796</td>\n",
       "      <td>TV Show</td>\n",
       "      <td>Yu-Gi-Oh! Arc-V</td>\n",
       "      <td>NaN</td>\n",
       "      <td>Mike Liscio, Emily Bauer, Billy Bob Thompson, ...</td>\n",
       "      <td>Japan, Canada</td>\n",
       "      <td>May 1, 2018</td>\n",
       "      <td>2015</td>\n",
       "      <td>TV-Y7</td>\n",
       "      <td>2 Seasons</td>\n",
       "      <td>Anime Series, Kids' TV</td>\n",
       "      <td>Now that he's discovered the Pendulum Summonin...</td>\n",
       "    </tr>\n",
       "    <tr>\n",
       "      <th>8796</th>\n",
       "      <td>s8797</td>\n",
       "      <td>TV Show</td>\n",
       "      <td>Yunus Emre</td>\n",
       "      <td>NaN</td>\n",
       "      <td>Gökhan Atalay, Payidar Tüfekçioglu, Baran Akbu...</td>\n",
       "      <td>Turkey</td>\n",
       "      <td>January 17, 2017</td>\n",
       "      <td>2016</td>\n",
       "      <td>TV-PG</td>\n",
       "      <td>2 Seasons</td>\n",
       "      <td>International TV Shows, TV Dramas</td>\n",
       "      <td>During the Mongol invasions, Yunus Emre leaves...</td>\n",
       "    </tr>\n",
       "    <tr>\n",
       "      <th>8797</th>\n",
       "      <td>s8798</td>\n",
       "      <td>TV Show</td>\n",
       "      <td>Zak Storm</td>\n",
       "      <td>NaN</td>\n",
       "      <td>Michael Johnston, Jessica Gee-George, Christin...</td>\n",
       "      <td>United States, France, South Korea, Indonesia</td>\n",
       "      <td>September 13, 2018</td>\n",
       "      <td>2016</td>\n",
       "      <td>TV-Y7</td>\n",
       "      <td>3 Seasons</td>\n",
       "      <td>Kids' TV</td>\n",
       "      <td>Teen surfer Zak Storm is mysteriously transpor...</td>\n",
       "    </tr>\n",
       "    <tr>\n",
       "      <th>8800</th>\n",
       "      <td>s8801</td>\n",
       "      <td>TV Show</td>\n",
       "      <td>Zindagi Gulzar Hai</td>\n",
       "      <td>NaN</td>\n",
       "      <td>Sanam Saeed, Fawad Khan, Ayesha Omer, Mehreen ...</td>\n",
       "      <td>Pakistan</td>\n",
       "      <td>December 15, 2016</td>\n",
       "      <td>2012</td>\n",
       "      <td>TV-PG</td>\n",
       "      <td>1 Season</td>\n",
       "      <td>International TV Shows, Romantic TV Shows, TV ...</td>\n",
       "      <td>Strong-willed, middle-class Kashaf and carefre...</td>\n",
       "    </tr>\n",
       "    <tr>\n",
       "      <th>8803</th>\n",
       "      <td>s8804</td>\n",
       "      <td>TV Show</td>\n",
       "      <td>Zombie Dumb</td>\n",
       "      <td>NaN</td>\n",
       "      <td>NaN</td>\n",
       "      <td>NaN</td>\n",
       "      <td>July 1, 2019</td>\n",
       "      <td>2018</td>\n",
       "      <td>TV-Y7</td>\n",
       "      <td>2 Seasons</td>\n",
       "      <td>Kids' TV, Korean TV Shows, TV Comedies</td>\n",
       "      <td>While living alone in a spooky town, a young g...</td>\n",
       "    </tr>\n",
       "  </tbody>\n",
       "</table>\n",
       "<p>2634 rows × 12 columns</p>\n",
       "</div>"
      ],
      "text/plain": [
       "     show_id     type                                title director  \\\n",
       "1         s2  TV Show                        Blood & Water      NaN   \n",
       "3         s4  TV Show                Jailbirds New Orleans      NaN   \n",
       "4         s5  TV Show                         Kota Factory      NaN   \n",
       "10       s11  TV Show  Vendetta: Truth, Lies and The Mafia      NaN   \n",
       "14       s15  TV Show      Crime Stories: India Detectives      NaN   \n",
       "...      ...      ...                                  ...      ...   \n",
       "8795   s8796  TV Show                      Yu-Gi-Oh! Arc-V      NaN   \n",
       "8796   s8797  TV Show                           Yunus Emre      NaN   \n",
       "8797   s8798  TV Show                            Zak Storm      NaN   \n",
       "8800   s8801  TV Show                   Zindagi Gulzar Hai      NaN   \n",
       "8803   s8804  TV Show                          Zombie Dumb      NaN   \n",
       "\n",
       "                                                   cast  \\\n",
       "1     Ama Qamata, Khosi Ngema, Gail Mabalane, Thaban...   \n",
       "3                                                   NaN   \n",
       "4     Mayur More, Jitendra Kumar, Ranjan Raj, Alam K...   \n",
       "10                                                  NaN   \n",
       "14                                                  NaN   \n",
       "...                                                 ...   \n",
       "8795  Mike Liscio, Emily Bauer, Billy Bob Thompson, ...   \n",
       "8796  Gökhan Atalay, Payidar Tüfekçioglu, Baran Akbu...   \n",
       "8797  Michael Johnston, Jessica Gee-George, Christin...   \n",
       "8800  Sanam Saeed, Fawad Khan, Ayesha Omer, Mehreen ...   \n",
       "8803                                                NaN   \n",
       "\n",
       "                                            country          date_added  \\\n",
       "1                                      South Africa  September 24, 2021   \n",
       "3                                               NaN  September 24, 2021   \n",
       "4                                             India  September 24, 2021   \n",
       "10                                              NaN  September 24, 2021   \n",
       "14                                              NaN  September 22, 2021   \n",
       "...                                             ...                 ...   \n",
       "8795                                  Japan, Canada         May 1, 2018   \n",
       "8796                                         Turkey    January 17, 2017   \n",
       "8797  United States, France, South Korea, Indonesia  September 13, 2018   \n",
       "8800                                       Pakistan   December 15, 2016   \n",
       "8803                                            NaN        July 1, 2019   \n",
       "\n",
       "      release_year rating   duration  \\\n",
       "1             2021  TV-MA  2 Seasons   \n",
       "3             2021  TV-MA   1 Season   \n",
       "4             2021  TV-MA  2 Seasons   \n",
       "10            2021  TV-MA   1 Season   \n",
       "14            2021  TV-MA   1 Season   \n",
       "...            ...    ...        ...   \n",
       "8795          2015  TV-Y7  2 Seasons   \n",
       "8796          2016  TV-PG  2 Seasons   \n",
       "8797          2016  TV-Y7  3 Seasons   \n",
       "8800          2012  TV-PG   1 Season   \n",
       "8803          2018  TV-Y7  2 Seasons   \n",
       "\n",
       "                                              listed_in  \\\n",
       "1       International TV Shows, TV Dramas, TV Mysteries   \n",
       "3                                Docuseries, Reality TV   \n",
       "4     International TV Shows, Romantic TV Shows, TV ...   \n",
       "10    Crime TV Shows, Docuseries, International TV S...   \n",
       "14         British TV Shows, Crime TV Shows, Docuseries   \n",
       "...                                                 ...   \n",
       "8795                             Anime Series, Kids' TV   \n",
       "8796                  International TV Shows, TV Dramas   \n",
       "8797                                           Kids' TV   \n",
       "8800  International TV Shows, Romantic TV Shows, TV ...   \n",
       "8803             Kids' TV, Korean TV Shows, TV Comedies   \n",
       "\n",
       "                                            description  \n",
       "1     After crossing paths at a party, a Cape Town t...  \n",
       "3     Feuds, flirtations and toilet talk go down amo...  \n",
       "4     In a city of coaching centers known to train I...  \n",
       "10    Sicily boasts a bold \"Anti-Mafia\" coalition. B...  \n",
       "14    Cameras following Bengaluru police on the job ...  \n",
       "...                                                 ...  \n",
       "8795  Now that he's discovered the Pendulum Summonin...  \n",
       "8796  During the Mongol invasions, Yunus Emre leaves...  \n",
       "8797  Teen surfer Zak Storm is mysteriously transpor...  \n",
       "8800  Strong-willed, middle-class Kashaf and carefre...  \n",
       "8803  While living alone in a spooky town, a young g...  \n",
       "\n",
       "[2634 rows x 12 columns]"
      ]
     },
     "execution_count": 7,
     "metadata": {},
     "output_type": "execute_result"
    }
   ],
   "source": [
    "netflix_isna = pd.isna(netflix['director'])\n",
    "netflix[netflix_isna]"
   ]
  },
  {
   "attachments": {},
   "cell_type": "markdown",
   "metadata": {},
   "source": [
    "#checking for duplicates"
   ]
  },
  {
   "cell_type": "code",
   "execution_count": 8,
   "metadata": {},
   "outputs": [
    {
     "data": {
      "text/plain": [
       "False"
      ]
     },
     "execution_count": 8,
     "metadata": {},
     "output_type": "execute_result"
    }
   ],
   "source": [
    "netflix['show_id'].duplicated().any()"
   ]
  },
  {
   "attachments": {},
   "cell_type": "markdown",
   "metadata": {},
   "source": [
    "#Changing the date format of the column 'date_added' to 'datetime'"
   ]
  },
  {
   "cell_type": "code",
   "execution_count": 9,
   "metadata": {},
   "outputs": [
    {
     "data": {
      "text/html": [
       "<div>\n",
       "<style scoped>\n",
       "    .dataframe tbody tr th:only-of-type {\n",
       "        vertical-align: middle;\n",
       "    }\n",
       "\n",
       "    .dataframe tbody tr th {\n",
       "        vertical-align: top;\n",
       "    }\n",
       "\n",
       "    .dataframe thead th {\n",
       "        text-align: right;\n",
       "    }\n",
       "</style>\n",
       "<table border=\"1\" class=\"dataframe\">\n",
       "  <thead>\n",
       "    <tr style=\"text-align: right;\">\n",
       "      <th></th>\n",
       "      <th>show_id</th>\n",
       "      <th>type</th>\n",
       "      <th>title</th>\n",
       "      <th>director</th>\n",
       "      <th>cast</th>\n",
       "      <th>country</th>\n",
       "      <th>date_added</th>\n",
       "      <th>release_year</th>\n",
       "      <th>rating</th>\n",
       "      <th>duration</th>\n",
       "      <th>listed_in</th>\n",
       "      <th>description</th>\n",
       "    </tr>\n",
       "  </thead>\n",
       "  <tbody>\n",
       "    <tr>\n",
       "      <th>0</th>\n",
       "      <td>s1</td>\n",
       "      <td>Movie</td>\n",
       "      <td>Dick Johnson Is Dead</td>\n",
       "      <td>Kirsten Johnson</td>\n",
       "      <td>NaN</td>\n",
       "      <td>United States</td>\n",
       "      <td>2021-09-25</td>\n",
       "      <td>2020</td>\n",
       "      <td>PG-13</td>\n",
       "      <td>90 min</td>\n",
       "      <td>Documentaries</td>\n",
       "      <td>As her father nears the end of his life, filmm...</td>\n",
       "    </tr>\n",
       "    <tr>\n",
       "      <th>1</th>\n",
       "      <td>s2</td>\n",
       "      <td>TV Show</td>\n",
       "      <td>Blood &amp; Water</td>\n",
       "      <td>NaN</td>\n",
       "      <td>Ama Qamata, Khosi Ngema, Gail Mabalane, Thaban...</td>\n",
       "      <td>South Africa</td>\n",
       "      <td>2021-09-24</td>\n",
       "      <td>2021</td>\n",
       "      <td>TV-MA</td>\n",
       "      <td>2 Seasons</td>\n",
       "      <td>International TV Shows, TV Dramas, TV Mysteries</td>\n",
       "      <td>After crossing paths at a party, a Cape Town t...</td>\n",
       "    </tr>\n",
       "    <tr>\n",
       "      <th>2</th>\n",
       "      <td>s3</td>\n",
       "      <td>TV Show</td>\n",
       "      <td>Ganglands</td>\n",
       "      <td>Julien Leclercq</td>\n",
       "      <td>Sami Bouajila, Tracy Gotoas, Samuel Jouy, Nabi...</td>\n",
       "      <td>NaN</td>\n",
       "      <td>2021-09-24</td>\n",
       "      <td>2021</td>\n",
       "      <td>TV-MA</td>\n",
       "      <td>1 Season</td>\n",
       "      <td>Crime TV Shows, International TV Shows, TV Act...</td>\n",
       "      <td>To protect his family from a powerful drug lor...</td>\n",
       "    </tr>\n",
       "    <tr>\n",
       "      <th>3</th>\n",
       "      <td>s4</td>\n",
       "      <td>TV Show</td>\n",
       "      <td>Jailbirds New Orleans</td>\n",
       "      <td>NaN</td>\n",
       "      <td>NaN</td>\n",
       "      <td>NaN</td>\n",
       "      <td>2021-09-24</td>\n",
       "      <td>2021</td>\n",
       "      <td>TV-MA</td>\n",
       "      <td>1 Season</td>\n",
       "      <td>Docuseries, Reality TV</td>\n",
       "      <td>Feuds, flirtations and toilet talk go down amo...</td>\n",
       "    </tr>\n",
       "    <tr>\n",
       "      <th>4</th>\n",
       "      <td>s5</td>\n",
       "      <td>TV Show</td>\n",
       "      <td>Kota Factory</td>\n",
       "      <td>NaN</td>\n",
       "      <td>Mayur More, Jitendra Kumar, Ranjan Raj, Alam K...</td>\n",
       "      <td>India</td>\n",
       "      <td>2021-09-24</td>\n",
       "      <td>2021</td>\n",
       "      <td>TV-MA</td>\n",
       "      <td>2 Seasons</td>\n",
       "      <td>International TV Shows, Romantic TV Shows, TV ...</td>\n",
       "      <td>In a city of coaching centers known to train I...</td>\n",
       "    </tr>\n",
       "    <tr>\n",
       "      <th>...</th>\n",
       "      <td>...</td>\n",
       "      <td>...</td>\n",
       "      <td>...</td>\n",
       "      <td>...</td>\n",
       "      <td>...</td>\n",
       "      <td>...</td>\n",
       "      <td>...</td>\n",
       "      <td>...</td>\n",
       "      <td>...</td>\n",
       "      <td>...</td>\n",
       "      <td>...</td>\n",
       "      <td>...</td>\n",
       "    </tr>\n",
       "    <tr>\n",
       "      <th>8802</th>\n",
       "      <td>s8803</td>\n",
       "      <td>Movie</td>\n",
       "      <td>Zodiac</td>\n",
       "      <td>David Fincher</td>\n",
       "      <td>Mark Ruffalo, Jake Gyllenhaal, Robert Downey J...</td>\n",
       "      <td>United States</td>\n",
       "      <td>2019-11-20</td>\n",
       "      <td>2007</td>\n",
       "      <td>R</td>\n",
       "      <td>158 min</td>\n",
       "      <td>Cult Movies, Dramas, Thrillers</td>\n",
       "      <td>A political cartoonist, a crime reporter and a...</td>\n",
       "    </tr>\n",
       "    <tr>\n",
       "      <th>8803</th>\n",
       "      <td>s8804</td>\n",
       "      <td>TV Show</td>\n",
       "      <td>Zombie Dumb</td>\n",
       "      <td>NaN</td>\n",
       "      <td>NaN</td>\n",
       "      <td>NaN</td>\n",
       "      <td>2019-07-01</td>\n",
       "      <td>2018</td>\n",
       "      <td>TV-Y7</td>\n",
       "      <td>2 Seasons</td>\n",
       "      <td>Kids' TV, Korean TV Shows, TV Comedies</td>\n",
       "      <td>While living alone in a spooky town, a young g...</td>\n",
       "    </tr>\n",
       "    <tr>\n",
       "      <th>8804</th>\n",
       "      <td>s8805</td>\n",
       "      <td>Movie</td>\n",
       "      <td>Zombieland</td>\n",
       "      <td>Ruben Fleischer</td>\n",
       "      <td>Jesse Eisenberg, Woody Harrelson, Emma Stone, ...</td>\n",
       "      <td>United States</td>\n",
       "      <td>2019-11-01</td>\n",
       "      <td>2009</td>\n",
       "      <td>R</td>\n",
       "      <td>88 min</td>\n",
       "      <td>Comedies, Horror Movies</td>\n",
       "      <td>Looking to survive in a world taken over by zo...</td>\n",
       "    </tr>\n",
       "    <tr>\n",
       "      <th>8805</th>\n",
       "      <td>s8806</td>\n",
       "      <td>Movie</td>\n",
       "      <td>Zoom</td>\n",
       "      <td>Peter Hewitt</td>\n",
       "      <td>Tim Allen, Courteney Cox, Chevy Chase, Kate Ma...</td>\n",
       "      <td>United States</td>\n",
       "      <td>2020-01-11</td>\n",
       "      <td>2006</td>\n",
       "      <td>PG</td>\n",
       "      <td>88 min</td>\n",
       "      <td>Children &amp; Family Movies, Comedies</td>\n",
       "      <td>Dragged from civilian life, a former superhero...</td>\n",
       "    </tr>\n",
       "    <tr>\n",
       "      <th>8806</th>\n",
       "      <td>s8807</td>\n",
       "      <td>Movie</td>\n",
       "      <td>Zubaan</td>\n",
       "      <td>Mozez Singh</td>\n",
       "      <td>Vicky Kaushal, Sarah-Jane Dias, Raaghav Chanan...</td>\n",
       "      <td>India</td>\n",
       "      <td>2019-03-02</td>\n",
       "      <td>2015</td>\n",
       "      <td>TV-14</td>\n",
       "      <td>111 min</td>\n",
       "      <td>Dramas, International Movies, Music &amp; Musicals</td>\n",
       "      <td>A scrappy but poor boy worms his way into a ty...</td>\n",
       "    </tr>\n",
       "  </tbody>\n",
       "</table>\n",
       "<p>8807 rows × 12 columns</p>\n",
       "</div>"
      ],
      "text/plain": [
       "     show_id     type                  title         director  \\\n",
       "0         s1    Movie   Dick Johnson Is Dead  Kirsten Johnson   \n",
       "1         s2  TV Show          Blood & Water              NaN   \n",
       "2         s3  TV Show              Ganglands  Julien Leclercq   \n",
       "3         s4  TV Show  Jailbirds New Orleans              NaN   \n",
       "4         s5  TV Show           Kota Factory              NaN   \n",
       "...      ...      ...                    ...              ...   \n",
       "8802   s8803    Movie                 Zodiac    David Fincher   \n",
       "8803   s8804  TV Show            Zombie Dumb              NaN   \n",
       "8804   s8805    Movie             Zombieland  Ruben Fleischer   \n",
       "8805   s8806    Movie                   Zoom     Peter Hewitt   \n",
       "8806   s8807    Movie                 Zubaan      Mozez Singh   \n",
       "\n",
       "                                                   cast        country  \\\n",
       "0                                                   NaN  United States   \n",
       "1     Ama Qamata, Khosi Ngema, Gail Mabalane, Thaban...   South Africa   \n",
       "2     Sami Bouajila, Tracy Gotoas, Samuel Jouy, Nabi...            NaN   \n",
       "3                                                   NaN            NaN   \n",
       "4     Mayur More, Jitendra Kumar, Ranjan Raj, Alam K...          India   \n",
       "...                                                 ...            ...   \n",
       "8802  Mark Ruffalo, Jake Gyllenhaal, Robert Downey J...  United States   \n",
       "8803                                                NaN            NaN   \n",
       "8804  Jesse Eisenberg, Woody Harrelson, Emma Stone, ...  United States   \n",
       "8805  Tim Allen, Courteney Cox, Chevy Chase, Kate Ma...  United States   \n",
       "8806  Vicky Kaushal, Sarah-Jane Dias, Raaghav Chanan...          India   \n",
       "\n",
       "     date_added  release_year rating   duration  \\\n",
       "0    2021-09-25          2020  PG-13     90 min   \n",
       "1    2021-09-24          2021  TV-MA  2 Seasons   \n",
       "2    2021-09-24          2021  TV-MA   1 Season   \n",
       "3    2021-09-24          2021  TV-MA   1 Season   \n",
       "4    2021-09-24          2021  TV-MA  2 Seasons   \n",
       "...         ...           ...    ...        ...   \n",
       "8802 2019-11-20          2007      R    158 min   \n",
       "8803 2019-07-01          2018  TV-Y7  2 Seasons   \n",
       "8804 2019-11-01          2009      R     88 min   \n",
       "8805 2020-01-11          2006     PG     88 min   \n",
       "8806 2019-03-02          2015  TV-14    111 min   \n",
       "\n",
       "                                              listed_in  \\\n",
       "0                                         Documentaries   \n",
       "1       International TV Shows, TV Dramas, TV Mysteries   \n",
       "2     Crime TV Shows, International TV Shows, TV Act...   \n",
       "3                                Docuseries, Reality TV   \n",
       "4     International TV Shows, Romantic TV Shows, TV ...   \n",
       "...                                                 ...   \n",
       "8802                     Cult Movies, Dramas, Thrillers   \n",
       "8803             Kids' TV, Korean TV Shows, TV Comedies   \n",
       "8804                            Comedies, Horror Movies   \n",
       "8805                 Children & Family Movies, Comedies   \n",
       "8806     Dramas, International Movies, Music & Musicals   \n",
       "\n",
       "                                            description  \n",
       "0     As her father nears the end of his life, filmm...  \n",
       "1     After crossing paths at a party, a Cape Town t...  \n",
       "2     To protect his family from a powerful drug lor...  \n",
       "3     Feuds, flirtations and toilet talk go down amo...  \n",
       "4     In a city of coaching centers known to train I...  \n",
       "...                                                 ...  \n",
       "8802  A political cartoonist, a crime reporter and a...  \n",
       "8803  While living alone in a spooky town, a young g...  \n",
       "8804  Looking to survive in a world taken over by zo...  \n",
       "8805  Dragged from civilian life, a former superhero...  \n",
       "8806  A scrappy but poor boy worms his way into a ty...  \n",
       "\n",
       "[8807 rows x 12 columns]"
      ]
     },
     "execution_count": 9,
     "metadata": {},
     "output_type": "execute_result"
    }
   ],
   "source": [
    "netflix['date_added']= pd.to_datetime(netflix['date_added'].str.strip(), format= \"%B %d, %Y\") \n",
    "netflix\n"
   ]
  },
  {
   "attachments": {},
   "cell_type": "markdown",
   "metadata": {},
   "source": [
    "#Checking unique type of data of the column 'Type', There are only two types of data: Movie and TV Show"
   ]
  },
  {
   "cell_type": "code",
   "execution_count": 10,
   "metadata": {},
   "outputs": [
    {
     "data": {
      "text/plain": [
       "array(['Movie', 'TV Show'], dtype=object)"
      ]
     },
     "execution_count": 10,
     "metadata": {},
     "output_type": "execute_result"
    }
   ],
   "source": [
    "type_data = netflix.type.unique()\n",
    "type_data"
   ]
  },
  {
   "attachments": {},
   "cell_type": "markdown",
   "metadata": {},
   "source": [
    "Phase 4 Exploratory Data Analysis\n",
    "Number of movies/tv-shows added to the streaming platform by Year"
   ]
  },
  {
   "cell_type": "code",
   "execution_count": 11,
   "metadata": {},
   "outputs": [
    {
     "data": {
      "text/plain": [
       "2019    2016\n",
       "2020    1879\n",
       "2018    1649\n",
       "2021    1498\n",
       "2017    1188\n",
       "2016     429\n",
       "2015      82\n",
       "2014      24\n",
       "2011      13\n",
       "2013      11\n",
       "2012       3\n",
       "2009       2\n",
       "2008       2\n",
       "2010       1\n",
       "Name: date_added, dtype: Int64"
      ]
     },
     "execution_count": 11,
     "metadata": {},
     "output_type": "execute_result"
    }
   ],
   "source": [
    "# year with the most added movies/tv-shows\n",
    "netflix_release_year = netflix.date_added.dt.year.astype('Int64').value_counts()\n",
    "netflix_release_year"
   ]
  },
  {
   "attachments": {},
   "cell_type": "markdown",
   "metadata": {},
   "source": [
    "The month with the most added movies/tv-shows"
   ]
  },
  {
   "cell_type": "code",
   "execution_count": 12,
   "metadata": {},
   "outputs": [
    {
     "data": {
      "text/plain": [
       "7     827\n",
       "12    813\n",
       "9     770\n",
       "4     764\n",
       "10    760\n",
       "8     755\n",
       "3     742\n",
       "1     738\n",
       "6     728\n",
       "11    705\n",
       "5     632\n",
       "2     563\n",
       "Name: date_added, dtype: Int64"
      ]
     },
     "execution_count": 12,
     "metadata": {},
     "output_type": "execute_result"
    }
   ],
   "source": [
    "netflix_release_month = netflix.date_added.dt.month.astype('Int64').value_counts()\n",
    "netflix_release_month"
   ]
  },
  {
   "attachments": {},
   "cell_type": "markdown",
   "metadata": {},
   "source": [
    "Day with the most added movies/tv-shows"
   ]
  },
  {
   "cell_type": "code",
   "execution_count": 13,
   "metadata": {},
   "outputs": [
    {
     "data": {
      "text/plain": [
       "1     2212\n",
       "15     687\n",
       "2      325\n",
       "16     289\n",
       "31     274\n",
       "20     249\n",
       "19     243\n",
       "5      231\n",
       "22     230\n",
       "10     214\n",
       "30     210\n",
       "6      210\n",
       "18     207\n",
       "26     206\n",
       "8      201\n",
       "14     198\n",
       "25     197\n",
       "27     195\n",
       "7      194\n",
       "21     193\n",
       "28     190\n",
       "23     184\n",
       "12     181\n",
       "17     180\n",
       "4      175\n",
       "13     175\n",
       "24     159\n",
       "3      151\n",
       "11     149\n",
       "9      147\n",
       "29     141\n",
       "Name: date_added, dtype: Int64"
      ]
     },
     "execution_count": 13,
     "metadata": {},
     "output_type": "execute_result"
    }
   ],
   "source": [
    "netflix_release_day = netflix.date_added.dt.day.astype('Int64').value_counts()\n",
    "netflix_release_day"
   ]
  },
  {
   "attachments": {},
   "cell_type": "markdown",
   "metadata": {},
   "source": [
    "Number of Movies vs. TV-Shows"
   ]
  },
  {
   "cell_type": "code",
   "execution_count": 14,
   "metadata": {},
   "outputs": [
    {
     "data": {
      "text/plain": [
       "Movie      6131\n",
       "TV Show    2676\n",
       "Name: type, dtype: int64"
      ]
     },
     "execution_count": 14,
     "metadata": {},
     "output_type": "execute_result"
    }
   ],
   "source": [
    "netflix_type = netflix.type.value_counts()\n",
    "netflix_type"
   ]
  },
  {
   "attachments": {},
   "cell_type": "markdown",
   "metadata": {},
   "source": [
    "The year with the most releases movies/tv-shows"
   ]
  },
  {
   "cell_type": "code",
   "execution_count": 15,
   "metadata": {},
   "outputs": [
    {
     "data": {
      "text/plain": [
       "2018    1147\n",
       "2017    1032\n",
       "2019    1030\n",
       "2020     953\n",
       "2016     902\n",
       "        ... \n",
       "1959       1\n",
       "1925       1\n",
       "1961       1\n",
       "1947       1\n",
       "1966       1\n",
       "Name: release_year, Length: 74, dtype: int64"
      ]
     },
     "execution_count": 15,
     "metadata": {},
     "output_type": "execute_result"
    }
   ],
   "source": [
    "movietv_release_year = netflix.release_year.value_counts()\n",
    "movietv_release_year"
   ]
  },
  {
   "attachments": {},
   "cell_type": "markdown",
   "metadata": {},
   "source": [
    "The oldest movie/tv-show on streaming"
   ]
  },
  {
   "cell_type": "code",
   "execution_count": 16,
   "metadata": {},
   "outputs": [
    {
     "data": {
      "text/html": [
       "<div>\n",
       "<style scoped>\n",
       "    .dataframe tbody tr th:only-of-type {\n",
       "        vertical-align: middle;\n",
       "    }\n",
       "\n",
       "    .dataframe tbody tr th {\n",
       "        vertical-align: top;\n",
       "    }\n",
       "\n",
       "    .dataframe thead th {\n",
       "        text-align: right;\n",
       "    }\n",
       "</style>\n",
       "<table border=\"1\" class=\"dataframe\">\n",
       "  <thead>\n",
       "    <tr style=\"text-align: right;\">\n",
       "      <th></th>\n",
       "      <th>show_id</th>\n",
       "      <th>type</th>\n",
       "      <th>title</th>\n",
       "      <th>director</th>\n",
       "      <th>cast</th>\n",
       "      <th>country</th>\n",
       "      <th>date_added</th>\n",
       "      <th>release_year</th>\n",
       "      <th>rating</th>\n",
       "      <th>duration</th>\n",
       "      <th>listed_in</th>\n",
       "      <th>description</th>\n",
       "    </tr>\n",
       "  </thead>\n",
       "  <tbody>\n",
       "    <tr>\n",
       "      <th>4250</th>\n",
       "      <td>s4251</td>\n",
       "      <td>TV Show</td>\n",
       "      <td>Pioneers: First Women Filmmakers*</td>\n",
       "      <td>NaN</td>\n",
       "      <td>NaN</td>\n",
       "      <td>NaN</td>\n",
       "      <td>2018-12-30</td>\n",
       "      <td>1925</td>\n",
       "      <td>TV-14</td>\n",
       "      <td>1 Season</td>\n",
       "      <td>TV Shows</td>\n",
       "      <td>This collection restores films from women who ...</td>\n",
       "    </tr>\n",
       "  </tbody>\n",
       "</table>\n",
       "</div>"
      ],
      "text/plain": [
       "     show_id     type                              title director cast  \\\n",
       "4250   s4251  TV Show  Pioneers: First Women Filmmakers*      NaN  NaN   \n",
       "\n",
       "     country date_added  release_year rating  duration listed_in  \\\n",
       "4250     NaN 2018-12-30          1925  TV-14  1 Season  TV Shows   \n",
       "\n",
       "                                            description  \n",
       "4250  This collection restores films from women who ...  "
      ]
     },
     "execution_count": 16,
     "metadata": {},
     "output_type": "execute_result"
    }
   ],
   "source": [
    "netflix[netflix['release_year']== 1925]"
   ]
  },
  {
   "attachments": {},
   "cell_type": "markdown",
   "metadata": {},
   "source": [
    "Top 30 Countries producing the most movies/tv-shows"
   ]
  },
  {
   "cell_type": "code",
   "execution_count": 17,
   "metadata": {},
   "outputs": [
    {
     "data": {
      "text/html": [
       "<div>\n",
       "<style scoped>\n",
       "    .dataframe tbody tr th:only-of-type {\n",
       "        vertical-align: middle;\n",
       "    }\n",
       "\n",
       "    .dataframe tbody tr th {\n",
       "        vertical-align: top;\n",
       "    }\n",
       "\n",
       "    .dataframe thead th {\n",
       "        text-align: right;\n",
       "    }\n",
       "</style>\n",
       "<table border=\"1\" class=\"dataframe\">\n",
       "  <thead>\n",
       "    <tr style=\"text-align: right;\">\n",
       "      <th></th>\n",
       "      <th>type</th>\n",
       "      <th>title</th>\n",
       "      <th>variable</th>\n",
       "      <th>Country</th>\n",
       "    </tr>\n",
       "  </thead>\n",
       "  <tbody>\n",
       "    <tr>\n",
       "      <th>0</th>\n",
       "      <td>Movie</td>\n",
       "      <td>Dick Johnson Is Dead</td>\n",
       "      <td>0</td>\n",
       "      <td>United States</td>\n",
       "    </tr>\n",
       "    <tr>\n",
       "      <th>1</th>\n",
       "      <td>TV Show</td>\n",
       "      <td>Blood &amp; Water</td>\n",
       "      <td>0</td>\n",
       "      <td>South Africa</td>\n",
       "    </tr>\n",
       "    <tr>\n",
       "      <th>4</th>\n",
       "      <td>TV Show</td>\n",
       "      <td>Kota Factory</td>\n",
       "      <td>0</td>\n",
       "      <td>India</td>\n",
       "    </tr>\n",
       "    <tr>\n",
       "      <th>7</th>\n",
       "      <td>Movie</td>\n",
       "      <td>Sankofa</td>\n",
       "      <td>0</td>\n",
       "      <td>United States</td>\n",
       "    </tr>\n",
       "    <tr>\n",
       "      <th>8</th>\n",
       "      <td>TV Show</td>\n",
       "      <td>The Great British Baking Show</td>\n",
       "      <td>0</td>\n",
       "      <td>United Kingdom</td>\n",
       "    </tr>\n",
       "    <tr>\n",
       "      <th>...</th>\n",
       "      <td>...</td>\n",
       "      <td>...</td>\n",
       "      <td>...</td>\n",
       "      <td>...</td>\n",
       "    </tr>\n",
       "    <tr>\n",
       "      <th>78859</th>\n",
       "      <td>Movie</td>\n",
       "      <td>The Look of Silence</td>\n",
       "      <td>8</td>\n",
       "      <td>Germany</td>\n",
       "    </tr>\n",
       "    <tr>\n",
       "      <th>85496</th>\n",
       "      <td>Movie</td>\n",
       "      <td>Barbecue</td>\n",
       "      <td>9</td>\n",
       "      <td>Sweden</td>\n",
       "    </tr>\n",
       "    <tr>\n",
       "      <th>87666</th>\n",
       "      <td>Movie</td>\n",
       "      <td>The Look of Silence</td>\n",
       "      <td>9</td>\n",
       "      <td>Netherlands</td>\n",
       "    </tr>\n",
       "    <tr>\n",
       "      <th>94303</th>\n",
       "      <td>Movie</td>\n",
       "      <td>Barbecue</td>\n",
       "      <td>10</td>\n",
       "      <td>United States</td>\n",
       "    </tr>\n",
       "    <tr>\n",
       "      <th>103110</th>\n",
       "      <td>Movie</td>\n",
       "      <td>Barbecue</td>\n",
       "      <td>11</td>\n",
       "      <td>Uruguay</td>\n",
       "    </tr>\n",
       "  </tbody>\n",
       "</table>\n",
       "<p>10019 rows × 4 columns</p>\n",
       "</div>"
      ],
      "text/plain": [
       "           type                          title variable         Country\n",
       "0         Movie           Dick Johnson Is Dead        0   United States\n",
       "1       TV Show                  Blood & Water        0    South Africa\n",
       "4       TV Show                   Kota Factory        0           India\n",
       "7         Movie                        Sankofa        0   United States\n",
       "8       TV Show  The Great British Baking Show        0  United Kingdom\n",
       "...         ...                            ...      ...             ...\n",
       "78859     Movie            The Look of Silence        8         Germany\n",
       "85496     Movie                       Barbecue        9          Sweden\n",
       "87666     Movie            The Look of Silence        9     Netherlands\n",
       "94303     Movie                       Barbecue       10   United States\n",
       "103110    Movie                       Barbecue       11         Uruguay\n",
       "\n",
       "[10019 rows x 4 columns]"
      ]
     },
     "execution_count": 17,
     "metadata": {},
     "output_type": "execute_result"
    }
   ],
   "source": [
    "# country unique\n",
    "#netflix['country'].unique()\n",
    "# new dataset for the country count\n",
    "country_count = netflix.copy()\n",
    "country_count = pd.concat([country_count, netflix['country'].str.split(\",\", expand=True)], axis=1)\n",
    "country_count = country_count.melt(id_vars=[\"type\",\"title\"], value_vars=range(12), value_name=\"Country\")\n",
    "country_count = country_count[country_count[\"Country\"].notna()]\n",
    "country_count[\"Country\"] = country_count[\"Country\"].str.strip()\n",
    "country_count"
   ]
  },
  {
   "cell_type": "code",
   "execution_count": 18,
   "metadata": {},
   "outputs": [
    {
     "data": {
      "text/plain": [
       "array(['United States', 'South Africa', 'India', 'United Kingdom',\n",
       "       'Germany', 'Mexico', 'Turkey', 'Australia', 'Finland', 'China',\n",
       "       'Nigeria', 'Japan', 'Spain', 'France', 'Belgium', 'South Korea',\n",
       "       'Argentina', 'Russia', 'Canada', 'Hong Kong', 'Italy', '',\n",
       "       'Ireland', 'New Zealand', 'Jordan', 'Colombia', 'Switzerland',\n",
       "       'Israel', 'Brazil', 'Taiwan', 'Bulgaria', 'Poland', 'Saudi Arabia',\n",
       "       'Thailand', 'Indonesia', 'Egypt', 'Kuwait', 'Malaysia', 'Vietnam',\n",
       "       'Sweden', 'Lebanon', 'Romania', 'Philippines', 'Iceland',\n",
       "       'Denmark', 'United Arab Emirates', 'Netherlands', 'Norway',\n",
       "       'Syria', 'Mauritius', 'Austria', 'Czech Republic', 'Cameroon',\n",
       "       'Uruguay', 'Kenya', 'Chile', 'Luxembourg', 'Bangladesh',\n",
       "       'Portugal', 'Hungary', 'Senegal', 'Singapore', 'Serbia', 'Namibia',\n",
       "       'Peru', 'Mozambique', 'Belarus', 'Ghana', 'Zimbabwe',\n",
       "       'Puerto Rico', 'Pakistan', 'Cyprus', 'Paraguay', 'Croatia',\n",
       "       'Cambodia', 'Georgia', 'Soviet Union', 'Greece', 'West Germany',\n",
       "       'Iran', 'Venezuela', 'Slovenia', 'Guatemala', 'Ukraine', 'Jamaica',\n",
       "       'Somalia', 'Nepal', 'Palestine', 'Algeria', 'Malta', 'Angola',\n",
       "       'Iraq', 'Malawi', 'Qatar', 'Morocco', 'Slovakia', 'Bermuda',\n",
       "       'Armenia', 'Sri Lanka', 'Cuba', 'Nicaragua', 'Azerbaijan',\n",
       "       'Botswana', 'Vatican City', 'Kazakhstan', 'Lithuania',\n",
       "       'East Germany', 'Burkina Faso', 'Cayman Islands', 'Albania',\n",
       "       'Ecuador', 'Dominican Republic', 'Samoa', 'Sudan', 'Latvia',\n",
       "       'Liechtenstein', 'Panama', 'Uganda', 'Montenegro', 'Bahamas',\n",
       "       'Afghanistan', 'Ethiopia', 'Mongolia'], dtype=object)"
      ]
     },
     "execution_count": 18,
     "metadata": {},
     "output_type": "execute_result"
    }
   ],
   "source": [
    "# countries unique\n",
    "country_count.Country.unique()"
   ]
  },
  {
   "cell_type": "code",
   "execution_count": 19,
   "metadata": {},
   "outputs": [
    {
     "data": {
      "text/plain": [
       "United States     3690\n",
       "India             1046\n",
       "United Kingdom     806\n",
       "Canada             445\n",
       "France             393\n",
       "                  ... \n",
       "Armenia              1\n",
       "Sri Lanka            1\n",
       "Cuba                 1\n",
       "Nicaragua            1\n",
       "Mongolia             1\n",
       "Name: Country, Length: 123, dtype: int64"
      ]
     },
     "execution_count": 19,
     "metadata": {},
     "output_type": "execute_result"
    }
   ],
   "source": [
    "# countries with the most number of content streaming\n",
    "country_count.Country.value_counts()"
   ]
  },
  {
   "attachments": {},
   "cell_type": "markdown",
   "metadata": {},
   "source": [
    "Top 30 Cast members with the most content"
   ]
  },
  {
   "cell_type": "code",
   "execution_count": 20,
   "metadata": {},
   "outputs": [
    {
     "data": {
      "text/html": [
       "<div>\n",
       "<style scoped>\n",
       "    .dataframe tbody tr th:only-of-type {\n",
       "        vertical-align: middle;\n",
       "    }\n",
       "\n",
       "    .dataframe tbody tr th {\n",
       "        vertical-align: top;\n",
       "    }\n",
       "\n",
       "    .dataframe thead th {\n",
       "        text-align: right;\n",
       "    }\n",
       "</style>\n",
       "<table border=\"1\" class=\"dataframe\">\n",
       "  <thead>\n",
       "    <tr style=\"text-align: right;\">\n",
       "      <th></th>\n",
       "      <th>type</th>\n",
       "      <th>title</th>\n",
       "      <th>variable</th>\n",
       "      <th>Cast_name</th>\n",
       "    </tr>\n",
       "  </thead>\n",
       "  <tbody>\n",
       "    <tr>\n",
       "      <th>1</th>\n",
       "      <td>TV Show</td>\n",
       "      <td>Blood &amp; Water</td>\n",
       "      <td>0</td>\n",
       "      <td>Ama Qamata</td>\n",
       "    </tr>\n",
       "    <tr>\n",
       "      <th>2</th>\n",
       "      <td>TV Show</td>\n",
       "      <td>Ganglands</td>\n",
       "      <td>0</td>\n",
       "      <td>Sami Bouajila</td>\n",
       "    </tr>\n",
       "    <tr>\n",
       "      <th>4</th>\n",
       "      <td>TV Show</td>\n",
       "      <td>Kota Factory</td>\n",
       "      <td>0</td>\n",
       "      <td>Mayur More</td>\n",
       "    </tr>\n",
       "    <tr>\n",
       "      <th>5</th>\n",
       "      <td>TV Show</td>\n",
       "      <td>Midnight Mass</td>\n",
       "      <td>0</td>\n",
       "      <td>Kate Siegel</td>\n",
       "    </tr>\n",
       "    <tr>\n",
       "      <th>6</th>\n",
       "      <td>Movie</td>\n",
       "      <td>My Little Pony: A New Generation</td>\n",
       "      <td>0</td>\n",
       "      <td>Vanessa Hudgens</td>\n",
       "    </tr>\n",
       "    <tr>\n",
       "      <th>...</th>\n",
       "      <td>...</td>\n",
       "      <td>...</td>\n",
       "      <td>...</td>\n",
       "      <td>...</td>\n",
       "    </tr>\n",
       "    <tr>\n",
       "      <th>380555</th>\n",
       "      <td>TV Show</td>\n",
       "      <td>Social Distance</td>\n",
       "      <td>43</td>\n",
       "      <td>Niles Fitch</td>\n",
       "    </tr>\n",
       "    <tr>\n",
       "      <th>382150</th>\n",
       "      <td>TV Show</td>\n",
       "      <td>Creeped Out</td>\n",
       "      <td>43</td>\n",
       "      <td>Andonis Anthony</td>\n",
       "    </tr>\n",
       "    <tr>\n",
       "      <th>382475</th>\n",
       "      <td>TV Show</td>\n",
       "      <td>Black Mirror</td>\n",
       "      <td>43</td>\n",
       "      <td>Michael Smiley</td>\n",
       "    </tr>\n",
       "    <tr>\n",
       "      <th>382921</th>\n",
       "      <td>TV Show</td>\n",
       "      <td>COMEDIANS of the world</td>\n",
       "      <td>43</td>\n",
       "      <td>Adib Alkhalidey</td>\n",
       "    </tr>\n",
       "    <tr>\n",
       "      <th>384887</th>\n",
       "      <td>Movie</td>\n",
       "      <td>Arthur Christmas</td>\n",
       "      <td>43</td>\n",
       "      <td>Brian Cummings</td>\n",
       "    </tr>\n",
       "  </tbody>\n",
       "</table>\n",
       "<p>64105 rows × 4 columns</p>\n",
       "</div>"
      ],
      "text/plain": [
       "           type                             title variable        Cast_name\n",
       "1       TV Show                     Blood & Water        0       Ama Qamata\n",
       "2       TV Show                         Ganglands        0    Sami Bouajila\n",
       "4       TV Show                      Kota Factory        0       Mayur More\n",
       "5       TV Show                     Midnight Mass        0      Kate Siegel\n",
       "6         Movie  My Little Pony: A New Generation        0  Vanessa Hudgens\n",
       "...         ...                               ...      ...              ...\n",
       "380555  TV Show                   Social Distance       43      Niles Fitch\n",
       "382150  TV Show                       Creeped Out       43  Andonis Anthony\n",
       "382475  TV Show                      Black Mirror       43   Michael Smiley\n",
       "382921  TV Show            COMEDIANS of the world       43  Adib Alkhalidey\n",
       "384887    Movie                  Arthur Christmas       43   Brian Cummings\n",
       "\n",
       "[64105 rows x 4 columns]"
      ]
     },
     "execution_count": 20,
     "metadata": {},
     "output_type": "execute_result"
    }
   ],
   "source": [
    "#New dataset for the cast count\n",
    "cast_count = netflix.copy()\n",
    "cast_count = pd.concat([cast_count, netflix['cast'].str.split(\",\", expand=True)], axis=1)\n",
    "cast_count = cast_count.melt(id_vars=[\"type\",\"title\"], value_vars=range(44), value_name=\"Cast_name\")\n",
    "cast_count = cast_count[cast_count[\"Cast_name\"].notna()]\n",
    "cast_count[\"Cast_name\"] = cast_count[\"Cast_name\"].str.strip()\n",
    "cast_count"
   ]
  },
  {
   "cell_type": "code",
   "execution_count": 21,
   "metadata": {},
   "outputs": [
    {
     "data": {
      "text/plain": [
       "Anupam Kher            43\n",
       "Shah Rukh Khan         35\n",
       "Julie Tejwani          33\n",
       "Takahiro Sakurai       32\n",
       "Naseeruddin Shah       32\n",
       "Rupa Bhimani           31\n",
       "Om Puri                30\n",
       "Akshay Kumar           30\n",
       "Yuki Kaji              29\n",
       "Amitabh Bachchan       28\n",
       "Paresh Rawal           28\n",
       "Boman Irani            27\n",
       "Vincent Tong           26\n",
       "Rajesh Kava            26\n",
       "Andrea Libman          25\n",
       "Kareena Kapoor         25\n",
       "John Cleese            24\n",
       "Samuel L. Jackson      24\n",
       "Tara Strong            23\n",
       "Jigna Bhardwaj         23\n",
       "Fred Tatasciore        23\n",
       "Daisuke Ono            22\n",
       "Ajay Devgn             21\n",
       "Ashleigh Ball          21\n",
       "Nicolas Cage           21\n",
       "Nawazuddin Siddiqui    21\n",
       "Kay Kay Menon          21\n",
       "Junichi Suwabe         21\n",
       "Adam Sandler           20\n",
       "David Attenborough     20\n",
       "Name: Cast_name, dtype: int64"
      ]
     },
     "execution_count": 21,
     "metadata": {},
     "output_type": "execute_result"
    }
   ],
   "source": [
    "cast_count.Cast_name.value_counts()[:30]"
   ]
  },
  {
   "cell_type": "markdown",
   "metadata": {},
   "source": [
    "Phase 5: Visualization\n",
    "\n",
    "Movies vs. TV-Shows"
   ]
  },
  {
   "cell_type": "code",
   "execution_count": 22,
   "metadata": {},
   "outputs": [],
   "source": [
    "import plotly.express as px"
   ]
  },
  {
   "cell_type": "code",
   "execution_count": 23,
   "metadata": {},
   "outputs": [
    {
     "data": {
      "image/svg+xml": [
       "<svg class=\"main-svg\" xmlns=\"http://www.w3.org/2000/svg\" xmlns:xlink=\"http://www.w3.org/1999/xlink\" width=\"700\" height=\"500\" style=\"\" viewBox=\"0 0 700 500\"><rect x=\"0\" y=\"0\" width=\"700\" height=\"500\" style=\"fill: rgb(255, 255, 255); fill-opacity: 1;\"/><defs id=\"defs-8c0ccf\"><g class=\"clips\"><clipPath id=\"clip8c0ccfxyplot\" class=\"plotclip\"><rect width=\"499\" height=\"320\"/></clipPath><clipPath class=\"axesclip\" id=\"clip8c0ccfx\"><rect x=\"80\" y=\"0\" width=\"499\" height=\"500\"/></clipPath><clipPath class=\"axesclip\" id=\"clip8c0ccfy\"><rect x=\"0\" y=\"100\" width=\"700\" height=\"320\"/></clipPath><clipPath class=\"axesclip\" id=\"clip8c0ccfxy\"><rect x=\"80\" y=\"100\" width=\"499\" height=\"320\"/></clipPath></g><g class=\"gradients\"/><g class=\"patterns\"/></defs><g class=\"bglayer\"><rect class=\"bg\" x=\"80\" y=\"100\" width=\"499\" height=\"320\" style=\"fill: rgb(229, 236, 246); fill-opacity: 1; stroke-width: 0;\"/></g><g class=\"layer-below\"><g class=\"imagelayer\"/><g class=\"shapelayer\"/></g><g class=\"cartesianlayer\"><g class=\"subplot xy\"><g class=\"layer-subplot\"><g class=\"shapelayer\"/><g class=\"imagelayer\"/></g><g class=\"minor-gridlayer\"><g class=\"x\"/><g class=\"y\"/></g><g class=\"gridlayer\"><g class=\"x\"/><g class=\"y\"><path class=\"ygrid crisp\" transform=\"translate(0,370.42)\" d=\"M80,0h499\" style=\"stroke: rgb(255, 255, 255); stroke-opacity: 1; stroke-width: 1px;\"/><path class=\"ygrid crisp\" transform=\"translate(0,320.83000000000004)\" d=\"M80,0h499\" style=\"stroke: rgb(255, 255, 255); stroke-opacity: 1; stroke-width: 1px;\"/><path class=\"ygrid crisp\" transform=\"translate(0,271.25)\" d=\"M80,0h499\" style=\"stroke: rgb(255, 255, 255); stroke-opacity: 1; stroke-width: 1px;\"/><path class=\"ygrid crisp\" transform=\"translate(0,221.66)\" d=\"M80,0h499\" style=\"stroke: rgb(255, 255, 255); stroke-opacity: 1; stroke-width: 1px;\"/><path class=\"ygrid crisp\" transform=\"translate(0,172.07999999999998)\" d=\"M80,0h499\" style=\"stroke: rgb(255, 255, 255); stroke-opacity: 1; stroke-width: 1px;\"/><path class=\"ygrid crisp\" transform=\"translate(0,122.5)\" d=\"M80,0h499\" style=\"stroke: rgb(255, 255, 255); stroke-opacity: 1; stroke-width: 1px;\"/></g></g><g class=\"zerolinelayer\"><path class=\"yzl zl crisp\" transform=\"translate(0,420)\" d=\"M80,0h499\" style=\"stroke: rgb(255, 255, 255); stroke-opacity: 1; stroke-width: 2px;\"/></g><path class=\"xlines-below\"/><path class=\"ylines-below\"/><g class=\"overlines-below\"/><g class=\"xaxislayer-below\"/><g class=\"yaxislayer-below\"/><g class=\"overaxes-below\"/><g class=\"plot\" transform=\"translate(80,100)\" clip-path=\"url(#clip8c0ccfxyplot)\"><g class=\"barlayer mlayer\"><g class=\"trace bars\" style=\"opacity: 1;\"><g class=\"points\"><g class=\"point\"><path d=\"M24.95,320V16H224.55V320Z\" style=\"vector-effect: none; opacity: 1; stroke-width: 0px; fill: rgb(252, 222, 156); fill-opacity: 1;\"/></g></g></g><g class=\"trace bars\" style=\"opacity: 1;\"><g class=\"points\"><g class=\"point\"><path d=\"M274.45,320V187.31H474.05V320Z\" style=\"vector-effect: none; opacity: 1; stroke-width: 0px; fill: rgb(250, 164, 118); fill-opacity: 1;\"/></g></g></g></g></g><g class=\"overplot\"/><path class=\"xlines-above crisp\" d=\"M0,0\" style=\"fill: none;\"/><path class=\"ylines-above crisp\" d=\"M0,0\" style=\"fill: none;\"/><g class=\"overlines-above\"/><g class=\"xaxislayer-above\"><g class=\"xtick\"><text text-anchor=\"middle\" x=\"0\" y=\"433\" transform=\"translate(204.75,0)\" style=\"font-family: 'Open Sans', verdana, arial, sans-serif; font-size: 12px; fill: rgb(42, 63, 95); fill-opacity: 1; white-space: pre; opacity: 1;\">Movie</text></g><g class=\"xtick\"><text text-anchor=\"middle\" x=\"0\" y=\"433\" transform=\"translate(454.25,0)\" style=\"font-family: 'Open Sans', verdana, arial, sans-serif; font-size: 12px; fill: rgb(42, 63, 95); fill-opacity: 1; white-space: pre; opacity: 1;\">TV Show</text></g></g><g class=\"yaxislayer-above\"><g class=\"ytick\"><text text-anchor=\"end\" x=\"79\" y=\"4.199999999999999\" transform=\"translate(0,420)\" style=\"font-family: 'Open Sans', verdana, arial, sans-serif; font-size: 12px; fill: rgb(42, 63, 95); fill-opacity: 1; white-space: pre; opacity: 1;\">0</text></g><g class=\"ytick\"><text text-anchor=\"end\" x=\"79\" y=\"4.199999999999999\" style=\"font-family: 'Open Sans', verdana, arial, sans-serif; font-size: 12px; fill: rgb(42, 63, 95); fill-opacity: 1; white-space: pre; opacity: 1;\" transform=\"translate(0,370.42)\">1000</text></g><g class=\"ytick\"><text text-anchor=\"end\" x=\"79\" y=\"4.199999999999999\" style=\"font-family: 'Open Sans', verdana, arial, sans-serif; font-size: 12px; fill: rgb(42, 63, 95); fill-opacity: 1; white-space: pre; opacity: 1;\" transform=\"translate(0,320.83000000000004)\">2000</text></g><g class=\"ytick\"><text text-anchor=\"end\" x=\"79\" y=\"4.199999999999999\" style=\"font-family: 'Open Sans', verdana, arial, sans-serif; font-size: 12px; fill: rgb(42, 63, 95); fill-opacity: 1; white-space: pre; opacity: 1;\" transform=\"translate(0,271.25)\">3000</text></g><g class=\"ytick\"><text text-anchor=\"end\" x=\"79\" y=\"4.199999999999999\" style=\"font-family: 'Open Sans', verdana, arial, sans-serif; font-size: 12px; fill: rgb(42, 63, 95); fill-opacity: 1; white-space: pre; opacity: 1;\" transform=\"translate(0,221.66)\">4000</text></g><g class=\"ytick\"><text text-anchor=\"end\" x=\"79\" y=\"4.199999999999999\" style=\"font-family: 'Open Sans', verdana, arial, sans-serif; font-size: 12px; fill: rgb(42, 63, 95); fill-opacity: 1; white-space: pre; opacity: 1;\" transform=\"translate(0,172.07999999999998)\">5000</text></g><g class=\"ytick\"><text text-anchor=\"end\" x=\"79\" y=\"4.199999999999999\" style=\"font-family: 'Open Sans', verdana, arial, sans-serif; font-size: 12px; fill: rgb(42, 63, 95); fill-opacity: 1; white-space: pre; opacity: 1;\" transform=\"translate(0,122.5)\">6000</text></g></g><g class=\"overaxes-above\"/></g></g><g class=\"polarlayer\"/><g class=\"smithlayer\"/><g class=\"ternarylayer\"/><g class=\"geolayer\"/><g class=\"funnelarealayer\"/><g class=\"pielayer\"/><g class=\"iciclelayer\"/><g class=\"treemaplayer\"/><g class=\"sunburstlayer\"/><g class=\"glimages\"/><defs id=\"topdefs-8c0ccf\"><g class=\"clips\"/><clipPath id=\"legend8c0ccf\"><rect width=\"99\" height=\"67\" x=\"0\" y=\"0\"/></clipPath></defs><g class=\"layer-above\"><g class=\"imagelayer\"/><g class=\"shapelayer\"/></g><g class=\"infolayer\"><g class=\"legend\" pointer-events=\"all\" transform=\"translate(588.98,100)\"><rect class=\"bg\" shape-rendering=\"crispEdges\" style=\"stroke: rgb(68, 68, 68); stroke-opacity: 1; fill: rgb(255, 255, 255); fill-opacity: 1; stroke-width: 0px;\" width=\"99\" height=\"67\" x=\"0\" y=\"0\"/><g class=\"scrollbox\" transform=\"\" clip-path=\"url(#legend8c0ccf)\"><text class=\"legendtitletext\" text-anchor=\"start\" x=\"2\" y=\"18.2\" style=\"font-family: 'Open Sans', verdana, arial, sans-serif; font-size: 14px; fill: rgb(42, 63, 95); fill-opacity: 1; white-space: pre;\">type</text><g class=\"groups\" transform=\"\"><g class=\"traces\" transform=\"translate(0,32.7)\" style=\"opacity: 1;\"><text class=\"legendtext\" text-anchor=\"start\" x=\"40\" y=\"4.680000000000001\" style=\"font-family: 'Open Sans', verdana, arial, sans-serif; font-size: 12px; fill: rgb(42, 63, 95); fill-opacity: 1; white-space: pre;\">Movie</text><g class=\"layers\" style=\"opacity: 1;\"><g class=\"legendfill\"/><g class=\"legendlines\"/><g class=\"legendsymbols\"><g class=\"legendpoints\"><path class=\"legendundefined\" d=\"M6,6H-6V-6H6Z\" transform=\"translate(20,0)\" style=\"stroke-width: 0px; fill: rgb(252, 222, 156); fill-opacity: 1;\"/></g></g></g><rect class=\"legendtoggle\" x=\"0\" y=\"-9.5\" width=\"93.90625\" height=\"19\" style=\"fill: rgb(0, 0, 0); fill-opacity: 0;\"/></g></g><g class=\"groups\" transform=\"\"><g class=\"traces\" transform=\"translate(0,51.7)\" style=\"opacity: 1;\"><text class=\"legendtext\" text-anchor=\"start\" x=\"40\" y=\"4.680000000000001\" style=\"font-family: 'Open Sans', verdana, arial, sans-serif; font-size: 12px; fill: rgb(42, 63, 95); fill-opacity: 1; white-space: pre;\">TV Show</text><g class=\"layers\" style=\"opacity: 1;\"><g class=\"legendfill\"/><g class=\"legendlines\"/><g class=\"legendsymbols\"><g class=\"legendpoints\"><path class=\"legendundefined\" d=\"M6,6H-6V-6H6Z\" transform=\"translate(20,0)\" style=\"stroke-width: 0px; fill: rgb(250, 164, 118); fill-opacity: 1;\"/></g></g></g><rect class=\"legendtoggle\" x=\"0\" y=\"-9.5\" width=\"93.90625\" height=\"19\" style=\"fill: rgb(0, 0, 0); fill-opacity: 0;\"/></g></g></g><rect class=\"scrollbar\" rx=\"20\" ry=\"3\" width=\"0\" height=\"0\" style=\"fill: rgb(128, 139, 164); fill-opacity: 1;\" x=\"0\" y=\"0\"/></g><g class=\"g-gtitle\"><text class=\"gtitle\" x=\"35\" y=\"50\" text-anchor=\"start\" dy=\"0em\" style=\"font-family: 'Open Sans', verdana, arial, sans-serif; font-size: 17px; fill: rgb(42, 63, 95); opacity: 1; font-weight: normal; white-space: pre;\">Movies vs. TV-Shows</text></g><g class=\"g-xtitle\"><text class=\"xtitle\" x=\"329.5\" y=\"460.3\" text-anchor=\"middle\" style=\"font-family: 'Open Sans', verdana, arial, sans-serif; font-size: 14px; fill: rgb(42, 63, 95); opacity: 1; font-weight: normal; white-space: pre;\">type</text></g><g class=\"g-ytitle\"><text class=\"ytitle\" transform=\"rotate(-90,24.184375000000003,260)\" x=\"24.184375000000003\" y=\"260\" text-anchor=\"middle\" style=\"font-family: 'Open Sans', verdana, arial, sans-serif; font-size: 14px; fill: rgb(42, 63, 95); opacity: 1; font-weight: normal; white-space: pre;\">count</text></g></g></svg>"
      ]
     },
     "metadata": {},
     "output_type": "display_data"
    }
   ],
   "source": [
    "px.histogram(netflix, x= 'type', color= 'type',\n",
    "             title=\"Movies vs. TV-Shows\",\n",
    "             color_discrete_sequence= px.colors.sequential.Sunsetdark)"
   ]
  },
  {
   "cell_type": "code",
   "execution_count": 24,
   "metadata": {},
   "outputs": [
    {
     "data": {
      "image/svg+xml": [
       "<svg class=\"main-svg\" xmlns=\"http://www.w3.org/2000/svg\" xmlns:xlink=\"http://www.w3.org/1999/xlink\" width=\"700\" height=\"500\" style=\"\" viewBox=\"0 0 700 500\"><rect x=\"0\" y=\"0\" width=\"700\" height=\"500\" style=\"fill: rgb(255, 255, 255); fill-opacity: 1;\"/><defs id=\"defs-0a2047\"><g class=\"clips\"><clipPath id=\"clip0a2047xyplot\" class=\"plotclip\"><rect width=\"499\" height=\"320\"/></clipPath><clipPath class=\"axesclip\" id=\"clip0a2047x\"><rect x=\"80\" y=\"0\" width=\"499\" height=\"500\"/></clipPath><clipPath class=\"axesclip\" id=\"clip0a2047y\"><rect x=\"0\" y=\"100\" width=\"700\" height=\"320\"/></clipPath><clipPath class=\"axesclip\" id=\"clip0a2047xy\"><rect x=\"80\" y=\"100\" width=\"499\" height=\"320\"/></clipPath></g><g class=\"gradients\"/><g class=\"patterns\"/></defs><g class=\"bglayer\"><rect class=\"bg\" x=\"80\" y=\"100\" width=\"499\" height=\"320\" style=\"fill: rgb(229, 236, 246); fill-opacity: 1; stroke-width: 0;\"/></g><g class=\"layer-below\"><g class=\"imagelayer\"/><g class=\"shapelayer\"/></g><g class=\"cartesianlayer\"><g class=\"subplot xy\"><g class=\"layer-subplot\"><g class=\"shapelayer\"/><g class=\"imagelayer\"/></g><g class=\"minor-gridlayer\"><g class=\"x\"/><g class=\"y\"/></g><g class=\"gridlayer\"><g class=\"x\"/><g class=\"y\"><path class=\"ygrid crisp\" transform=\"translate(0,344.6)\" d=\"M80,0h499\" style=\"stroke: rgb(255, 255, 255); stroke-opacity: 1; stroke-width: 1px;\"/><path class=\"ygrid crisp\" transform=\"translate(0,269.21000000000004)\" d=\"M80,0h499\" style=\"stroke: rgb(255, 255, 255); stroke-opacity: 1; stroke-width: 1px;\"/><path class=\"ygrid crisp\" transform=\"translate(0,193.81)\" d=\"M80,0h499\" style=\"stroke: rgb(255, 255, 255); stroke-opacity: 1; stroke-width: 1px;\"/><path class=\"ygrid crisp\" transform=\"translate(0,118.41)\" d=\"M80,0h499\" style=\"stroke: rgb(255, 255, 255); stroke-opacity: 1; stroke-width: 1px;\"/></g></g><g class=\"zerolinelayer\"><path class=\"yzl zl crisp\" transform=\"translate(0,420)\" d=\"M80,0h499\" style=\"stroke: rgb(255, 255, 255); stroke-opacity: 1; stroke-width: 2px;\"/></g><path class=\"xlines-below\"/><path class=\"ylines-below\"/><g class=\"overlines-below\"/><g class=\"xaxislayer-below\"/><g class=\"yaxislayer-below\"/><g class=\"overaxes-below\"/><g class=\"plot\" transform=\"translate(80,100)\" clip-path=\"url(#clip0a2047xyplot)\"><g class=\"barlayer mlayer\"><g class=\"trace bars\" shape-rendering=\"crispEdges\" style=\"opacity: 1;\"><g class=\"points\"><g class=\"point\"><path d=\"M0,320V319.85H35.64V320Z\" style=\"vector-effect: none; opacity: 1; stroke-width: 0px; fill: rgb(252, 222, 156); fill-opacity: 1;\"/></g><g class=\"point\"><path d=\"M35.64,320V319.7H71.29V320Z\" style=\"vector-effect: none; opacity: 1; stroke-width: 0px; fill: rgb(252, 222, 156); fill-opacity: 1;\"/></g><g class=\"point\"><path d=\"M71.29,320V319.85H106.93V320Z\" style=\"vector-effect: none; opacity: 1; stroke-width: 0px; fill: rgb(252, 222, 156); fill-opacity: 1;\"/></g><g class=\"point\"><path d=\"M106.93,320V318.04H142.57V320Z\" style=\"vector-effect: none; opacity: 1; stroke-width: 0px; fill: rgb(252, 222, 156); fill-opacity: 1;\"/></g><g class=\"point\"><path d=\"M142.57,320V319.55H178.21V320Z\" style=\"vector-effect: none; opacity: 1; stroke-width: 0px; fill: rgb(252, 222, 156); fill-opacity: 1;\"/></g><g class=\"point\"><path d=\"M178.21,320V319.1H213.86V320Z\" style=\"vector-effect: none; opacity: 1; stroke-width: 0px; fill: rgb(252, 222, 156); fill-opacity: 1;\"/></g><g class=\"point\"><path d=\"M213.86,320V317.13H249.5V320Z\" style=\"vector-effect: none; opacity: 1; stroke-width: 0px; fill: rgb(252, 222, 156); fill-opacity: 1;\"/></g><g class=\"point\"><path d=\"M249.5,320V311.56H285.14V320Z\" style=\"vector-effect: none; opacity: 1; stroke-width: 0px; fill: rgb(252, 222, 156); fill-opacity: 1;\"/></g><g class=\"point\"><path d=\"M285.14,320V281.85H320.79V320Z\" style=\"vector-effect: none; opacity: 1; stroke-width: 0px; fill: rgb(252, 222, 156); fill-opacity: 1;\"/></g><g class=\"point\"><path d=\"M320.79,320V193.48H356.43V320Z\" style=\"vector-effect: none; opacity: 1; stroke-width: 0px; fill: rgb(252, 222, 156); fill-opacity: 1;\"/></g><g class=\"point\"><path d=\"M356.43,320V133.47H392.07V320Z\" style=\"vector-effect: none; opacity: 1; stroke-width: 0px; fill: rgb(252, 222, 156); fill-opacity: 1;\"/></g><g class=\"point\"><path d=\"M392.07,320V105.27H427.71V320Z\" style=\"vector-effect: none; opacity: 1; stroke-width: 0px; fill: rgb(252, 222, 156); fill-opacity: 1;\"/></g><g class=\"point\"><path d=\"M427.71,320V126.38H463.36V320Z\" style=\"vector-effect: none; opacity: 1; stroke-width: 0px; fill: rgb(252, 222, 156); fill-opacity: 1;\"/></g><g class=\"point\"><path d=\"M463.36,320V170.26H499V320Z\" style=\"vector-effect: none; opacity: 1; stroke-width: 0px; fill: rgb(252, 222, 156); fill-opacity: 1;\"/></g></g></g><g class=\"trace bars\" shape-rendering=\"crispEdges\" style=\"opacity: 1;\"><g class=\"points\"><g class=\"point\"><path d=\"M0,319.85V319.7H35.64V319.85Z\" style=\"vector-effect: none; opacity: 1; stroke-width: 0px; fill: rgb(250, 164, 118); fill-opacity: 1;\"/></g><g class=\"point\"><path d=\"M0,0Z\" style=\"vector-effect: none; opacity: 1; stroke-width: 0px; fill: rgb(250, 164, 118); fill-opacity: 1;\"/></g><g class=\"point\"><path d=\"M0,0Z\" style=\"vector-effect: none; opacity: 1; stroke-width: 0px; fill: rgb(250, 164, 118); fill-opacity: 1;\"/></g><g class=\"point\"><path d=\"M0,0Z\" style=\"vector-effect: none; opacity: 1; stroke-width: 0px; fill: rgb(250, 164, 118); fill-opacity: 1;\"/></g><g class=\"point\"><path d=\"M0,0Z\" style=\"vector-effect: none; opacity: 1; stroke-width: 0px; fill: rgb(250, 164, 118); fill-opacity: 1;\"/></g><g class=\"point\"><path d=\"M178.21,319.1V318.34H213.86V319.1Z\" style=\"vector-effect: none; opacity: 1; stroke-width: 0px; fill: rgb(250, 164, 118); fill-opacity: 1;\"/></g><g class=\"point\"><path d=\"M213.86,317.13V316.38H249.5V317.13Z\" style=\"vector-effect: none; opacity: 1; stroke-width: 0px; fill: rgb(250, 164, 118); fill-opacity: 1;\"/></g><g class=\"point\"><path d=\"M249.5,311.56V307.63H285.14V311.56Z\" style=\"vector-effect: none; opacity: 1; stroke-width: 0px; fill: rgb(250, 164, 118); fill-opacity: 1;\"/></g><g class=\"point\"><path d=\"M285.14,281.85V255.31H320.79V281.85Z\" style=\"vector-effect: none; opacity: 1; stroke-width: 0px; fill: rgb(250, 164, 118); fill-opacity: 1;\"/></g><g class=\"point\"><path d=\"M320.79,193.48V140.86H356.43V193.48Z\" style=\"vector-effect: none; opacity: 1; stroke-width: 0px; fill: rgb(250, 164, 118); fill-opacity: 1;\"/></g><g class=\"point\"><path d=\"M356.43,133.47V71.34H392.07V133.47Z\" style=\"vector-effect: none; opacity: 1; stroke-width: 0px; fill: rgb(250, 164, 118); fill-opacity: 1;\"/></g><g class=\"point\"><path d=\"M392.07,105.27V16H427.71V105.27Z\" style=\"vector-effect: none; opacity: 1; stroke-width: 0px; fill: rgb(250, 164, 118); fill-opacity: 1;\"/></g><g class=\"point\"><path d=\"M427.71,126.38V36.66H463.36V126.38Z\" style=\"vector-effect: none; opacity: 1; stroke-width: 0px; fill: rgb(250, 164, 118); fill-opacity: 1;\"/></g><g class=\"point\"><path d=\"M463.36,170.26V94.11H499V170.26Z\" style=\"vector-effect: none; opacity: 1; stroke-width: 0px; fill: rgb(250, 164, 118); fill-opacity: 1;\"/></g></g></g></g></g><g class=\"overplot\"/><path class=\"xlines-above crisp\" d=\"M0,0\" style=\"fill: none;\"/><path class=\"ylines-above crisp\" d=\"M0,0\" style=\"fill: none;\"/><g class=\"overlines-above\"/><g class=\"xaxislayer-above\"><g class=\"xtick\"><text text-anchor=\"middle\" x=\"0\" y=\"433\" transform=\"translate(97.82,0)\" style=\"font-family: 'Open Sans', verdana, arial, sans-serif; font-size: 12px; fill: rgb(42, 63, 95); fill-opacity: 1; white-space: pre; opacity: 1;\">2008</text></g><g class=\"xtick\"><text text-anchor=\"middle\" x=\"0\" y=\"433\" style=\"font-family: 'Open Sans', verdana, arial, sans-serif; font-size: 12px; fill: rgb(42, 63, 95); fill-opacity: 1; white-space: pre; opacity: 1;\" transform=\"translate(169.11,0)\">2010</text></g><g class=\"xtick\"><text text-anchor=\"middle\" x=\"0\" y=\"433\" style=\"font-family: 'Open Sans', verdana, arial, sans-serif; font-size: 12px; fill: rgb(42, 63, 95); fill-opacity: 1; white-space: pre; opacity: 1;\" transform=\"translate(240.39,0)\">2012</text></g><g class=\"xtick\"><text text-anchor=\"middle\" x=\"0\" y=\"433\" style=\"font-family: 'Open Sans', verdana, arial, sans-serif; font-size: 12px; fill: rgb(42, 63, 95); fill-opacity: 1; white-space: pre; opacity: 1;\" transform=\"translate(311.68,0)\">2014</text></g><g class=\"xtick\"><text text-anchor=\"middle\" x=\"0\" y=\"433\" style=\"font-family: 'Open Sans', verdana, arial, sans-serif; font-size: 12px; fill: rgb(42, 63, 95); fill-opacity: 1; white-space: pre; opacity: 1;\" transform=\"translate(382.96,0)\">2016</text></g><g class=\"xtick\"><text text-anchor=\"middle\" x=\"0\" y=\"433\" style=\"font-family: 'Open Sans', verdana, arial, sans-serif; font-size: 12px; fill: rgb(42, 63, 95); fill-opacity: 1; white-space: pre; opacity: 1;\" transform=\"translate(454.25,0)\">2018</text></g><g class=\"xtick\"><text text-anchor=\"middle\" x=\"0\" y=\"433\" style=\"font-family: 'Open Sans', verdana, arial, sans-serif; font-size: 12px; fill: rgb(42, 63, 95); fill-opacity: 1; white-space: pre; opacity: 1;\" transform=\"translate(525.54,0)\">2020</text></g></g><g class=\"yaxislayer-above\"><g class=\"ytick\"><text text-anchor=\"end\" x=\"79\" y=\"4.199999999999999\" transform=\"translate(0,420)\" style=\"font-family: 'Open Sans', verdana, arial, sans-serif; font-size: 12px; fill: rgb(42, 63, 95); fill-opacity: 1; white-space: pre; opacity: 1;\">0</text></g><g class=\"ytick\"><text text-anchor=\"end\" x=\"79\" y=\"4.199999999999999\" style=\"font-family: 'Open Sans', verdana, arial, sans-serif; font-size: 12px; fill: rgb(42, 63, 95); fill-opacity: 1; white-space: pre; opacity: 1;\" transform=\"translate(0,344.6)\">500</text></g><g class=\"ytick\"><text text-anchor=\"end\" x=\"79\" y=\"4.199999999999999\" style=\"font-family: 'Open Sans', verdana, arial, sans-serif; font-size: 12px; fill: rgb(42, 63, 95); fill-opacity: 1; white-space: pre; opacity: 1;\" transform=\"translate(0,269.21000000000004)\">1000</text></g><g class=\"ytick\"><text text-anchor=\"end\" x=\"79\" y=\"4.199999999999999\" style=\"font-family: 'Open Sans', verdana, arial, sans-serif; font-size: 12px; fill: rgb(42, 63, 95); fill-opacity: 1; white-space: pre; opacity: 1;\" transform=\"translate(0,193.81)\">1500</text></g><g class=\"ytick\"><text text-anchor=\"end\" x=\"79\" y=\"4.199999999999999\" style=\"font-family: 'Open Sans', verdana, arial, sans-serif; font-size: 12px; fill: rgb(42, 63, 95); fill-opacity: 1; white-space: pre; opacity: 1;\" transform=\"translate(0,118.41)\">2000</text></g></g><g class=\"overaxes-above\"/></g></g><g class=\"polarlayer\"/><g class=\"smithlayer\"/><g class=\"ternarylayer\"/><g class=\"geolayer\"/><g class=\"funnelarealayer\"/><g class=\"pielayer\"/><g class=\"iciclelayer\"/><g class=\"treemaplayer\"/><g class=\"sunburstlayer\"/><g class=\"glimages\"/><defs id=\"topdefs-0a2047\"><g class=\"clips\"/><clipPath id=\"legend0a2047\"><rect width=\"99\" height=\"67\" x=\"0\" y=\"0\"/></clipPath></defs><g class=\"layer-above\"><g class=\"imagelayer\"/><g class=\"shapelayer\"/></g><g class=\"infolayer\"><g class=\"legend\" pointer-events=\"all\" transform=\"translate(588.98,100)\"><rect class=\"bg\" shape-rendering=\"crispEdges\" width=\"99\" height=\"67\" x=\"0\" y=\"0\" style=\"stroke: rgb(68, 68, 68); stroke-opacity: 1; fill: rgb(255, 255, 255); fill-opacity: 1; stroke-width: 0px;\"/><g class=\"scrollbox\" transform=\"\" clip-path=\"url(#legend0a2047)\"><text class=\"legendtitletext\" text-anchor=\"start\" x=\"2\" y=\"18.2\" style=\"font-family: 'Open Sans', verdana, arial, sans-serif; font-size: 14px; fill: rgb(42, 63, 95); fill-opacity: 1; white-space: pre;\">type</text><g class=\"groups\" transform=\"\"><g class=\"traces\" transform=\"translate(0,32.7)\" style=\"opacity: 1;\"><text class=\"legendtext\" text-anchor=\"start\" x=\"40\" y=\"4.680000000000001\" style=\"font-family: 'Open Sans', verdana, arial, sans-serif; font-size: 12px; fill: rgb(42, 63, 95); fill-opacity: 1; white-space: pre;\">Movie</text><g class=\"layers\" style=\"opacity: 1;\"><g class=\"legendfill\"/><g class=\"legendlines\"/><g class=\"legendsymbols\"><g class=\"legendpoints\"><path class=\"legendundefined\" d=\"M6,6H-6V-6H6Z\" transform=\"translate(20,0)\" style=\"stroke-width: 0px; fill: rgb(252, 222, 156); fill-opacity: 1;\"/></g></g></g><rect class=\"legendtoggle\" x=\"0\" y=\"-9.5\" width=\"93.90625\" height=\"19\" style=\"fill: rgb(0, 0, 0); fill-opacity: 0;\"/></g></g><g class=\"groups\" transform=\"\"><g class=\"traces\" transform=\"translate(0,51.7)\" style=\"opacity: 1;\"><text class=\"legendtext\" text-anchor=\"start\" x=\"40\" y=\"4.680000000000001\" style=\"font-family: 'Open Sans', verdana, arial, sans-serif; font-size: 12px; fill: rgb(42, 63, 95); fill-opacity: 1; white-space: pre;\">TV Show</text><g class=\"layers\" style=\"opacity: 1;\"><g class=\"legendfill\"/><g class=\"legendlines\"/><g class=\"legendsymbols\"><g class=\"legendpoints\"><path class=\"legendundefined\" d=\"M6,6H-6V-6H6Z\" transform=\"translate(20,0)\" style=\"stroke-width: 0px; fill: rgb(250, 164, 118); fill-opacity: 1;\"/></g></g></g><rect class=\"legendtoggle\" x=\"0\" y=\"-9.5\" width=\"93.90625\" height=\"19\" style=\"fill: rgb(0, 0, 0); fill-opacity: 0;\"/></g></g></g><rect class=\"scrollbar\" rx=\"20\" ry=\"3\" width=\"0\" height=\"0\" x=\"0\" y=\"0\" style=\"fill: rgb(128, 139, 164); fill-opacity: 1;\"/></g><g class=\"g-gtitle\"><text class=\"gtitle\" x=\"35\" y=\"50\" text-anchor=\"start\" dy=\"0em\" style=\"font-family: 'Open Sans', verdana, arial, sans-serif; font-size: 17px; fill: rgb(42, 63, 95); opacity: 1; font-weight: normal; white-space: pre;\">Netflix number of Movie/TV Show by year</text></g><g class=\"g-xtitle\"><text class=\"xtitle\" x=\"329.5\" y=\"460.3\" text-anchor=\"middle\" style=\"font-family: 'Open Sans', verdana, arial, sans-serif; font-size: 14px; fill: rgb(42, 63, 95); opacity: 1; font-weight: normal; white-space: pre;\">Year</text></g><g class=\"g-ytitle\"><text class=\"ytitle\" transform=\"rotate(-90,24.184375000000003,260)\" x=\"24.184375000000003\" y=\"260\" text-anchor=\"middle\" style=\"font-family: 'Open Sans', verdana, arial, sans-serif; font-size: 14px; fill: rgb(42, 63, 95); opacity: 1; font-weight: normal; white-space: pre;\">count</text></g></g></svg>"
      ]
     },
     "metadata": {},
     "output_type": "display_data"
    }
   ],
   "source": [
    "px.histogram(netflix, x= netflix['date_added'].dt.year, color= netflix['type'],\n",
    "             title=\"Netflix number of Movie/TV Show by year\",\n",
    "             color_discrete_sequence= px.colors.sequential.Sunsetdark,  \n",
    "              labels=dict(x=\"Year\", color= \"Type\")                     \n",
    "                   )"
   ]
  },
  {
   "attachments": {},
   "cell_type": "markdown",
   "metadata": {},
   "source": [
    "Number of Movies/TV-Shows added by Month\n",
    "#Dropping 'NA' records from the column 'date_added'\n",
    "#Dropping 10 records from the column 'date_added' that contain 'NA' values"
   ]
  },
  {
   "cell_type": "code",
   "execution_count": 25,
   "metadata": {},
   "outputs": [
    {
     "data": {
      "text/plain": [
       "10"
      ]
     },
     "execution_count": 25,
     "metadata": {},
     "output_type": "execute_result"
    }
   ],
   "source": [
    "#counting the number of 'NA' on the column 'date_added'\n",
    "netflix['date_added'].isna().sum()"
   ]
  },
  {
   "cell_type": "code",
   "execution_count": 26,
   "metadata": {},
   "outputs": [],
   "source": [
    "#dropping 'NA'\n",
    "netflix = netflix.dropna(subset=['date_added'])"
   ]
  },
  {
   "cell_type": "code",
   "execution_count": 27,
   "metadata": {},
   "outputs": [
    {
     "data": {
      "image/svg+xml": [
       "<svg class=\"main-svg\" xmlns=\"http://www.w3.org/2000/svg\" xmlns:xlink=\"http://www.w3.org/1999/xlink\" width=\"700\" height=\"500\" style=\"\" viewBox=\"0 0 700 500\"><rect x=\"0\" y=\"0\" width=\"700\" height=\"500\" style=\"fill: rgb(255, 255, 255); fill-opacity: 1;\"/><defs id=\"defs-a29d7e\"><g class=\"clips\"><clipPath id=\"clipa29d7exyplot\" class=\"plotclip\"><rect width=\"499\" height=\"320\"/></clipPath><clipPath class=\"axesclip\" id=\"clipa29d7ex\"><rect x=\"80\" y=\"0\" width=\"499\" height=\"500\"/></clipPath><clipPath class=\"axesclip\" id=\"clipa29d7ey\"><rect x=\"0\" y=\"100\" width=\"700\" height=\"320\"/></clipPath><clipPath class=\"axesclip\" id=\"clipa29d7exy\"><rect x=\"80\" y=\"100\" width=\"499\" height=\"320\"/></clipPath></g><g class=\"gradients\"/><g class=\"patterns\"/></defs><g class=\"bglayer\"><rect class=\"bg\" x=\"80\" y=\"100\" width=\"499\" height=\"320\" style=\"fill: rgb(229, 236, 246); fill-opacity: 1; stroke-width: 0;\"/></g><g class=\"layer-below\"><g class=\"imagelayer\"/><g class=\"shapelayer\"/></g><g class=\"cartesianlayer\"><g class=\"subplot xy\"><g class=\"layer-subplot\"><g class=\"shapelayer\"/><g class=\"imagelayer\"/></g><g class=\"minor-gridlayer\"><g class=\"x\"/><g class=\"y\"/></g><g class=\"gridlayer\"><g class=\"x\"/><g class=\"y\"><path class=\"ygrid crisp\" transform=\"translate(0,383.24)\" d=\"M80,0h499\" style=\"stroke: rgb(255, 255, 255); stroke-opacity: 1; stroke-width: 1px;\"/><path class=\"ygrid crisp\" transform=\"translate(0,346.48)\" d=\"M80,0h499\" style=\"stroke: rgb(255, 255, 255); stroke-opacity: 1; stroke-width: 1px;\"/><path class=\"ygrid crisp\" transform=\"translate(0,309.72)\" d=\"M80,0h499\" style=\"stroke: rgb(255, 255, 255); stroke-opacity: 1; stroke-width: 1px;\"/><path class=\"ygrid crisp\" transform=\"translate(0,272.96000000000004)\" d=\"M80,0h499\" style=\"stroke: rgb(255, 255, 255); stroke-opacity: 1; stroke-width: 1px;\"/><path class=\"ygrid crisp\" transform=\"translate(0,236.2)\" d=\"M80,0h499\" style=\"stroke: rgb(255, 255, 255); stroke-opacity: 1; stroke-width: 1px;\"/><path class=\"ygrid crisp\" transform=\"translate(0,199.44)\" d=\"M80,0h499\" style=\"stroke: rgb(255, 255, 255); stroke-opacity: 1; stroke-width: 1px;\"/><path class=\"ygrid crisp\" transform=\"translate(0,162.68)\" d=\"M80,0h499\" style=\"stroke: rgb(255, 255, 255); stroke-opacity: 1; stroke-width: 1px;\"/><path class=\"ygrid crisp\" transform=\"translate(0,125.93)\" d=\"M80,0h499\" style=\"stroke: rgb(255, 255, 255); stroke-opacity: 1; stroke-width: 1px;\"/></g></g><g class=\"zerolinelayer\"><path class=\"yzl zl crisp\" transform=\"translate(0,420)\" d=\"M80,0h499\" style=\"stroke: rgb(255, 255, 255); stroke-opacity: 1; stroke-width: 2px;\"/></g><path class=\"xlines-below\"/><path class=\"ylines-below\"/><g class=\"overlines-below\"/><g class=\"xaxislayer-below\"/><g class=\"yaxislayer-below\"/><g class=\"overaxes-below\"/><g class=\"plot\" transform=\"translate(80,100)\" clip-path=\"url(#clipa29d7exyplot)\"><g class=\"barlayer mlayer\"><g class=\"trace bars\" shape-rendering=\"crispEdges\" style=\"opacity: 1;\"><g class=\"points\"><g class=\"point\"><path d=\"M0,320V119.29H41.58V320Z\" style=\"vector-effect: none; opacity: 1; stroke-width: 0px; fill: rgb(252, 222, 156); fill-opacity: 1;\"/></g><g class=\"point\"><path d=\"M41.58,320V179.58H83.17V320Z\" style=\"vector-effect: none; opacity: 1; stroke-width: 0px; fill: rgb(252, 222, 156); fill-opacity: 1;\"/></g><g class=\"point\"><path d=\"M83.17,320V125.54H124.75V320Z\" style=\"vector-effect: none; opacity: 1; stroke-width: 0px; fill: rgb(252, 222, 156); fill-opacity: 1;\"/></g><g class=\"point\"><path d=\"M124.75,320V117.82H166.33V320Z\" style=\"vector-effect: none; opacity: 1; stroke-width: 0px; fill: rgb(252, 222, 156); fill-opacity: 1;\"/></g><g class=\"point\"><path d=\"M166.33,320V158.63H207.92V320Z\" style=\"vector-effect: none; opacity: 1; stroke-width: 0px; fill: rgb(252, 222, 156); fill-opacity: 1;\"/></g><g class=\"point\"><path d=\"M207.92,320V139.14H249.5V320Z\" style=\"vector-effect: none; opacity: 1; stroke-width: 0px; fill: rgb(252, 222, 156); fill-opacity: 1;\"/></g><g class=\"point\"><path d=\"M249.5,320V112.31H291.08V320Z\" style=\"vector-effect: none; opacity: 1; stroke-width: 0px; fill: rgb(252, 222, 156); fill-opacity: 1;\"/></g><g class=\"point\"><path d=\"M291.08,320V129.22H332.67V320Z\" style=\"vector-effect: none; opacity: 1; stroke-width: 0px; fill: rgb(252, 222, 156); fill-opacity: 1;\"/></g><g class=\"point\"><path d=\"M332.67,320V129.22H374.25V320Z\" style=\"vector-effect: none; opacity: 1; stroke-width: 0px; fill: rgb(252, 222, 156); fill-opacity: 1;\"/></g><g class=\"point\"><path d=\"M374.25,320V119.66H415.83V320Z\" style=\"vector-effect: none; opacity: 1; stroke-width: 0px; fill: rgb(252, 222, 156); fill-opacity: 1;\"/></g><g class=\"point\"><path d=\"M415.83,320V136.94H457.42V320Z\" style=\"vector-effect: none; opacity: 1; stroke-width: 0px; fill: rgb(252, 222, 156); fill-opacity: 1;\"/></g><g class=\"point\"><path d=\"M457.42,320V118.93H499V320Z\" style=\"vector-effect: none; opacity: 1; stroke-width: 0px; fill: rgb(252, 222, 156); fill-opacity: 1;\"/></g></g></g><g class=\"trace bars\" shape-rendering=\"crispEdges\" style=\"opacity: 1;\"><g class=\"points\"><g class=\"point\"><path d=\"M0,119.29V48.72H41.58V119.29Z\" style=\"vector-effect: none; opacity: 1; stroke-width: 0px; fill: rgb(250, 164, 118); fill-opacity: 1;\"/></g><g class=\"point\"><path d=\"M41.58,179.58V113.04H83.17V179.58Z\" style=\"vector-effect: none; opacity: 1; stroke-width: 0px; fill: rgb(250, 164, 118); fill-opacity: 1;\"/></g><g class=\"point\"><path d=\"M83.17,125.54V47.25H124.75V125.54Z\" style=\"vector-effect: none; opacity: 1; stroke-width: 0px; fill: rgb(250, 164, 118); fill-opacity: 1;\"/></g><g class=\"point\"><path d=\"M124.75,117.82V39.16H166.33V117.82Z\" style=\"vector-effect: none; opacity: 1; stroke-width: 0px; fill: rgb(250, 164, 118); fill-opacity: 1;\"/></g><g class=\"point\"><path d=\"M166.33,158.63V87.68H207.92V158.63Z\" style=\"vector-effect: none; opacity: 1; stroke-width: 0px; fill: rgb(250, 164, 118); fill-opacity: 1;\"/></g><g class=\"point\"><path d=\"M207.92,139.14V52.39H249.5V139.14Z\" style=\"vector-effect: none; opacity: 1; stroke-width: 0px; fill: rgb(250, 164, 118); fill-opacity: 1;\"/></g><g class=\"point\"><path d=\"M249.5,112.31V16H291.08V112.31Z\" style=\"vector-effect: none; opacity: 1; stroke-width: 0px; fill: rgb(250, 164, 118); fill-opacity: 1;\"/></g><g class=\"point\"><path d=\"M291.08,129.22V42.47H332.67V129.22Z\" style=\"vector-effect: none; opacity: 1; stroke-width: 0px; fill: rgb(250, 164, 118); fill-opacity: 1;\"/></g><g class=\"point\"><path d=\"M332.67,129.22V36.95H374.25V129.22Z\" style=\"vector-effect: none; opacity: 1; stroke-width: 0px; fill: rgb(250, 164, 118); fill-opacity: 1;\"/></g><g class=\"point\"><path d=\"M374.25,119.66V40.63H415.83V119.66Z\" style=\"vector-effect: none; opacity: 1; stroke-width: 0px; fill: rgb(250, 164, 118); fill-opacity: 1;\"/></g><g class=\"point\"><path d=\"M415.83,136.94V60.85H457.42V136.94Z\" style=\"vector-effect: none; opacity: 1; stroke-width: 0px; fill: rgb(250, 164, 118); fill-opacity: 1;\"/></g><g class=\"point\"><path d=\"M457.42,118.93V21.15H499V118.93Z\" style=\"vector-effect: none; opacity: 1; stroke-width: 0px; fill: rgb(250, 164, 118); fill-opacity: 1;\"/></g></g></g></g></g><g class=\"overplot\"/><path class=\"xlines-above crisp\" d=\"M0,0\" style=\"fill: none;\"/><path class=\"ylines-above crisp\" d=\"M0,0\" style=\"fill: none;\"/><g class=\"overlines-above\"/><g class=\"xaxislayer-above\"><g class=\"xtick\"><text text-anchor=\"middle\" x=\"0\" y=\"433\" transform=\"translate(142.38,0)\" style=\"font-family: 'Open Sans', verdana, arial, sans-serif; font-size: 12px; fill: rgb(42, 63, 95); fill-opacity: 1; white-space: pre; opacity: 1;\">2</text></g><g class=\"xtick\"><text text-anchor=\"middle\" x=\"0\" y=\"433\" style=\"font-family: 'Open Sans', verdana, arial, sans-serif; font-size: 12px; fill: rgb(42, 63, 95); fill-opacity: 1; white-space: pre; opacity: 1;\" transform=\"translate(225.54,0)\">4</text></g><g class=\"xtick\"><text text-anchor=\"middle\" x=\"0\" y=\"433\" style=\"font-family: 'Open Sans', verdana, arial, sans-serif; font-size: 12px; fill: rgb(42, 63, 95); fill-opacity: 1; white-space: pre; opacity: 1;\" transform=\"translate(308.71000000000004,0)\">6</text></g><g class=\"xtick\"><text text-anchor=\"middle\" x=\"0\" y=\"433\" style=\"font-family: 'Open Sans', verdana, arial, sans-serif; font-size: 12px; fill: rgb(42, 63, 95); fill-opacity: 1; white-space: pre; opacity: 1;\" transform=\"translate(391.88,0)\">8</text></g><g class=\"xtick\"><text text-anchor=\"middle\" x=\"0\" y=\"433\" style=\"font-family: 'Open Sans', verdana, arial, sans-serif; font-size: 12px; fill: rgb(42, 63, 95); fill-opacity: 1; white-space: pre; opacity: 1;\" transform=\"translate(475.04,0)\">10</text></g><g class=\"xtick\"><text text-anchor=\"middle\" x=\"0\" y=\"433\" style=\"font-family: 'Open Sans', verdana, arial, sans-serif; font-size: 12px; fill: rgb(42, 63, 95); fill-opacity: 1; white-space: pre; opacity: 1;\" transform=\"translate(558.21,0)\">12</text></g></g><g class=\"yaxislayer-above\"><g class=\"ytick\"><text text-anchor=\"end\" x=\"79\" y=\"4.199999999999999\" transform=\"translate(0,420)\" style=\"font-family: 'Open Sans', verdana, arial, sans-serif; font-size: 12px; fill: rgb(42, 63, 95); fill-opacity: 1; white-space: pre; opacity: 1;\">0</text></g><g class=\"ytick\"><text text-anchor=\"end\" x=\"79\" y=\"4.199999999999999\" style=\"font-family: 'Open Sans', verdana, arial, sans-serif; font-size: 12px; fill: rgb(42, 63, 95); fill-opacity: 1; white-space: pre; opacity: 1;\" transform=\"translate(0,383.24)\">100</text></g><g class=\"ytick\"><text text-anchor=\"end\" x=\"79\" y=\"4.199999999999999\" style=\"font-family: 'Open Sans', verdana, arial, sans-serif; font-size: 12px; fill: rgb(42, 63, 95); fill-opacity: 1; white-space: pre; opacity: 1;\" transform=\"translate(0,346.48)\">200</text></g><g class=\"ytick\"><text text-anchor=\"end\" x=\"79\" y=\"4.199999999999999\" style=\"font-family: 'Open Sans', verdana, arial, sans-serif; font-size: 12px; fill: rgb(42, 63, 95); fill-opacity: 1; white-space: pre; opacity: 1;\" transform=\"translate(0,309.72)\">300</text></g><g class=\"ytick\"><text text-anchor=\"end\" x=\"79\" y=\"4.199999999999999\" style=\"font-family: 'Open Sans', verdana, arial, sans-serif; font-size: 12px; fill: rgb(42, 63, 95); fill-opacity: 1; white-space: pre; opacity: 1;\" transform=\"translate(0,272.96000000000004)\">400</text></g><g class=\"ytick\"><text text-anchor=\"end\" x=\"79\" y=\"4.199999999999999\" style=\"font-family: 'Open Sans', verdana, arial, sans-serif; font-size: 12px; fill: rgb(42, 63, 95); fill-opacity: 1; white-space: pre; opacity: 1;\" transform=\"translate(0,236.2)\">500</text></g><g class=\"ytick\"><text text-anchor=\"end\" x=\"79\" y=\"4.199999999999999\" style=\"font-family: 'Open Sans', verdana, arial, sans-serif; font-size: 12px; fill: rgb(42, 63, 95); fill-opacity: 1; white-space: pre; opacity: 1;\" transform=\"translate(0,199.44)\">600</text></g><g class=\"ytick\"><text text-anchor=\"end\" x=\"79\" y=\"4.199999999999999\" style=\"font-family: 'Open Sans', verdana, arial, sans-serif; font-size: 12px; fill: rgb(42, 63, 95); fill-opacity: 1; white-space: pre; opacity: 1;\" transform=\"translate(0,162.68)\">700</text></g><g class=\"ytick\"><text text-anchor=\"end\" x=\"79\" y=\"4.199999999999999\" style=\"font-family: 'Open Sans', verdana, arial, sans-serif; font-size: 12px; fill: rgb(42, 63, 95); fill-opacity: 1; white-space: pre; opacity: 1;\" transform=\"translate(0,125.93)\">800</text></g></g><g class=\"overaxes-above\"/></g></g><g class=\"polarlayer\"/><g class=\"smithlayer\"/><g class=\"ternarylayer\"/><g class=\"geolayer\"/><g class=\"funnelarealayer\"/><g class=\"pielayer\"/><g class=\"iciclelayer\"/><g class=\"treemaplayer\"/><g class=\"sunburstlayer\"/><g class=\"glimages\"/><defs id=\"topdefs-a29d7e\"><g class=\"clips\"/><clipPath id=\"legenda29d7e\"><rect width=\"99\" height=\"67\" x=\"0\" y=\"0\"/></clipPath></defs><g class=\"layer-above\"><g class=\"imagelayer\"/><g class=\"shapelayer\"/></g><g class=\"infolayer\"><g class=\"legend\" pointer-events=\"all\" transform=\"translate(588.98,100)\"><rect class=\"bg\" shape-rendering=\"crispEdges\" width=\"99\" height=\"67\" x=\"0\" y=\"0\" style=\"stroke: rgb(68, 68, 68); stroke-opacity: 1; fill: rgb(255, 255, 255); fill-opacity: 1; stroke-width: 0px;\"/><g class=\"scrollbox\" transform=\"\" clip-path=\"url(#legenda29d7e)\"><text class=\"legendtitletext\" text-anchor=\"start\" x=\"2\" y=\"18.2\" style=\"font-family: 'Open Sans', verdana, arial, sans-serif; font-size: 14px; fill: rgb(42, 63, 95); fill-opacity: 1; white-space: pre;\">type</text><g class=\"groups\" transform=\"\"><g class=\"traces\" transform=\"translate(0,32.7)\" style=\"opacity: 1;\"><text class=\"legendtext\" text-anchor=\"start\" x=\"40\" y=\"4.680000000000001\" style=\"font-family: 'Open Sans', verdana, arial, sans-serif; font-size: 12px; fill: rgb(42, 63, 95); fill-opacity: 1; white-space: pre;\">Movie</text><g class=\"layers\" style=\"opacity: 1;\"><g class=\"legendfill\"/><g class=\"legendlines\"/><g class=\"legendsymbols\"><g class=\"legendpoints\"><path class=\"legendundefined\" d=\"M6,6H-6V-6H6Z\" transform=\"translate(20,0)\" style=\"stroke-width: 0px; fill: rgb(252, 222, 156); fill-opacity: 1;\"/></g></g></g><rect class=\"legendtoggle\" x=\"0\" y=\"-9.5\" width=\"93.90625\" height=\"19\" style=\"fill: rgb(0, 0, 0); fill-opacity: 0;\"/></g></g><g class=\"groups\" transform=\"\"><g class=\"traces\" transform=\"translate(0,51.7)\" style=\"opacity: 1;\"><text class=\"legendtext\" text-anchor=\"start\" x=\"40\" y=\"4.680000000000001\" style=\"font-family: 'Open Sans', verdana, arial, sans-serif; font-size: 12px; fill: rgb(42, 63, 95); fill-opacity: 1; white-space: pre;\">TV Show</text><g class=\"layers\" style=\"opacity: 1;\"><g class=\"legendfill\"/><g class=\"legendlines\"/><g class=\"legendsymbols\"><g class=\"legendpoints\"><path class=\"legendundefined\" d=\"M6,6H-6V-6H6Z\" transform=\"translate(20,0)\" style=\"stroke-width: 0px; fill: rgb(250, 164, 118); fill-opacity: 1;\"/></g></g></g><rect class=\"legendtoggle\" x=\"0\" y=\"-9.5\" width=\"93.90625\" height=\"19\" style=\"fill: rgb(0, 0, 0); fill-opacity: 0;\"/></g></g></g><rect class=\"scrollbar\" rx=\"20\" ry=\"3\" width=\"0\" height=\"0\" x=\"0\" y=\"0\" style=\"fill: rgb(128, 139, 164); fill-opacity: 1;\"/></g><g class=\"g-gtitle\"><text class=\"gtitle\" x=\"35\" y=\"50\" text-anchor=\"start\" dy=\"0em\" style=\"font-family: 'Open Sans', verdana, arial, sans-serif; font-size: 17px; fill: rgb(42, 63, 95); opacity: 1; font-weight: normal; white-space: pre;\">Movies/TV Shows added by Month</text></g><g class=\"g-xtitle\"><text class=\"xtitle\" x=\"329.5\" y=\"460.3\" text-anchor=\"middle\" style=\"font-family: 'Open Sans', verdana, arial, sans-serif; font-size: 14px; fill: rgb(42, 63, 95); opacity: 1; font-weight: normal; white-space: pre;\">Month</text></g><g class=\"g-ytitle\"><text class=\"ytitle\" transform=\"rotate(-90,31.809375000000003,260)\" x=\"31.809375000000003\" y=\"260\" text-anchor=\"middle\" style=\"font-family: 'Open Sans', verdana, arial, sans-serif; font-size: 14px; fill: rgb(42, 63, 95); opacity: 1; font-weight: normal; white-space: pre;\">count</text></g></g></svg>"
      ]
     },
     "metadata": {},
     "output_type": "display_data"
    }
   ],
   "source": [
    "px.histogram(netflix, x= netflix['date_added'].dt.month, color= netflix['type'],\n",
    "             color_discrete_sequence= px.colors.sequential.Sunsetdark,\n",
    "             title=\"Movies/TV Shows added by Month\",\n",
    "             labels=dict(x=\"Month\")) "
   ]
  },
  {
   "attachments": {},
   "cell_type": "markdown",
   "metadata": {},
   "source": [
    "Number of Movies/TV-Shows added by Day"
   ]
  },
  {
   "cell_type": "code",
   "execution_count": 28,
   "metadata": {},
   "outputs": [
    {
     "data": {
      "image/svg+xml": [
       "<svg class=\"main-svg\" xmlns=\"http://www.w3.org/2000/svg\" xmlns:xlink=\"http://www.w3.org/1999/xlink\" width=\"700\" height=\"500\" style=\"\" viewBox=\"0 0 700 500\"><rect x=\"0\" y=\"0\" width=\"700\" height=\"500\" style=\"fill: rgb(255, 255, 255); fill-opacity: 1;\"/><defs id=\"defs-b399cb\"><g class=\"clips\"><clipPath id=\"clipb399cbxyplot\" class=\"plotclip\"><rect width=\"499\" height=\"320\"/></clipPath><clipPath class=\"axesclip\" id=\"clipb399cbx\"><rect x=\"80\" y=\"0\" width=\"499\" height=\"500\"/></clipPath><clipPath class=\"axesclip\" id=\"clipb399cby\"><rect x=\"0\" y=\"100\" width=\"700\" height=\"320\"/></clipPath><clipPath class=\"axesclip\" id=\"clipb399cbxy\"><rect x=\"80\" y=\"100\" width=\"499\" height=\"320\"/></clipPath></g><g class=\"gradients\"/><g class=\"patterns\"/></defs><g class=\"bglayer\"><rect class=\"bg\" x=\"80\" y=\"100\" width=\"499\" height=\"320\" style=\"fill: rgb(229, 236, 246); fill-opacity: 1; stroke-width: 0;\"/></g><g class=\"layer-below\"><g class=\"imagelayer\"/><g class=\"shapelayer\"/></g><g class=\"cartesianlayer\"><g class=\"subplot xy\"><g class=\"layer-subplot\"><g class=\"shapelayer\"/><g class=\"imagelayer\"/></g><g class=\"minor-gridlayer\"><g class=\"x\"/><g class=\"y\"/></g><g class=\"gridlayer\"><g class=\"x\"/><g class=\"y\"><path class=\"ygrid crisp\" transform=\"translate(0,351.28)\" d=\"M80,0h499\" style=\"stroke: rgb(255, 255, 255); stroke-opacity: 1; stroke-width: 1px;\"/><path class=\"ygrid crisp\" transform=\"translate(0,282.57)\" d=\"M80,0h499\" style=\"stroke: rgb(255, 255, 255); stroke-opacity: 1; stroke-width: 1px;\"/><path class=\"ygrid crisp\" transform=\"translate(0,213.85)\" d=\"M80,0h499\" style=\"stroke: rgb(255, 255, 255); stroke-opacity: 1; stroke-width: 1px;\"/><path class=\"ygrid crisp\" transform=\"translate(0,145.14)\" d=\"M80,0h499\" style=\"stroke: rgb(255, 255, 255); stroke-opacity: 1; stroke-width: 1px;\"/></g></g><g class=\"zerolinelayer\"><path class=\"yzl zl crisp\" transform=\"translate(0,420)\" d=\"M80,0h499\" style=\"stroke: rgb(255, 255, 255); stroke-opacity: 1; stroke-width: 2px;\"/></g><path class=\"xlines-below\"/><path class=\"ylines-below\"/><g class=\"overlines-below\"/><g class=\"xaxislayer-below\"/><g class=\"yaxislayer-below\"/><g class=\"overaxes-below\"/><g class=\"plot\" transform=\"translate(80,100)\" clip-path=\"url(#clipb399cbxyplot)\"><g class=\"barlayer mlayer\"><g class=\"trace bars\" shape-rendering=\"crispEdges\" style=\"opacity: 1;\"><g class=\"points\"><g class=\"point\"><path d=\"M0,320V87.74H16.1V320Z\" style=\"vector-effect: none; opacity: 1; stroke-width: 0px; fill: rgb(252, 222, 156); fill-opacity: 1;\"/></g><g class=\"point\"><path d=\"M16.1,320V287.15H32.19V320Z\" style=\"vector-effect: none; opacity: 1; stroke-width: 0px; fill: rgb(252, 222, 156); fill-opacity: 1;\"/></g><g class=\"point\"><path d=\"M32.19,320V306.39H48.29V320Z\" style=\"vector-effect: none; opacity: 1; stroke-width: 0px; fill: rgb(252, 222, 156); fill-opacity: 1;\"/></g><g class=\"point\"><path d=\"M48.29,320V304.06H64.39V320Z\" style=\"vector-effect: none; opacity: 1; stroke-width: 0px; fill: rgb(252, 222, 156); fill-opacity: 1;\"/></g><g class=\"point\"><path d=\"M64.39,320V296.91H80.48V320Z\" style=\"vector-effect: none; opacity: 1; stroke-width: 0px; fill: rgb(252, 222, 156); fill-opacity: 1;\"/></g><g class=\"point\"><path d=\"M80.48,320V300.62H96.58V320Z\" style=\"vector-effect: none; opacity: 1; stroke-width: 0px; fill: rgb(252, 222, 156); fill-opacity: 1;\"/></g><g class=\"point\"><path d=\"M96.58,320V302H112.68V320Z\" style=\"vector-effect: none; opacity: 1; stroke-width: 0px; fill: rgb(252, 222, 156); fill-opacity: 1;\"/></g><g class=\"point\"><path d=\"M112.68,320V302.27H128.77V320Z\" style=\"vector-effect: none; opacity: 1; stroke-width: 0px; fill: rgb(252, 222, 156); fill-opacity: 1;\"/></g><g class=\"point\"><path d=\"M128.77,320V307.22H144.87V320Z\" style=\"vector-effect: none; opacity: 1; stroke-width: 0px; fill: rgb(252, 222, 156); fill-opacity: 1;\"/></g><g class=\"point\"><path d=\"M144.87,320V301.58H160.97V320Z\" style=\"vector-effect: none; opacity: 1; stroke-width: 0px; fill: rgb(252, 222, 156); fill-opacity: 1;\"/></g><g class=\"point\"><path d=\"M160.97,320V306.26H177.06V320Z\" style=\"vector-effect: none; opacity: 1; stroke-width: 0px; fill: rgb(252, 222, 156); fill-opacity: 1;\"/></g><g class=\"point\"><path d=\"M177.06,320V303.23H193.16V320Z\" style=\"vector-effect: none; opacity: 1; stroke-width: 0px; fill: rgb(252, 222, 156); fill-opacity: 1;\"/></g><g class=\"point\"><path d=\"M193.16,320V303.23H209.26V320Z\" style=\"vector-effect: none; opacity: 1; stroke-width: 0px; fill: rgb(252, 222, 156); fill-opacity: 1;\"/></g><g class=\"point\"><path d=\"M209.26,320V303.37H225.35V320Z\" style=\"vector-effect: none; opacity: 1; stroke-width: 0px; fill: rgb(252, 222, 156); fill-opacity: 1;\"/></g><g class=\"point\"><path d=\"M225.35,320V256.92H241.45V320Z\" style=\"vector-effect: none; opacity: 1; stroke-width: 0px; fill: rgb(252, 222, 156); fill-opacity: 1;\"/></g><g class=\"point\"><path d=\"M241.45,320V290.45H257.55V320Z\" style=\"vector-effect: none; opacity: 1; stroke-width: 0px; fill: rgb(252, 222, 156); fill-opacity: 1;\"/></g><g class=\"point\"><path d=\"M257.55,320V305.02H273.65V320Z\" style=\"vector-effect: none; opacity: 1; stroke-width: 0px; fill: rgb(252, 222, 156); fill-opacity: 1;\"/></g><g class=\"point\"><path d=\"M273.65,320V300.76H289.74V320Z\" style=\"vector-effect: none; opacity: 1; stroke-width: 0px; fill: rgb(252, 222, 156); fill-opacity: 1;\"/></g><g class=\"point\"><path d=\"M289.74,320V296.91H305.84V320Z\" style=\"vector-effect: none; opacity: 1; stroke-width: 0px; fill: rgb(252, 222, 156); fill-opacity: 1;\"/></g><g class=\"point\"><path d=\"M305.84,320V296.77H321.94V320Z\" style=\"vector-effect: none; opacity: 1; stroke-width: 0px; fill: rgb(252, 222, 156); fill-opacity: 1;\"/></g><g class=\"point\"><path d=\"M321.94,320V301.72H338.03V320Z\" style=\"vector-effect: none; opacity: 1; stroke-width: 0px; fill: rgb(252, 222, 156); fill-opacity: 1;\"/></g><g class=\"point\"><path d=\"M338.03,320V299.39H354.13V320Z\" style=\"vector-effect: none; opacity: 1; stroke-width: 0px; fill: rgb(252, 222, 156); fill-opacity: 1;\"/></g><g class=\"point\"><path d=\"M354.13,320V302.96H370.23V320Z\" style=\"vector-effect: none; opacity: 1; stroke-width: 0px; fill: rgb(252, 222, 156); fill-opacity: 1;\"/></g><g class=\"point\"><path d=\"M370.23,320V305.98H386.32V320Z\" style=\"vector-effect: none; opacity: 1; stroke-width: 0px; fill: rgb(252, 222, 156); fill-opacity: 1;\"/></g><g class=\"point\"><path d=\"M386.32,320V300.76H402.42V320Z\" style=\"vector-effect: none; opacity: 1; stroke-width: 0px; fill: rgb(252, 222, 156); fill-opacity: 1;\"/></g><g class=\"point\"><path d=\"M402.42,320V299.11H418.52V320Z\" style=\"vector-effect: none; opacity: 1; stroke-width: 0px; fill: rgb(252, 222, 156); fill-opacity: 1;\"/></g><g class=\"point\"><path d=\"M418.52,320V302.27H434.61V320Z\" style=\"vector-effect: none; opacity: 1; stroke-width: 0px; fill: rgb(252, 222, 156); fill-opacity: 1;\"/></g><g class=\"point\"><path d=\"M434.61,320V301.58H450.71V320Z\" style=\"vector-effect: none; opacity: 1; stroke-width: 0px; fill: rgb(252, 222, 156); fill-opacity: 1;\"/></g><g class=\"point\"><path d=\"M450.71,320V306.67H466.81V320Z\" style=\"vector-effect: none; opacity: 1; stroke-width: 0px; fill: rgb(252, 222, 156); fill-opacity: 1;\"/></g><g class=\"point\"><path d=\"M466.81,320V303.65H482.9V320Z\" style=\"vector-effect: none; opacity: 1; stroke-width: 0px; fill: rgb(252, 222, 156); fill-opacity: 1;\"/></g><g class=\"point\"><path d=\"M482.9,320V294.44H499V320Z\" style=\"vector-effect: none; opacity: 1; stroke-width: 0px; fill: rgb(252, 222, 156); fill-opacity: 1;\"/></g></g></g><g class=\"trace bars\" shape-rendering=\"crispEdges\" style=\"opacity: 1;\"><g class=\"points\"><g class=\"point\"><path d=\"M0,87.74V16H16.1V87.74Z\" style=\"vector-effect: none; opacity: 1; stroke-width: 0px; fill: rgb(250, 164, 118); fill-opacity: 1;\"/></g><g class=\"point\"><path d=\"M16.1,287.15V275.33H32.19V287.15Z\" style=\"vector-effect: none; opacity: 1; stroke-width: 0px; fill: rgb(250, 164, 118); fill-opacity: 1;\"/></g><g class=\"point\"><path d=\"M32.19,306.39V299.25H48.29V306.39Z\" style=\"vector-effect: none; opacity: 1; stroke-width: 0px; fill: rgb(250, 164, 118); fill-opacity: 1;\"/></g><g class=\"point\"><path d=\"M48.29,304.06V295.95H64.39V304.06Z\" style=\"vector-effect: none; opacity: 1; stroke-width: 0px; fill: rgb(250, 164, 118); fill-opacity: 1;\"/></g><g class=\"point\"><path d=\"M64.39,296.91V288.25H80.48V296.91Z\" style=\"vector-effect: none; opacity: 1; stroke-width: 0px; fill: rgb(250, 164, 118); fill-opacity: 1;\"/></g><g class=\"point\"><path d=\"M80.48,300.62V291.14H96.58V300.62Z\" style=\"vector-effect: none; opacity: 1; stroke-width: 0px; fill: rgb(250, 164, 118); fill-opacity: 1;\"/></g><g class=\"point\"><path d=\"M96.58,302V293.34H112.68V302Z\" style=\"vector-effect: none; opacity: 1; stroke-width: 0px; fill: rgb(250, 164, 118); fill-opacity: 1;\"/></g><g class=\"point\"><path d=\"M112.68,302.27V292.38H128.77V302.27Z\" style=\"vector-effect: none; opacity: 1; stroke-width: 0px; fill: rgb(250, 164, 118); fill-opacity: 1;\"/></g><g class=\"point\"><path d=\"M128.77,307.22V299.8H144.87V307.22Z\" style=\"vector-effect: none; opacity: 1; stroke-width: 0px; fill: rgb(250, 164, 118); fill-opacity: 1;\"/></g><g class=\"point\"><path d=\"M144.87,301.58V290.59H160.97V301.58Z\" style=\"vector-effect: none; opacity: 1; stroke-width: 0px; fill: rgb(250, 164, 118); fill-opacity: 1;\"/></g><g class=\"point\"><path d=\"M160.97,306.26V299.52H177.06V306.26Z\" style=\"vector-effect: none; opacity: 1; stroke-width: 0px; fill: rgb(250, 164, 118); fill-opacity: 1;\"/></g><g class=\"point\"><path d=\"M177.06,303.23V295.12H193.16V303.23Z\" style=\"vector-effect: none; opacity: 1; stroke-width: 0px; fill: rgb(250, 164, 118); fill-opacity: 1;\"/></g><g class=\"point\"><path d=\"M193.16,303.23V295.95H209.26V303.23Z\" style=\"vector-effect: none; opacity: 1; stroke-width: 0px; fill: rgb(250, 164, 118); fill-opacity: 1;\"/></g><g class=\"point\"><path d=\"M209.26,303.37V292.79H225.35V303.37Z\" style=\"vector-effect: none; opacity: 1; stroke-width: 0px; fill: rgb(250, 164, 118); fill-opacity: 1;\"/></g><g class=\"point\"><path d=\"M225.35,256.92V225.58H241.45V256.92Z\" style=\"vector-effect: none; opacity: 1; stroke-width: 0px; fill: rgb(250, 164, 118); fill-opacity: 1;\"/></g><g class=\"point\"><path d=\"M241.45,290.45V280.28H257.55V290.45Z\" style=\"vector-effect: none; opacity: 1; stroke-width: 0px; fill: rgb(250, 164, 118); fill-opacity: 1;\"/></g><g class=\"point\"><path d=\"M257.55,305.02V295.26H273.65V305.02Z\" style=\"vector-effect: none; opacity: 1; stroke-width: 0px; fill: rgb(250, 164, 118); fill-opacity: 1;\"/></g><g class=\"point\"><path d=\"M273.65,300.76V291.55H289.74V300.76Z\" style=\"vector-effect: none; opacity: 1; stroke-width: 0px; fill: rgb(250, 164, 118); fill-opacity: 1;\"/></g><g class=\"point\"><path d=\"M289.74,296.91V286.6H305.84V296.91Z\" style=\"vector-effect: none; opacity: 1; stroke-width: 0px; fill: rgb(250, 164, 118); fill-opacity: 1;\"/></g><g class=\"point\"><path d=\"M305.84,296.77V285.78H321.94V296.77Z\" style=\"vector-effect: none; opacity: 1; stroke-width: 0px; fill: rgb(250, 164, 118); fill-opacity: 1;\"/></g><g class=\"point\"><path d=\"M321.94,301.72V293.48H338.03V301.72Z\" style=\"vector-effect: none; opacity: 1; stroke-width: 0px; fill: rgb(250, 164, 118); fill-opacity: 1;\"/></g><g class=\"point\"><path d=\"M338.03,299.39V288.39H354.13V299.39Z\" style=\"vector-effect: none; opacity: 1; stroke-width: 0px; fill: rgb(250, 164, 118); fill-opacity: 1;\"/></g><g class=\"point\"><path d=\"M354.13,302.96V294.71H370.23V302.96Z\" style=\"vector-effect: none; opacity: 1; stroke-width: 0px; fill: rgb(250, 164, 118); fill-opacity: 1;\"/></g><g class=\"point\"><path d=\"M370.23,305.98V298.15H386.32V305.98Z\" style=\"vector-effect: none; opacity: 1; stroke-width: 0px; fill: rgb(250, 164, 118); fill-opacity: 1;\"/></g><g class=\"point\"><path d=\"M386.32,300.76V292.93H402.42V300.76Z\" style=\"vector-effect: none; opacity: 1; stroke-width: 0px; fill: rgb(250, 164, 118); fill-opacity: 1;\"/></g><g class=\"point\"><path d=\"M402.42,299.11V291.69H418.52V299.11Z\" style=\"vector-effect: none; opacity: 1; stroke-width: 0px; fill: rgb(250, 164, 118); fill-opacity: 1;\"/></g><g class=\"point\"><path d=\"M418.52,302.27V293.2H434.61V302.27Z\" style=\"vector-effect: none; opacity: 1; stroke-width: 0px; fill: rgb(250, 164, 118); fill-opacity: 1;\"/></g><g class=\"point\"><path d=\"M434.61,301.58V293.89H450.71V301.58Z\" style=\"vector-effect: none; opacity: 1; stroke-width: 0px; fill: rgb(250, 164, 118); fill-opacity: 1;\"/></g><g class=\"point\"><path d=\"M450.71,306.67V300.62H466.81V306.67Z\" style=\"vector-effect: none; opacity: 1; stroke-width: 0px; fill: rgb(250, 164, 118); fill-opacity: 1;\"/></g><g class=\"point\"><path d=\"M466.81,303.65V291.14H482.9V303.65Z\" style=\"vector-effect: none; opacity: 1; stroke-width: 0px; fill: rgb(250, 164, 118); fill-opacity: 1;\"/></g><g class=\"point\"><path d=\"M482.9,294.44V282.34H499V294.44Z\" style=\"vector-effect: none; opacity: 1; stroke-width: 0px; fill: rgb(250, 164, 118); fill-opacity: 1;\"/></g></g></g></g></g><g class=\"overplot\"/><path class=\"xlines-above crisp\" d=\"M0,0\" style=\"fill: none;\"/><path class=\"ylines-above crisp\" d=\"M0,0\" style=\"fill: none;\"/><g class=\"overlines-above\"/><g class=\"xaxislayer-above\"><g class=\"xtick\"><text text-anchor=\"middle\" x=\"0\" y=\"433\" transform=\"translate(152.44,0)\" style=\"font-family: 'Open Sans', verdana, arial, sans-serif; font-size: 12px; fill: rgb(42, 63, 95); fill-opacity: 1; white-space: pre; opacity: 1;\">5</text></g><g class=\"xtick\"><text text-anchor=\"middle\" x=\"0\" y=\"433\" style=\"font-family: 'Open Sans', verdana, arial, sans-serif; font-size: 12px; fill: rgb(42, 63, 95); fill-opacity: 1; white-space: pre; opacity: 1;\" transform=\"translate(232.92,0)\">10</text></g><g class=\"xtick\"><text text-anchor=\"middle\" x=\"0\" y=\"433\" style=\"font-family: 'Open Sans', verdana, arial, sans-serif; font-size: 12px; fill: rgb(42, 63, 95); fill-opacity: 1; white-space: pre; opacity: 1;\" transform=\"translate(313.4,0)\">15</text></g><g class=\"xtick\"><text text-anchor=\"middle\" x=\"0\" y=\"433\" style=\"font-family: 'Open Sans', verdana, arial, sans-serif; font-size: 12px; fill: rgb(42, 63, 95); fill-opacity: 1; white-space: pre; opacity: 1;\" transform=\"translate(393.89,0)\">20</text></g><g class=\"xtick\"><text text-anchor=\"middle\" x=\"0\" y=\"433\" style=\"font-family: 'Open Sans', verdana, arial, sans-serif; font-size: 12px; fill: rgb(42, 63, 95); fill-opacity: 1; white-space: pre; opacity: 1;\" transform=\"translate(474.37,0)\">25</text></g><g class=\"xtick\"><text text-anchor=\"middle\" x=\"0\" y=\"433\" style=\"font-family: 'Open Sans', verdana, arial, sans-serif; font-size: 12px; fill: rgb(42, 63, 95); fill-opacity: 1; white-space: pre; opacity: 1;\" transform=\"translate(554.85,0)\">30</text></g></g><g class=\"yaxislayer-above\"><g class=\"ytick\"><text text-anchor=\"end\" x=\"79\" y=\"4.199999999999999\" transform=\"translate(0,420)\" style=\"font-family: 'Open Sans', verdana, arial, sans-serif; font-size: 12px; fill: rgb(42, 63, 95); fill-opacity: 1; white-space: pre; opacity: 1;\">0</text></g><g class=\"ytick\"><text text-anchor=\"end\" x=\"79\" y=\"4.199999999999999\" style=\"font-family: 'Open Sans', verdana, arial, sans-serif; font-size: 12px; fill: rgb(42, 63, 95); fill-opacity: 1; white-space: pre; opacity: 1;\" transform=\"translate(0,351.28)\">500</text></g><g class=\"ytick\"><text text-anchor=\"end\" x=\"79\" y=\"4.199999999999999\" style=\"font-family: 'Open Sans', verdana, arial, sans-serif; font-size: 12px; fill: rgb(42, 63, 95); fill-opacity: 1; white-space: pre; opacity: 1;\" transform=\"translate(0,282.57)\">1000</text></g><g class=\"ytick\"><text text-anchor=\"end\" x=\"79\" y=\"4.199999999999999\" style=\"font-family: 'Open Sans', verdana, arial, sans-serif; font-size: 12px; fill: rgb(42, 63, 95); fill-opacity: 1; white-space: pre; opacity: 1;\" transform=\"translate(0,213.85)\">1500</text></g><g class=\"ytick\"><text text-anchor=\"end\" x=\"79\" y=\"4.199999999999999\" style=\"font-family: 'Open Sans', verdana, arial, sans-serif; font-size: 12px; fill: rgb(42, 63, 95); fill-opacity: 1; white-space: pre; opacity: 1;\" transform=\"translate(0,145.14)\">2000</text></g></g><g class=\"overaxes-above\"/></g></g><g class=\"polarlayer\"/><g class=\"smithlayer\"/><g class=\"ternarylayer\"/><g class=\"geolayer\"/><g class=\"funnelarealayer\"/><g class=\"pielayer\"/><g class=\"iciclelayer\"/><g class=\"treemaplayer\"/><g class=\"sunburstlayer\"/><g class=\"glimages\"/><defs id=\"topdefs-b399cb\"><g class=\"clips\"/><clipPath id=\"legendb399cb\"><rect width=\"99\" height=\"67\" x=\"0\" y=\"0\"/></clipPath></defs><g class=\"layer-above\"><g class=\"imagelayer\"/><g class=\"shapelayer\"/></g><g class=\"infolayer\"><g class=\"legend\" pointer-events=\"all\" transform=\"translate(588.98,100)\"><rect class=\"bg\" shape-rendering=\"crispEdges\" width=\"99\" height=\"67\" x=\"0\" y=\"0\" style=\"stroke: rgb(68, 68, 68); stroke-opacity: 1; fill: rgb(255, 255, 255); fill-opacity: 1; stroke-width: 0px;\"/><g class=\"scrollbox\" transform=\"\" clip-path=\"url(#legendb399cb)\"><text class=\"legendtitletext\" text-anchor=\"start\" x=\"2\" y=\"18.2\" style=\"font-family: 'Open Sans', verdana, arial, sans-serif; font-size: 14px; fill: rgb(42, 63, 95); fill-opacity: 1; white-space: pre;\">type</text><g class=\"groups\" transform=\"\"><g class=\"traces\" transform=\"translate(0,32.7)\" style=\"opacity: 1;\"><text class=\"legendtext\" text-anchor=\"start\" x=\"40\" y=\"4.680000000000001\" style=\"font-family: 'Open Sans', verdana, arial, sans-serif; font-size: 12px; fill: rgb(42, 63, 95); fill-opacity: 1; white-space: pre;\">Movie</text><g class=\"layers\" style=\"opacity: 1;\"><g class=\"legendfill\"/><g class=\"legendlines\"/><g class=\"legendsymbols\"><g class=\"legendpoints\"><path class=\"legendundefined\" d=\"M6,6H-6V-6H6Z\" transform=\"translate(20,0)\" style=\"stroke-width: 0px; fill: rgb(252, 222, 156); fill-opacity: 1;\"/></g></g></g><rect class=\"legendtoggle\" x=\"0\" y=\"-9.5\" width=\"93.90625\" height=\"19\" style=\"fill: rgb(0, 0, 0); fill-opacity: 0;\"/></g></g><g class=\"groups\" transform=\"\"><g class=\"traces\" transform=\"translate(0,51.7)\" style=\"opacity: 1;\"><text class=\"legendtext\" text-anchor=\"start\" x=\"40\" y=\"4.680000000000001\" style=\"font-family: 'Open Sans', verdana, arial, sans-serif; font-size: 12px; fill: rgb(42, 63, 95); fill-opacity: 1; white-space: pre;\">TV Show</text><g class=\"layers\" style=\"opacity: 1;\"><g class=\"legendfill\"/><g class=\"legendlines\"/><g class=\"legendsymbols\"><g class=\"legendpoints\"><path class=\"legendundefined\" d=\"M6,6H-6V-6H6Z\" transform=\"translate(20,0)\" style=\"stroke-width: 0px; fill: rgb(250, 164, 118); fill-opacity: 1;\"/></g></g></g><rect class=\"legendtoggle\" x=\"0\" y=\"-9.5\" width=\"93.90625\" height=\"19\" style=\"fill: rgb(0, 0, 0); fill-opacity: 0;\"/></g></g></g><rect class=\"scrollbar\" rx=\"20\" ry=\"3\" width=\"0\" height=\"0\" x=\"0\" y=\"0\" style=\"fill: rgb(128, 139, 164); fill-opacity: 1;\"/></g><g class=\"g-gtitle\"><text class=\"gtitle\" x=\"35\" y=\"50\" text-anchor=\"start\" dy=\"0em\" style=\"font-family: 'Open Sans', verdana, arial, sans-serif; font-size: 17px; fill: rgb(42, 63, 95); opacity: 1; font-weight: normal; white-space: pre;\">Movies/TV Shows added by Day</text></g><g class=\"g-xtitle\"><text class=\"xtitle\" x=\"329.5\" y=\"460.3\" text-anchor=\"middle\" style=\"font-family: 'Open Sans', verdana, arial, sans-serif; font-size: 14px; fill: rgb(42, 63, 95); opacity: 1; font-weight: normal; white-space: pre;\">Day</text></g><g class=\"g-ytitle\"><text class=\"ytitle\" transform=\"rotate(-90,24.184375000000003,260)\" x=\"24.184375000000003\" y=\"260\" text-anchor=\"middle\" style=\"font-family: 'Open Sans', verdana, arial, sans-serif; font-size: 14px; fill: rgb(42, 63, 95); opacity: 1; font-weight: normal; white-space: pre;\">count</text></g></g></svg>"
      ]
     },
     "metadata": {},
     "output_type": "display_data"
    }
   ],
   "source": [
    "px.histogram(netflix, x= netflix['date_added'].dt.day,color= netflix['type'],\n",
    "             color_discrete_sequence= px.colors.sequential.Sunsetdark,            \n",
    "             title=\"Movies/TV Shows added by Day\",\n",
    "             labels=dict(x=\"Day\")) "
   ]
  },
  {
   "attachments": {},
   "cell_type": "markdown",
   "metadata": {},
   "source": [
    "Number of Movies/TV-Shows by year of release"
   ]
  },
  {
   "cell_type": "code",
   "execution_count": 29,
   "metadata": {},
   "outputs": [
    {
     "data": {
      "image/svg+xml": [
       "<svg class=\"main-svg\" xmlns=\"http://www.w3.org/2000/svg\" xmlns:xlink=\"http://www.w3.org/1999/xlink\" width=\"700\" height=\"500\" style=\"\" viewBox=\"0 0 700 500\"><rect x=\"0\" y=\"0\" width=\"700\" height=\"500\" style=\"fill: rgb(255, 255, 255); fill-opacity: 1;\"/><defs id=\"defs-e943d3\"><g class=\"clips\"><clipPath id=\"clipe943d3xyplot\" class=\"plotclip\"><rect width=\"499\" height=\"320\"/></clipPath><clipPath class=\"axesclip\" id=\"clipe943d3x\"><rect x=\"80\" y=\"0\" width=\"499\" height=\"500\"/></clipPath><clipPath class=\"axesclip\" id=\"clipe943d3y\"><rect x=\"0\" y=\"100\" width=\"700\" height=\"320\"/></clipPath><clipPath class=\"axesclip\" id=\"clipe943d3xy\"><rect x=\"80\" y=\"100\" width=\"499\" height=\"320\"/></clipPath></g><g class=\"gradients\"/><g class=\"patterns\"/></defs><g class=\"bglayer\"><rect class=\"bg\" x=\"80\" y=\"100\" width=\"499\" height=\"320\" style=\"fill: rgb(229, 236, 246); fill-opacity: 1; stroke-width: 0;\"/></g><g class=\"layer-below\"><g class=\"imagelayer\"/><g class=\"shapelayer\"/></g><g class=\"cartesianlayer\"><g class=\"subplot xy\"><g class=\"layer-subplot\"><g class=\"shapelayer\"/><g class=\"imagelayer\"/></g><g class=\"minor-gridlayer\"><g class=\"x\"/><g class=\"y\"/></g><g class=\"gridlayer\"><g class=\"x\"/><g class=\"y\"><path class=\"ygrid crisp\" transform=\"translate(0,366.95)\" d=\"M80,0h499\" style=\"stroke: rgb(255, 255, 255); stroke-opacity: 1; stroke-width: 1px;\"/><path class=\"ygrid crisp\" transform=\"translate(0,313.89)\" d=\"M80,0h499\" style=\"stroke: rgb(255, 255, 255); stroke-opacity: 1; stroke-width: 1px;\"/><path class=\"ygrid crisp\" transform=\"translate(0,260.84000000000003)\" d=\"M80,0h499\" style=\"stroke: rgb(255, 255, 255); stroke-opacity: 1; stroke-width: 1px;\"/><path class=\"ygrid crisp\" transform=\"translate(0,207.78)\" d=\"M80,0h499\" style=\"stroke: rgb(255, 255, 255); stroke-opacity: 1; stroke-width: 1px;\"/><path class=\"ygrid crisp\" transform=\"translate(0,154.73)\" d=\"M80,0h499\" style=\"stroke: rgb(255, 255, 255); stroke-opacity: 1; stroke-width: 1px;\"/><path class=\"ygrid crisp\" transform=\"translate(0,101.68)\" d=\"M80,0h499\" style=\"stroke: rgb(255, 255, 255); stroke-opacity: 1; stroke-width: 1px;\"/></g></g><g class=\"zerolinelayer\"><path class=\"yzl zl crisp\" transform=\"translate(0,420)\" d=\"M80,0h499\" style=\"stroke: rgb(255, 255, 255); stroke-opacity: 1; stroke-width: 2px;\"/></g><path class=\"xlines-below\"/><path class=\"ylines-below\"/><g class=\"overlines-below\"/><g class=\"xaxislayer-below\"/><g class=\"yaxislayer-below\"/><g class=\"overaxes-below\"/><g class=\"plot\" transform=\"translate(80,100)\" clip-path=\"url(#clipe943d3xyplot)\"><g class=\"barlayer mlayer\"><g class=\"trace bars\" shape-rendering=\"crispEdges\" style=\"opacity: 1;\"><g class=\"points\"><g class=\"point\"><path d=\"M87.45,320V319.47H92.6V320Z\" style=\"vector-effect: none; opacity: 1; stroke-width: 0px; fill: rgb(252, 222, 156); fill-opacity: 1;\"/></g><g class=\"point\"><path d=\"M92.6,320V319.2H97.74V320Z\" style=\"vector-effect: none; opacity: 1; stroke-width: 0px; fill: rgb(252, 222, 156); fill-opacity: 1;\"/></g><g class=\"point\"><path d=\"M97.74,320V319.2H102.89V320Z\" style=\"vector-effect: none; opacity: 1; stroke-width: 0px; fill: rgb(252, 222, 156); fill-opacity: 1;\"/></g><g class=\"point\"><path d=\"M102.89,320V319.2H108.03V320Z\" style=\"vector-effect: none; opacity: 1; stroke-width: 0px; fill: rgb(252, 222, 156); fill-opacity: 1;\"/></g><g class=\"point\"><path d=\"M108.03,320V319.73H113.18V320Z\" style=\"vector-effect: none; opacity: 1; stroke-width: 0px; fill: rgb(252, 222, 156); fill-opacity: 1;\"/></g><g class=\"point\"><path d=\"M113.18,320V319.73H118.32V320Z\" style=\"vector-effect: none; opacity: 1; stroke-width: 0px; fill: rgb(252, 222, 156); fill-opacity: 1;\"/></g><g class=\"point\"><path d=\"M0,0Z\" style=\"vector-effect: none; opacity: 1; stroke-width: 0px; fill: rgb(252, 222, 156); fill-opacity: 1;\"/></g><g class=\"point\"><path d=\"M0,0Z\" style=\"vector-effect: none; opacity: 1; stroke-width: 0px; fill: rgb(252, 222, 156); fill-opacity: 1;\"/></g><g class=\"point\"><path d=\"M0,0Z\" style=\"vector-effect: none; opacity: 1; stroke-width: 0px; fill: rgb(252, 222, 156); fill-opacity: 1;\"/></g><g class=\"point\"><path d=\"M0,0Z\" style=\"vector-effect: none; opacity: 1; stroke-width: 0px; fill: rgb(252, 222, 156); fill-opacity: 1;\"/></g><g class=\"point\"><path d=\"M0,0Z\" style=\"vector-effect: none; opacity: 1; stroke-width: 0px; fill: rgb(252, 222, 156); fill-opacity: 1;\"/></g><g class=\"point\"><path d=\"M0,0Z\" style=\"vector-effect: none; opacity: 1; stroke-width: 0px; fill: rgb(252, 222, 156); fill-opacity: 1;\"/></g><g class=\"point\"><path d=\"M149.19,320V319.47H154.33V320Z\" style=\"vector-effect: none; opacity: 1; stroke-width: 0px; fill: rgb(252, 222, 156); fill-opacity: 1;\"/></g><g class=\"point\"><path d=\"M154.33,320V319.2H159.47V320Z\" style=\"vector-effect: none; opacity: 1; stroke-width: 0px; fill: rgb(252, 222, 156); fill-opacity: 1;\"/></g><g class=\"point\"><path d=\"M159.47,320V319.47H164.62V320Z\" style=\"vector-effect: none; opacity: 1; stroke-width: 0px; fill: rgb(252, 222, 156); fill-opacity: 1;\"/></g><g class=\"point\"><path d=\"M0,0Z\" style=\"vector-effect: none; opacity: 1; stroke-width: 0px; fill: rgb(252, 222, 156); fill-opacity: 1;\"/></g><g class=\"point\"><path d=\"M169.76,320V319.2H174.91V320Z\" style=\"vector-effect: none; opacity: 1; stroke-width: 0px; fill: rgb(252, 222, 156); fill-opacity: 1;\"/></g><g class=\"point\"><path d=\"M174.91,320V319.73H180.05V320Z\" style=\"vector-effect: none; opacity: 1; stroke-width: 0px; fill: rgb(252, 222, 156); fill-opacity: 1;\"/></g><g class=\"point\"><path d=\"M180.05,320V318.94H185.2V320Z\" style=\"vector-effect: none; opacity: 1; stroke-width: 0px; fill: rgb(252, 222, 156); fill-opacity: 1;\"/></g><g class=\"point\"><path d=\"M185.2,320V319.73H190.34V320Z\" style=\"vector-effect: none; opacity: 1; stroke-width: 0px; fill: rgb(252, 222, 156); fill-opacity: 1;\"/></g><g class=\"point\"><path d=\"M190.34,320V319.2H195.48V320Z\" style=\"vector-effect: none; opacity: 1; stroke-width: 0px; fill: rgb(252, 222, 156); fill-opacity: 1;\"/></g><g class=\"point\"><path d=\"M195.48,320V319.73H200.63V320Z\" style=\"vector-effect: none; opacity: 1; stroke-width: 0px; fill: rgb(252, 222, 156); fill-opacity: 1;\"/></g><g class=\"point\"><path d=\"M200.63,320V319.47H205.77V320Z\" style=\"vector-effect: none; opacity: 1; stroke-width: 0px; fill: rgb(252, 222, 156); fill-opacity: 1;\"/></g><g class=\"point\"><path d=\"M205.77,320V319.47H210.92V320Z\" style=\"vector-effect: none; opacity: 1; stroke-width: 0px; fill: rgb(252, 222, 156); fill-opacity: 1;\"/></g><g class=\"point\"><path d=\"M210.92,320V319.73H216.06V320Z\" style=\"vector-effect: none; opacity: 1; stroke-width: 0px; fill: rgb(252, 222, 156); fill-opacity: 1;\"/></g><g class=\"point\"><path d=\"M216.06,320V318.94H221.21V320Z\" style=\"vector-effect: none; opacity: 1; stroke-width: 0px; fill: rgb(252, 222, 156); fill-opacity: 1;\"/></g><g class=\"point\"><path d=\"M221.21,320V319.2H226.35V320Z\" style=\"vector-effect: none; opacity: 1; stroke-width: 0px; fill: rgb(252, 222, 156); fill-opacity: 1;\"/></g><g class=\"point\"><path d=\"M226.35,320V319.47H231.49V320Z\" style=\"vector-effect: none; opacity: 1; stroke-width: 0px; fill: rgb(252, 222, 156); fill-opacity: 1;\"/></g><g class=\"point\"><path d=\"M231.49,320V319.47H236.64V320Z\" style=\"vector-effect: none; opacity: 1; stroke-width: 0px; fill: rgb(252, 222, 156); fill-opacity: 1;\"/></g><g class=\"point\"><path d=\"M236.64,320V318.67H241.78V320Z\" style=\"vector-effect: none; opacity: 1; stroke-width: 0px; fill: rgb(252, 222, 156); fill-opacity: 1;\"/></g><g class=\"point\"><path d=\"M241.78,320V318.94H246.93V320Z\" style=\"vector-effect: none; opacity: 1; stroke-width: 0px; fill: rgb(252, 222, 156); fill-opacity: 1;\"/></g><g class=\"point\"><path d=\"M246.93,320V317.35H252.07V320Z\" style=\"vector-effect: none; opacity: 1; stroke-width: 0px; fill: rgb(252, 222, 156); fill-opacity: 1;\"/></g><g class=\"point\"><path d=\"M252.07,320V318.41H257.22V320Z\" style=\"vector-effect: none; opacity: 1; stroke-width: 0px; fill: rgb(252, 222, 156); fill-opacity: 1;\"/></g><g class=\"point\"><path d=\"M257.22,320V318.14H262.36V320Z\" style=\"vector-effect: none; opacity: 1; stroke-width: 0px; fill: rgb(252, 222, 156); fill-opacity: 1;\"/></g><g class=\"point\"><path d=\"M262.36,320V317.61H267.51V320Z\" style=\"vector-effect: none; opacity: 1; stroke-width: 0px; fill: rgb(252, 222, 156); fill-opacity: 1;\"/></g><g class=\"point\"><path d=\"M267.51,320V318.41H272.65V320Z\" style=\"vector-effect: none; opacity: 1; stroke-width: 0px; fill: rgb(252, 222, 156); fill-opacity: 1;\"/></g><g class=\"point\"><path d=\"M272.65,320V318.14H277.79V320Z\" style=\"vector-effect: none; opacity: 1; stroke-width: 0px; fill: rgb(252, 222, 156); fill-opacity: 1;\"/></g><g class=\"point\"><path d=\"M277.79,320V317.35H282.94V320Z\" style=\"vector-effect: none; opacity: 1; stroke-width: 0px; fill: rgb(252, 222, 156); fill-opacity: 1;\"/></g><g class=\"point\"><path d=\"M282.94,320V317.08H288.08V320Z\" style=\"vector-effect: none; opacity: 1; stroke-width: 0px; fill: rgb(252, 222, 156); fill-opacity: 1;\"/></g><g class=\"point\"><path d=\"M288.08,320V316.82H293.23V320Z\" style=\"vector-effect: none; opacity: 1; stroke-width: 0px; fill: rgb(252, 222, 156); fill-opacity: 1;\"/></g><g class=\"point\"><path d=\"M293.23,320V315.49H298.37V320Z\" style=\"vector-effect: none; opacity: 1; stroke-width: 0px; fill: rgb(252, 222, 156); fill-opacity: 1;\"/></g><g class=\"point\"><path d=\"M298.37,320V317.08H303.52V320Z\" style=\"vector-effect: none; opacity: 1; stroke-width: 0px; fill: rgb(252, 222, 156); fill-opacity: 1;\"/></g><g class=\"point\"><path d=\"M303.52,320V316.82H308.66V320Z\" style=\"vector-effect: none; opacity: 1; stroke-width: 0px; fill: rgb(252, 222, 156); fill-opacity: 1;\"/></g><g class=\"point\"><path d=\"M308.66,320V317.61H313.8V320Z\" style=\"vector-effect: none; opacity: 1; stroke-width: 0px; fill: rgb(252, 222, 156); fill-opacity: 1;\"/></g><g class=\"point\"><path d=\"M313.8,320V317.08H318.95V320Z\" style=\"vector-effect: none; opacity: 1; stroke-width: 0px; fill: rgb(252, 222, 156); fill-opacity: 1;\"/></g><g class=\"point\"><path d=\"M318.95,320V317.88H324.09V320Z\" style=\"vector-effect: none; opacity: 1; stroke-width: 0px; fill: rgb(252, 222, 156); fill-opacity: 1;\"/></g><g class=\"point\"><path d=\"M324.09,320V315.76H329.24V320Z\" style=\"vector-effect: none; opacity: 1; stroke-width: 0px; fill: rgb(252, 222, 156); fill-opacity: 1;\"/></g><g class=\"point\"><path d=\"M329.24,320V316.02H334.38V320Z\" style=\"vector-effect: none; opacity: 1; stroke-width: 0px; fill: rgb(252, 222, 156); fill-opacity: 1;\"/></g><g class=\"point\"><path d=\"M334.38,320V314.96H339.53V320Z\" style=\"vector-effect: none; opacity: 1; stroke-width: 0px; fill: rgb(252, 222, 156); fill-opacity: 1;\"/></g><g class=\"point\"><path d=\"M339.53,320V315.76H344.67V320Z\" style=\"vector-effect: none; opacity: 1; stroke-width: 0px; fill: rgb(252, 222, 156); fill-opacity: 1;\"/></g><g class=\"point\"><path d=\"M344.67,320V314.69H349.81V320Z\" style=\"vector-effect: none; opacity: 1; stroke-width: 0px; fill: rgb(252, 222, 156); fill-opacity: 1;\"/></g><g class=\"point\"><path d=\"M349.81,320V313.63H354.96V320Z\" style=\"vector-effect: none; opacity: 1; stroke-width: 0px; fill: rgb(252, 222, 156); fill-opacity: 1;\"/></g><g class=\"point\"><path d=\"M354.96,320V314.69H360.1V320Z\" style=\"vector-effect: none; opacity: 1; stroke-width: 0px; fill: rgb(252, 222, 156); fill-opacity: 1;\"/></g><g class=\"point\"><path d=\"M360.1,320V313.9H365.25V320Z\" style=\"vector-effect: none; opacity: 1; stroke-width: 0px; fill: rgb(252, 222, 156); fill-opacity: 1;\"/></g><g class=\"point\"><path d=\"M365.25,320V314.43H370.39V320Z\" style=\"vector-effect: none; opacity: 1; stroke-width: 0px; fill: rgb(252, 222, 156); fill-opacity: 1;\"/></g><g class=\"point\"><path d=\"M370.39,320V310.98H375.54V320Z\" style=\"vector-effect: none; opacity: 1; stroke-width: 0px; fill: rgb(252, 222, 156); fill-opacity: 1;\"/></g><g class=\"point\"><path d=\"M375.54,320V311.51H380.68V320Z\" style=\"vector-effect: none; opacity: 1; stroke-width: 0px; fill: rgb(252, 222, 156); fill-opacity: 1;\"/></g><g class=\"point\"><path d=\"M380.68,320V311.51H385.82V320Z\" style=\"vector-effect: none; opacity: 1; stroke-width: 0px; fill: rgb(252, 222, 156); fill-opacity: 1;\"/></g><g class=\"point\"><path d=\"M385.82,320V311.25H390.97V320Z\" style=\"vector-effect: none; opacity: 1; stroke-width: 0px; fill: rgb(252, 222, 156); fill-opacity: 1;\"/></g><g class=\"point\"><path d=\"M390.97,320V309.39H396.11V320Z\" style=\"vector-effect: none; opacity: 1; stroke-width: 0px; fill: rgb(252, 222, 156); fill-opacity: 1;\"/></g><g class=\"point\"><path d=\"M396.11,320V308.33H401.26V320Z\" style=\"vector-effect: none; opacity: 1; stroke-width: 0px; fill: rgb(252, 222, 156); fill-opacity: 1;\"/></g><g class=\"point\"><path d=\"M401.26,320V306.47H406.4V320Z\" style=\"vector-effect: none; opacity: 1; stroke-width: 0px; fill: rgb(252, 222, 156); fill-opacity: 1;\"/></g><g class=\"point\"><path d=\"M406.4,320V305.41H411.55V320Z\" style=\"vector-effect: none; opacity: 1; stroke-width: 0px; fill: rgb(252, 222, 156); fill-opacity: 1;\"/></g><g class=\"point\"><path d=\"M411.55,320V302.23H416.69V320Z\" style=\"vector-effect: none; opacity: 1; stroke-width: 0px; fill: rgb(252, 222, 156); fill-opacity: 1;\"/></g><g class=\"point\"><path d=\"M416.69,320V298.25H421.84V320Z\" style=\"vector-effect: none; opacity: 1; stroke-width: 0px; fill: rgb(252, 222, 156); fill-opacity: 1;\"/></g><g class=\"point\"><path d=\"M421.84,320V300.37H426.98V320Z\" style=\"vector-effect: none; opacity: 1; stroke-width: 0px; fill: rgb(252, 222, 156); fill-opacity: 1;\"/></g><g class=\"point\"><path d=\"M426.98,320V290.02H432.12V320Z\" style=\"vector-effect: none; opacity: 1; stroke-width: 0px; fill: rgb(252, 222, 156); fill-opacity: 1;\"/></g><g class=\"point\"><path d=\"M432.12,320V288.7H437.27V320Z\" style=\"vector-effect: none; opacity: 1; stroke-width: 0px; fill: rgb(252, 222, 156); fill-opacity: 1;\"/></g><g class=\"point\"><path d=\"M437.27,320V279.15H442.41V320Z\" style=\"vector-effect: none; opacity: 1; stroke-width: 0px; fill: rgb(252, 222, 156); fill-opacity: 1;\"/></g><g class=\"point\"><path d=\"M442.41,320V281.54H447.56V320Z\" style=\"vector-effect: none; opacity: 1; stroke-width: 0px; fill: rgb(252, 222, 156); fill-opacity: 1;\"/></g><g class=\"point\"><path d=\"M447.56,320V274.11H452.7V320Z\" style=\"vector-effect: none; opacity: 1; stroke-width: 0px; fill: rgb(252, 222, 156); fill-opacity: 1;\"/></g><g class=\"point\"><path d=\"M452.7,320V260.31H457.85V320Z\" style=\"vector-effect: none; opacity: 1; stroke-width: 0px; fill: rgb(252, 222, 156); fill-opacity: 1;\"/></g><g class=\"point\"><path d=\"M457.85,320V249.97H462.99V320Z\" style=\"vector-effect: none; opacity: 1; stroke-width: 0px; fill: rgb(252, 222, 156); fill-opacity: 1;\"/></g><g class=\"point\"><path d=\"M462.99,320V214.42H468.13V320Z\" style=\"vector-effect: none; opacity: 1; stroke-width: 0px; fill: rgb(252, 222, 156); fill-opacity: 1;\"/></g><g class=\"point\"><path d=\"M468.13,320V145.45H473.28V320Z\" style=\"vector-effect: none; opacity: 1; stroke-width: 0px; fill: rgb(252, 222, 156); fill-opacity: 1;\"/></g><g class=\"point\"><path d=\"M473.28,320V116.54H478.42V320Z\" style=\"vector-effect: none; opacity: 1; stroke-width: 0px; fill: rgb(252, 222, 156); fill-opacity: 1;\"/></g><g class=\"point\"><path d=\"M478.42,320V116.54H483.57V320Z\" style=\"vector-effect: none; opacity: 1; stroke-width: 0px; fill: rgb(252, 222, 156); fill-opacity: 1;\"/></g><g class=\"point\"><path d=\"M483.57,320V152.08H488.71V320Z\" style=\"vector-effect: none; opacity: 1; stroke-width: 0px; fill: rgb(252, 222, 156); fill-opacity: 1;\"/></g><g class=\"point\"><path d=\"M488.71,320V182.86H493.86V320Z\" style=\"vector-effect: none; opacity: 1; stroke-width: 0px; fill: rgb(252, 222, 156); fill-opacity: 1;\"/></g><g class=\"point\"><path d=\"M493.86,320V246.52H499V320Z\" style=\"vector-effect: none; opacity: 1; stroke-width: 0px; fill: rgb(252, 222, 156); fill-opacity: 1;\"/></g></g></g><g class=\"trace bars\" shape-rendering=\"crispEdges\" style=\"opacity: 1;\"><g class=\"points\"><g class=\"point\"><path d=\"M0,320V319.73H5.14V320Z\" style=\"vector-effect: none; opacity: 1; stroke-width: 0px; fill: rgb(250, 164, 118); fill-opacity: 1;\"/></g><g class=\"point\"><path d=\"M0,0Z\" style=\"vector-effect: none; opacity: 1; stroke-width: 0px; fill: rgb(250, 164, 118); fill-opacity: 1;\"/></g><g class=\"point\"><path d=\"M0,0Z\" style=\"vector-effect: none; opacity: 1; stroke-width: 0px; fill: rgb(250, 164, 118); fill-opacity: 1;\"/></g><g class=\"point\"><path d=\"M0,0Z\" style=\"vector-effect: none; opacity: 1; stroke-width: 0px; fill: rgb(250, 164, 118); fill-opacity: 1;\"/></g><g class=\"point\"><path d=\"M0,0Z\" style=\"vector-effect: none; opacity: 1; stroke-width: 0px; fill: rgb(250, 164, 118); fill-opacity: 1;\"/></g><g class=\"point\"><path d=\"M0,0Z\" style=\"vector-effect: none; opacity: 1; stroke-width: 0px; fill: rgb(250, 164, 118); fill-opacity: 1;\"/></g><g class=\"point\"><path d=\"M0,0Z\" style=\"vector-effect: none; opacity: 1; stroke-width: 0px; fill: rgb(250, 164, 118); fill-opacity: 1;\"/></g><g class=\"point\"><path d=\"M0,0Z\" style=\"vector-effect: none; opacity: 1; stroke-width: 0px; fill: rgb(250, 164, 118); fill-opacity: 1;\"/></g><g class=\"point\"><path d=\"M0,0Z\" style=\"vector-effect: none; opacity: 1; stroke-width: 0px; fill: rgb(250, 164, 118); fill-opacity: 1;\"/></g><g class=\"point\"><path d=\"M0,0Z\" style=\"vector-effect: none; opacity: 1; stroke-width: 0px; fill: rgb(250, 164, 118); fill-opacity: 1;\"/></g><g class=\"point\"><path d=\"M0,0Z\" style=\"vector-effect: none; opacity: 1; stroke-width: 0px; fill: rgb(250, 164, 118); fill-opacity: 1;\"/></g><g class=\"point\"><path d=\"M0,0Z\" style=\"vector-effect: none; opacity: 1; stroke-width: 0px; fill: rgb(250, 164, 118); fill-opacity: 1;\"/></g><g class=\"point\"><path d=\"M0,0Z\" style=\"vector-effect: none; opacity: 1; stroke-width: 0px; fill: rgb(250, 164, 118); fill-opacity: 1;\"/></g><g class=\"point\"><path d=\"M0,0Z\" style=\"vector-effect: none; opacity: 1; stroke-width: 0px; fill: rgb(250, 164, 118); fill-opacity: 1;\"/></g><g class=\"point\"><path d=\"M0,0Z\" style=\"vector-effect: none; opacity: 1; stroke-width: 0px; fill: rgb(250, 164, 118); fill-opacity: 1;\"/></g><g class=\"point\"><path d=\"M0,0Z\" style=\"vector-effect: none; opacity: 1; stroke-width: 0px; fill: rgb(250, 164, 118); fill-opacity: 1;\"/></g><g class=\"point\"><path d=\"M0,0Z\" style=\"vector-effect: none; opacity: 1; stroke-width: 0px; fill: rgb(250, 164, 118); fill-opacity: 1;\"/></g><g class=\"point\"><path d=\"M0,0Z\" style=\"vector-effect: none; opacity: 1; stroke-width: 0px; fill: rgb(250, 164, 118); fill-opacity: 1;\"/></g><g class=\"point\"><path d=\"M0,0Z\" style=\"vector-effect: none; opacity: 1; stroke-width: 0px; fill: rgb(250, 164, 118); fill-opacity: 1;\"/></g><g class=\"point\"><path d=\"M0,0Z\" style=\"vector-effect: none; opacity: 1; stroke-width: 0px; fill: rgb(250, 164, 118); fill-opacity: 1;\"/></g><g class=\"point\"><path d=\"M102.89,319.2V318.94H108.03V319.2Z\" style=\"vector-effect: none; opacity: 1; stroke-width: 0px; fill: rgb(250, 164, 118); fill-opacity: 1;\"/></g><g class=\"point\"><path d=\"M108.03,319.73V319.47H113.18V319.73Z\" style=\"vector-effect: none; opacity: 1; stroke-width: 0px; fill: rgb(250, 164, 118); fill-opacity: 1;\"/></g><g class=\"point\"><path d=\"M0,0Z\" style=\"vector-effect: none; opacity: 1; stroke-width: 0px; fill: rgb(250, 164, 118); fill-opacity: 1;\"/></g><g class=\"point\"><path d=\"M0,0Z\" style=\"vector-effect: none; opacity: 1; stroke-width: 0px; fill: rgb(250, 164, 118); fill-opacity: 1;\"/></g><g class=\"point\"><path d=\"M0,0Z\" style=\"vector-effect: none; opacity: 1; stroke-width: 0px; fill: rgb(250, 164, 118); fill-opacity: 1;\"/></g><g class=\"point\"><path d=\"M0,0Z\" style=\"vector-effect: none; opacity: 1; stroke-width: 0px; fill: rgb(250, 164, 118); fill-opacity: 1;\"/></g><g class=\"point\"><path d=\"M0,0Z\" style=\"vector-effect: none; opacity: 1; stroke-width: 0px; fill: rgb(250, 164, 118); fill-opacity: 1;\"/></g><g class=\"point\"><path d=\"M0,0Z\" style=\"vector-effect: none; opacity: 1; stroke-width: 0px; fill: rgb(250, 164, 118); fill-opacity: 1;\"/></g><g class=\"point\"><path d=\"M0,0Z\" style=\"vector-effect: none; opacity: 1; stroke-width: 0px; fill: rgb(250, 164, 118); fill-opacity: 1;\"/></g><g class=\"point\"><path d=\"M0,0Z\" style=\"vector-effect: none; opacity: 1; stroke-width: 0px; fill: rgb(250, 164, 118); fill-opacity: 1;\"/></g><g class=\"point\"><path d=\"M0,0Z\" style=\"vector-effect: none; opacity: 1; stroke-width: 0px; fill: rgb(250, 164, 118); fill-opacity: 1;\"/></g><g class=\"point\"><path d=\"M0,0Z\" style=\"vector-effect: none; opacity: 1; stroke-width: 0px; fill: rgb(250, 164, 118); fill-opacity: 1;\"/></g><g class=\"point\"><path d=\"M0,0Z\" style=\"vector-effect: none; opacity: 1; stroke-width: 0px; fill: rgb(250, 164, 118); fill-opacity: 1;\"/></g><g class=\"point\"><path d=\"M0,0Z\" style=\"vector-effect: none; opacity: 1; stroke-width: 0px; fill: rgb(250, 164, 118); fill-opacity: 1;\"/></g><g class=\"point\"><path d=\"M0,0Z\" style=\"vector-effect: none; opacity: 1; stroke-width: 0px; fill: rgb(250, 164, 118); fill-opacity: 1;\"/></g><g class=\"point\"><path d=\"M0,0Z\" style=\"vector-effect: none; opacity: 1; stroke-width: 0px; fill: rgb(250, 164, 118); fill-opacity: 1;\"/></g><g class=\"point\"><path d=\"M0,0Z\" style=\"vector-effect: none; opacity: 1; stroke-width: 0px; fill: rgb(250, 164, 118); fill-opacity: 1;\"/></g><g class=\"point\"><path d=\"M0,0Z\" style=\"vector-effect: none; opacity: 1; stroke-width: 0px; fill: rgb(250, 164, 118); fill-opacity: 1;\"/></g><g class=\"point\"><path d=\"M195.48,319.73V319.47H200.63V319.73Z\" style=\"vector-effect: none; opacity: 1; stroke-width: 0px; fill: rgb(250, 164, 118); fill-opacity: 1;\"/></g><g class=\"point\"><path d=\"M0,0Z\" style=\"vector-effect: none; opacity: 1; stroke-width: 0px; fill: rgb(250, 164, 118); fill-opacity: 1;\"/></g><g class=\"point\"><path d=\"M0,0Z\" style=\"vector-effect: none; opacity: 1; stroke-width: 0px; fill: rgb(250, 164, 118); fill-opacity: 1;\"/></g><g class=\"point\"><path d=\"M0,0Z\" style=\"vector-effect: none; opacity: 1; stroke-width: 0px; fill: rgb(250, 164, 118); fill-opacity: 1;\"/></g><g class=\"point\"><path d=\"M216.06,318.94V318.67H221.21V318.94Z\" style=\"vector-effect: none; opacity: 1; stroke-width: 0px; fill: rgb(250, 164, 118); fill-opacity: 1;\"/></g><g class=\"point\"><path d=\"M0,0Z\" style=\"vector-effect: none; opacity: 1; stroke-width: 0px; fill: rgb(250, 164, 118); fill-opacity: 1;\"/></g><g class=\"point\"><path d=\"M0,0Z\" style=\"vector-effect: none; opacity: 1; stroke-width: 0px; fill: rgb(250, 164, 118); fill-opacity: 1;\"/></g><g class=\"point\"><path d=\"M0,0Z\" style=\"vector-effect: none; opacity: 1; stroke-width: 0px; fill: rgb(250, 164, 118); fill-opacity: 1;\"/></g><g class=\"point\"><path d=\"M0,0Z\" style=\"vector-effect: none; opacity: 1; stroke-width: 0px; fill: rgb(250, 164, 118); fill-opacity: 1;\"/></g><g class=\"point\"><path d=\"M241.78,318.94V318.67H246.93V318.94Z\" style=\"vector-effect: none; opacity: 1; stroke-width: 0px; fill: rgb(250, 164, 118); fill-opacity: 1;\"/></g><g class=\"point\"><path d=\"M0,0Z\" style=\"vector-effect: none; opacity: 1; stroke-width: 0px; fill: rgb(250, 164, 118); fill-opacity: 1;\"/></g><g class=\"point\"><path d=\"M252.07,318.41V318.14H257.22V318.41Z\" style=\"vector-effect: none; opacity: 1; stroke-width: 0px; fill: rgb(250, 164, 118); fill-opacity: 1;\"/></g><g class=\"point\"><path d=\"M0,0Z\" style=\"vector-effect: none; opacity: 1; stroke-width: 0px; fill: rgb(250, 164, 118); fill-opacity: 1;\"/></g><g class=\"point\"><path d=\"M0,0Z\" style=\"vector-effect: none; opacity: 1; stroke-width: 0px; fill: rgb(250, 164, 118); fill-opacity: 1;\"/></g><g class=\"point\"><path d=\"M267.51,318.41V318.14H272.65V318.41Z\" style=\"vector-effect: none; opacity: 1; stroke-width: 0px; fill: rgb(250, 164, 118); fill-opacity: 1;\"/></g><g class=\"point\"><path d=\"M0,0Z\" style=\"vector-effect: none; opacity: 1; stroke-width: 0px; fill: rgb(250, 164, 118); fill-opacity: 1;\"/></g><g class=\"point\"><path d=\"M277.79,317.35V317.08H282.94V317.35Z\" style=\"vector-effect: none; opacity: 1; stroke-width: 0px; fill: rgb(250, 164, 118); fill-opacity: 1;\"/></g><g class=\"point\"><path d=\"M0,0Z\" style=\"vector-effect: none; opacity: 1; stroke-width: 0px; fill: rgb(250, 164, 118); fill-opacity: 1;\"/></g><g class=\"point\"><path d=\"M288.08,316.82V316.55H293.23V316.82Z\" style=\"vector-effect: none; opacity: 1; stroke-width: 0px; fill: rgb(250, 164, 118); fill-opacity: 1;\"/></g><g class=\"point\"><path d=\"M0,0Z\" style=\"vector-effect: none; opacity: 1; stroke-width: 0px; fill: rgb(250, 164, 118); fill-opacity: 1;\"/></g><g class=\"point\"><path d=\"M0,0Z\" style=\"vector-effect: none; opacity: 1; stroke-width: 0px; fill: rgb(250, 164, 118); fill-opacity: 1;\"/></g><g class=\"point\"><path d=\"M0,0Z\" style=\"vector-effect: none; opacity: 1; stroke-width: 0px; fill: rgb(250, 164, 118); fill-opacity: 1;\"/></g><g class=\"point\"><path d=\"M308.66,317.61V317.35H313.8V317.61Z\" style=\"vector-effect: none; opacity: 1; stroke-width: 0px; fill: rgb(250, 164, 118); fill-opacity: 1;\"/></g><g class=\"point\"><path d=\"M313.8,317.08V316.55H318.95V317.08Z\" style=\"vector-effect: none; opacity: 1; stroke-width: 0px; fill: rgb(250, 164, 118); fill-opacity: 1;\"/></g><g class=\"point\"><path d=\"M0,0Z\" style=\"vector-effect: none; opacity: 1; stroke-width: 0px; fill: rgb(250, 164, 118); fill-opacity: 1;\"/></g><g class=\"point\"><path d=\"M324.09,315.76V315.23H329.24V315.76Z\" style=\"vector-effect: none; opacity: 1; stroke-width: 0px; fill: rgb(250, 164, 118); fill-opacity: 1;\"/></g><g class=\"point\"><path d=\"M329.24,316.02V315.76H334.38V316.02Z\" style=\"vector-effect: none; opacity: 1; stroke-width: 0px; fill: rgb(250, 164, 118); fill-opacity: 1;\"/></g><g class=\"point\"><path d=\"M334.38,314.96V314.16H339.53V314.96Z\" style=\"vector-effect: none; opacity: 1; stroke-width: 0px; fill: rgb(250, 164, 118); fill-opacity: 1;\"/></g><g class=\"point\"><path d=\"M339.53,315.76V315.49H344.67V315.76Z\" style=\"vector-effect: none; opacity: 1; stroke-width: 0px; fill: rgb(250, 164, 118); fill-opacity: 1;\"/></g><g class=\"point\"><path d=\"M344.67,314.69V313.9H349.81V314.69Z\" style=\"vector-effect: none; opacity: 1; stroke-width: 0px; fill: rgb(250, 164, 118); fill-opacity: 1;\"/></g><g class=\"point\"><path d=\"M349.81,313.63V312.57H354.96V313.63Z\" style=\"vector-effect: none; opacity: 1; stroke-width: 0px; fill: rgb(250, 164, 118); fill-opacity: 1;\"/></g><g class=\"point\"><path d=\"M354.96,314.69V314.16H360.1V314.69Z\" style=\"vector-effect: none; opacity: 1; stroke-width: 0px; fill: rgb(250, 164, 118); fill-opacity: 1;\"/></g><g class=\"point\"><path d=\"M360.1,313.9V313.37H365.25V313.9Z\" style=\"vector-effect: none; opacity: 1; stroke-width: 0px; fill: rgb(250, 164, 118); fill-opacity: 1;\"/></g><g class=\"point\"><path d=\"M365.25,314.43V313.63H370.39V314.43Z\" style=\"vector-effect: none; opacity: 1; stroke-width: 0px; fill: rgb(250, 164, 118); fill-opacity: 1;\"/></g><g class=\"point\"><path d=\"M370.39,310.98V309.92H375.54V310.98Z\" style=\"vector-effect: none; opacity: 1; stroke-width: 0px; fill: rgb(250, 164, 118); fill-opacity: 1;\"/></g><g class=\"point\"><path d=\"M375.54,311.51V310.45H380.68V311.51Z\" style=\"vector-effect: none; opacity: 1; stroke-width: 0px; fill: rgb(250, 164, 118); fill-opacity: 1;\"/></g><g class=\"point\"><path d=\"M380.68,311.51V309.65H385.82V311.51Z\" style=\"vector-effect: none; opacity: 1; stroke-width: 0px; fill: rgb(250, 164, 118); fill-opacity: 1;\"/></g><g class=\"point\"><path d=\"M385.82,311.25V310.18H390.97V311.25Z\" style=\"vector-effect: none; opacity: 1; stroke-width: 0px; fill: rgb(250, 164, 118); fill-opacity: 1;\"/></g><g class=\"point\"><path d=\"M390.97,309.39V308.06H396.11V309.39Z\" style=\"vector-effect: none; opacity: 1; stroke-width: 0px; fill: rgb(250, 164, 118); fill-opacity: 1;\"/></g><g class=\"point\"><path d=\"M396.11,308.33V306.47H401.26V308.33Z\" style=\"vector-effect: none; opacity: 1; stroke-width: 0px; fill: rgb(250, 164, 118); fill-opacity: 1;\"/></g><g class=\"point\"><path d=\"M401.26,306.47V304.35H406.4V306.47Z\" style=\"vector-effect: none; opacity: 1; stroke-width: 0px; fill: rgb(250, 164, 118); fill-opacity: 1;\"/></g><g class=\"point\"><path d=\"M406.4,305.41V303.02H411.55V305.41Z\" style=\"vector-effect: none; opacity: 1; stroke-width: 0px; fill: rgb(250, 164, 118); fill-opacity: 1;\"/></g><g class=\"point\"><path d=\"M411.55,302.23V298.78H416.69V302.23Z\" style=\"vector-effect: none; opacity: 1; stroke-width: 0px; fill: rgb(250, 164, 118); fill-opacity: 1;\"/></g><g class=\"point\"><path d=\"M416.69,298.25V294.53H421.84V298.25Z\" style=\"vector-effect: none; opacity: 1; stroke-width: 0px; fill: rgb(250, 164, 118); fill-opacity: 1;\"/></g><g class=\"point\"><path d=\"M421.84,300.37V296.66H426.98V300.37Z\" style=\"vector-effect: none; opacity: 1; stroke-width: 0px; fill: rgb(250, 164, 118); fill-opacity: 1;\"/></g><g class=\"point\"><path d=\"M426.98,290.02V284.19H432.12V290.02Z\" style=\"vector-effect: none; opacity: 1; stroke-width: 0px; fill: rgb(250, 164, 118); fill-opacity: 1;\"/></g><g class=\"point\"><path d=\"M432.12,288.7V279.68H437.27V288.7Z\" style=\"vector-effect: none; opacity: 1; stroke-width: 0px; fill: rgb(250, 164, 118); fill-opacity: 1;\"/></g><g class=\"point\"><path d=\"M437.27,279.15V268.8H442.41V279.15Z\" style=\"vector-effect: none; opacity: 1; stroke-width: 0px; fill: rgb(250, 164, 118); fill-opacity: 1;\"/></g><g class=\"point\"><path d=\"M442.41,281.54V270.92H447.56V281.54Z\" style=\"vector-effect: none; opacity: 1; stroke-width: 0px; fill: rgb(250, 164, 118); fill-opacity: 1;\"/></g><g class=\"point\"><path d=\"M447.56,274.11V257.4H452.7V274.11Z\" style=\"vector-effect: none; opacity: 1; stroke-width: 0px; fill: rgb(250, 164, 118); fill-opacity: 1;\"/></g><g class=\"point\"><path d=\"M452.7,260.31V243.87H457.85V260.31Z\" style=\"vector-effect: none; opacity: 1; stroke-width: 0px; fill: rgb(250, 164, 118); fill-opacity: 1;\"/></g><g class=\"point\"><path d=\"M457.85,249.97V226.62H462.99V249.97Z\" style=\"vector-effect: none; opacity: 1; stroke-width: 0px; fill: rgb(250, 164, 118); fill-opacity: 1;\"/></g><g class=\"point\"><path d=\"M462.99,214.42V171.98H468.13V214.42Z\" style=\"vector-effect: none; opacity: 1; stroke-width: 0px; fill: rgb(250, 164, 118); fill-opacity: 1;\"/></g><g class=\"point\"><path d=\"M468.13,145.45V80.99H473.28V145.45Z\" style=\"vector-effect: none; opacity: 1; stroke-width: 0px; fill: rgb(250, 164, 118); fill-opacity: 1;\"/></g><g class=\"point\"><path d=\"M473.28,116.54V46.24H478.42V116.54Z\" style=\"vector-effect: none; opacity: 1; stroke-width: 0px; fill: rgb(250, 164, 118); fill-opacity: 1;\"/></g><g class=\"point\"><path d=\"M478.42,116.54V16H483.57V116.54Z\" style=\"vector-effect: none; opacity: 1; stroke-width: 0px; fill: rgb(250, 164, 118); fill-opacity: 1;\"/></g><g class=\"point\"><path d=\"M483.57,152.08V46.77H488.71V152.08Z\" style=\"vector-effect: none; opacity: 1; stroke-width: 0px; fill: rgb(250, 164, 118); fill-opacity: 1;\"/></g><g class=\"point\"><path d=\"M488.71,182.86V67.2H493.86V182.86Z\" style=\"vector-effect: none; opacity: 1; stroke-width: 0px; fill: rgb(250, 164, 118); fill-opacity: 1;\"/></g><g class=\"point\"><path d=\"M493.86,246.52V162.96H499V246.52Z\" style=\"vector-effect: none; opacity: 1; stroke-width: 0px; fill: rgb(250, 164, 118); fill-opacity: 1;\"/></g></g></g></g></g><g class=\"overplot\"/><path class=\"xlines-above crisp\" d=\"M0,0\" style=\"fill: none;\"/><path class=\"ylines-above crisp\" d=\"M0,0\" style=\"fill: none;\"/><g class=\"overlines-above\"/><g class=\"xaxislayer-above\"><g class=\"xtick\"><text text-anchor=\"middle\" x=\"0\" y=\"433\" transform=\"translate(159.74,0)\" style=\"font-family: 'Open Sans', verdana, arial, sans-serif; font-size: 12px; fill: rgb(42, 63, 95); fill-opacity: 1; white-space: pre; opacity: 1;\">1940</text></g><g class=\"xtick\"><text text-anchor=\"middle\" x=\"0\" y=\"433\" style=\"font-family: 'Open Sans', verdana, arial, sans-serif; font-size: 12px; fill: rgb(42, 63, 95); fill-opacity: 1; white-space: pre; opacity: 1;\" transform=\"translate(262.62,0)\">1960</text></g><g class=\"xtick\"><text text-anchor=\"middle\" x=\"0\" y=\"433\" style=\"font-family: 'Open Sans', verdana, arial, sans-serif; font-size: 12px; fill: rgb(42, 63, 95); fill-opacity: 1; white-space: pre; opacity: 1;\" transform=\"translate(365.51,0)\">1980</text></g><g class=\"xtick\"><text text-anchor=\"middle\" x=\"0\" y=\"433\" style=\"font-family: 'Open Sans', verdana, arial, sans-serif; font-size: 12px; fill: rgb(42, 63, 95); fill-opacity: 1; white-space: pre; opacity: 1;\" transform=\"translate(468.4,0)\">2000</text></g><g class=\"xtick\"><text text-anchor=\"middle\" x=\"0\" y=\"433\" style=\"font-family: 'Open Sans', verdana, arial, sans-serif; font-size: 12px; fill: rgb(42, 63, 95); fill-opacity: 1; white-space: pre; opacity: 1;\" transform=\"translate(571.28,0)\">2020</text></g></g><g class=\"yaxislayer-above\"><g class=\"ytick\"><text text-anchor=\"end\" x=\"79\" y=\"4.199999999999999\" transform=\"translate(0,420)\" style=\"font-family: 'Open Sans', verdana, arial, sans-serif; font-size: 12px; fill: rgb(42, 63, 95); fill-opacity: 1; white-space: pre; opacity: 1;\">0</text></g><g class=\"ytick\"><text text-anchor=\"end\" x=\"79\" y=\"4.199999999999999\" style=\"font-family: 'Open Sans', verdana, arial, sans-serif; font-size: 12px; fill: rgb(42, 63, 95); fill-opacity: 1; white-space: pre; opacity: 1;\" transform=\"translate(0,366.95)\">200</text></g><g class=\"ytick\"><text text-anchor=\"end\" x=\"79\" y=\"4.199999999999999\" style=\"font-family: 'Open Sans', verdana, arial, sans-serif; font-size: 12px; fill: rgb(42, 63, 95); fill-opacity: 1; white-space: pre; opacity: 1;\" transform=\"translate(0,313.89)\">400</text></g><g class=\"ytick\"><text text-anchor=\"end\" x=\"79\" y=\"4.199999999999999\" style=\"font-family: 'Open Sans', verdana, arial, sans-serif; font-size: 12px; fill: rgb(42, 63, 95); fill-opacity: 1; white-space: pre; opacity: 1;\" transform=\"translate(0,260.84000000000003)\">600</text></g><g class=\"ytick\"><text text-anchor=\"end\" x=\"79\" y=\"4.199999999999999\" style=\"font-family: 'Open Sans', verdana, arial, sans-serif; font-size: 12px; fill: rgb(42, 63, 95); fill-opacity: 1; white-space: pre; opacity: 1;\" transform=\"translate(0,207.78)\">800</text></g><g class=\"ytick\"><text text-anchor=\"end\" x=\"79\" y=\"4.199999999999999\" style=\"font-family: 'Open Sans', verdana, arial, sans-serif; font-size: 12px; fill: rgb(42, 63, 95); fill-opacity: 1; white-space: pre; opacity: 1;\" transform=\"translate(0,154.73)\">1000</text></g><g class=\"ytick\"><text text-anchor=\"end\" x=\"79\" y=\"4.199999999999999\" style=\"font-family: 'Open Sans', verdana, arial, sans-serif; font-size: 12px; fill: rgb(42, 63, 95); fill-opacity: 1; white-space: pre; opacity: 1;\" transform=\"translate(0,101.68)\">1200</text></g></g><g class=\"overaxes-above\"/></g></g><g class=\"polarlayer\"/><g class=\"smithlayer\"/><g class=\"ternarylayer\"/><g class=\"geolayer\"/><g class=\"funnelarealayer\"/><g class=\"pielayer\"/><g class=\"iciclelayer\"/><g class=\"treemaplayer\"/><g class=\"sunburstlayer\"/><g class=\"glimages\"/><defs id=\"topdefs-e943d3\"><g class=\"clips\"/><clipPath id=\"legende943d3\"><rect width=\"99\" height=\"67\" x=\"0\" y=\"0\"/></clipPath></defs><g class=\"layer-above\"><g class=\"imagelayer\"/><g class=\"shapelayer\"/></g><g class=\"infolayer\"><g class=\"legend\" pointer-events=\"all\" transform=\"translate(588.98,100)\"><rect class=\"bg\" shape-rendering=\"crispEdges\" width=\"99\" height=\"67\" x=\"0\" y=\"0\" style=\"stroke: rgb(68, 68, 68); stroke-opacity: 1; fill: rgb(255, 255, 255); fill-opacity: 1; stroke-width: 0px;\"/><g class=\"scrollbox\" transform=\"\" clip-path=\"url(#legende943d3)\"><text class=\"legendtitletext\" text-anchor=\"start\" x=\"2\" y=\"18.2\" style=\"font-family: 'Open Sans', verdana, arial, sans-serif; font-size: 14px; fill: rgb(42, 63, 95); fill-opacity: 1; white-space: pre;\">type</text><g class=\"groups\" transform=\"\"><g class=\"traces\" transform=\"translate(0,32.7)\" style=\"opacity: 1;\"><text class=\"legendtext\" text-anchor=\"start\" x=\"40\" y=\"4.680000000000001\" style=\"font-family: 'Open Sans', verdana, arial, sans-serif; font-size: 12px; fill: rgb(42, 63, 95); fill-opacity: 1; white-space: pre;\">Movie</text><g class=\"layers\" style=\"opacity: 1;\"><g class=\"legendfill\"/><g class=\"legendlines\"/><g class=\"legendsymbols\"><g class=\"legendpoints\"><path class=\"legendundefined\" d=\"M6,6H-6V-6H6Z\" transform=\"translate(20,0)\" style=\"stroke-width: 0px; fill: rgb(252, 222, 156); fill-opacity: 1;\"/></g></g></g><rect class=\"legendtoggle\" x=\"0\" y=\"-9.5\" width=\"93.90625\" height=\"19\" style=\"fill: rgb(0, 0, 0); fill-opacity: 0;\"/></g></g><g class=\"groups\" transform=\"\"><g class=\"traces\" transform=\"translate(0,51.7)\" style=\"opacity: 1;\"><text class=\"legendtext\" text-anchor=\"start\" x=\"40\" y=\"4.680000000000001\" style=\"font-family: 'Open Sans', verdana, arial, sans-serif; font-size: 12px; fill: rgb(42, 63, 95); fill-opacity: 1; white-space: pre;\">TV Show</text><g class=\"layers\" style=\"opacity: 1;\"><g class=\"legendfill\"/><g class=\"legendlines\"/><g class=\"legendsymbols\"><g class=\"legendpoints\"><path class=\"legendundefined\" d=\"M6,6H-6V-6H6Z\" transform=\"translate(20,0)\" style=\"stroke-width: 0px; fill: rgb(250, 164, 118); fill-opacity: 1;\"/></g></g></g><rect class=\"legendtoggle\" x=\"0\" y=\"-9.5\" width=\"93.90625\" height=\"19\" style=\"fill: rgb(0, 0, 0); fill-opacity: 0;\"/></g></g></g><rect class=\"scrollbar\" rx=\"20\" ry=\"3\" width=\"0\" height=\"0\" x=\"0\" y=\"0\" style=\"fill: rgb(128, 139, 164); fill-opacity: 1;\"/></g><g class=\"g-gtitle\"><text class=\"gtitle\" x=\"35\" y=\"50\" text-anchor=\"start\" dy=\"0em\" style=\"font-family: 'Open Sans', verdana, arial, sans-serif; font-size: 17px; fill: rgb(42, 63, 95); opacity: 1; font-weight: normal; white-space: pre;\">Number of Movies/TV-Shows by year of release</text></g><g class=\"g-xtitle\"><text class=\"xtitle\" x=\"329.5\" y=\"460.3\" text-anchor=\"middle\" style=\"font-family: 'Open Sans', verdana, arial, sans-serif; font-size: 14px; fill: rgb(42, 63, 95); opacity: 1; font-weight: normal; white-space: pre;\">Year of release</text></g><g class=\"g-ytitle\"><text class=\"ytitle\" transform=\"rotate(-90,24.184375000000003,260)\" x=\"24.184375000000003\" y=\"260\" text-anchor=\"middle\" style=\"font-family: 'Open Sans', verdana, arial, sans-serif; font-size: 14px; fill: rgb(42, 63, 95); opacity: 1; font-weight: normal; white-space: pre;\">count</text></g></g></svg>"
      ]
     },
     "metadata": {},
     "output_type": "display_data"
    }
   ],
   "source": [
    "px.histogram(netflix, x= 'release_year', color= 'type',\n",
    "             title=\"Number of Movies/TV-Shows by year of release\",\n",
    "             color_discrete_sequence= px.colors.sequential.Sunsetdark,  \n",
    "             labels={'release_year':'Year of release'}                     \n",
    "                   )"
   ]
  },
  {
   "attachments": {},
   "cell_type": "markdown",
   "metadata": {},
   "source": [
    "Top 30 Countries with the most streaming content"
   ]
  },
  {
   "cell_type": "code",
   "execution_count": 30,
   "metadata": {},
   "outputs": [
    {
     "data": {
      "image/svg+xml": [
       "<svg class=\"main-svg\" xmlns=\"http://www.w3.org/2000/svg\" xmlns:xlink=\"http://www.w3.org/1999/xlink\" width=\"700\" height=\"500\" style=\"\" viewBox=\"0 0 700 500\"><rect x=\"0\" y=\"0\" width=\"700\" height=\"500\" style=\"fill: rgb(255, 255, 255); fill-opacity: 1;\"/><defs id=\"defs-d87c6c\"><g class=\"clips\"><clipPath id=\"clipd87c6cxyplot\" class=\"plotclip\"><rect width=\"499\" height=\"260\"/></clipPath><clipPath class=\"axesclip\" id=\"clipd87c6cx\"><rect x=\"80\" y=\"0\" width=\"499\" height=\"500\"/></clipPath><clipPath class=\"axesclip\" id=\"clipd87c6cy\"><rect x=\"0\" y=\"100\" width=\"700\" height=\"260\"/></clipPath><clipPath class=\"axesclip\" id=\"clipd87c6cxy\"><rect x=\"80\" y=\"100\" width=\"499\" height=\"260\"/></clipPath></g><g class=\"gradients\"/><g class=\"patterns\"/></defs><g class=\"bglayer\"><rect class=\"bg\" x=\"80\" y=\"100\" width=\"499\" height=\"260\" style=\"fill: rgb(229, 236, 246); fill-opacity: 1; stroke-width: 0;\"/></g><g class=\"layer-below\"><g class=\"imagelayer\"/><g class=\"shapelayer\"/></g><g class=\"cartesianlayer\"><g class=\"subplot xy\"><g class=\"layer-subplot\"><g class=\"shapelayer\"/><g class=\"imagelayer\"/></g><g class=\"minor-gridlayer\"><g class=\"x\"/><g class=\"y\"/></g><g class=\"gridlayer\"><g class=\"x\"/><g class=\"y\"><path class=\"ygrid crisp\" transform=\"translate(0,293.06)\" d=\"M80,0h499\" style=\"stroke: rgb(255, 255, 255); stroke-opacity: 1; stroke-width: 1px;\"/><path class=\"ygrid crisp\" transform=\"translate(0,226.12)\" d=\"M80,0h499\" style=\"stroke: rgb(255, 255, 255); stroke-opacity: 1; stroke-width: 1px;\"/><path class=\"ygrid crisp\" transform=\"translate(0,159.19)\" d=\"M80,0h499\" style=\"stroke: rgb(255, 255, 255); stroke-opacity: 1; stroke-width: 1px;\"/></g></g><g class=\"zerolinelayer\"><path class=\"yzl zl crisp\" transform=\"translate(0,360)\" d=\"M80,0h499\" style=\"stroke: rgb(255, 255, 255); stroke-opacity: 1; stroke-width: 2px;\"/></g><path class=\"xlines-below\"/><path class=\"ylines-below\"/><g class=\"overlines-below\"/><g class=\"xaxislayer-below\"/><g class=\"yaxislayer-below\"/><g class=\"overaxes-below\"/><g class=\"plot\" transform=\"translate(80,100)\" clip-path=\"url(#clipd87c6cxyplot)\"><g class=\"barlayer mlayer\"><g class=\"trace bars\" style=\"opacity: 1;\"><g class=\"points\"><g class=\"point\"><path d=\"M-6.65,260V75.79H6.65V260Z\" style=\"vector-effect: none; opacity: 1; stroke-width: 0px; fill: rgb(252, 222, 156); fill-opacity: 1;\"/></g><g class=\"point\"><path d=\"M9.98,260V195.61H23.29V260Z\" style=\"vector-effect: none; opacity: 1; stroke-width: 0px; fill: rgb(252, 222, 156); fill-opacity: 1;\"/></g><g class=\"point\"><path d=\"M26.61,260V224.26H39.92V260Z\" style=\"vector-effect: none; opacity: 1; stroke-width: 0px; fill: rgb(252, 222, 156); fill-opacity: 1;\"/></g><g class=\"point\"><path d=\"M43.25,260V238.65H56.55V260Z\" style=\"vector-effect: none; opacity: 1; stroke-width: 0px; fill: rgb(252, 222, 156); fill-opacity: 1;\"/></g><g class=\"point\"><path d=\"M59.88,260V239.72H73.19V260Z\" style=\"vector-effect: none; opacity: 1; stroke-width: 0px; fill: rgb(252, 222, 156); fill-opacity: 1;\"/></g><g class=\"point\"><path d=\"M76.51,260V252.03H89.82V260Z\" style=\"vector-effect: none; opacity: 1; stroke-width: 0px; fill: rgb(252, 222, 156); fill-opacity: 1;\"/></g><g class=\"point\"><path d=\"M93.15,260V248.55H106.45V260Z\" style=\"vector-effect: none; opacity: 1; stroke-width: 0px; fill: rgb(252, 222, 156); fill-opacity: 1;\"/></g><g class=\"point\"><path d=\"M109.78,260V255.92H123.09V260Z\" style=\"vector-effect: none; opacity: 1; stroke-width: 0px; fill: rgb(252, 222, 156); fill-opacity: 1;\"/></g><g class=\"point\"><path d=\"M126.41,260V247.82H139.72V260Z\" style=\"vector-effect: none; opacity: 1; stroke-width: 0px; fill: rgb(252, 222, 156); fill-opacity: 1;\"/></g><g class=\"point\"><path d=\"M143.05,260V252.57H156.35V260Z\" style=\"vector-effect: none; opacity: 1; stroke-width: 0px; fill: rgb(252, 222, 156); fill-opacity: 1;\"/></g><g class=\"point\"><path d=\"M159.68,260V252.37H172.99V260Z\" style=\"vector-effect: none; opacity: 1; stroke-width: 0px; fill: rgb(252, 222, 156); fill-opacity: 1;\"/></g><g class=\"point\"><path d=\"M176.31,260V253.71H189.62V260Z\" style=\"vector-effect: none; opacity: 1; stroke-width: 0px; fill: rgb(252, 222, 156); fill-opacity: 1;\"/></g><g class=\"point\"><path d=\"M192.95,260V253.17H206.25V260Z\" style=\"vector-effect: none; opacity: 1; stroke-width: 0px; fill: rgb(252, 222, 156); fill-opacity: 1;\"/></g><g class=\"point\"><path d=\"M209.58,260V254.44H222.89V260Z\" style=\"vector-effect: none; opacity: 1; stroke-width: 0px; fill: rgb(252, 222, 156); fill-opacity: 1;\"/></g><g class=\"point\"><path d=\"M226.21,260V253.31H239.52V260Z\" style=\"vector-effect: none; opacity: 1; stroke-width: 0px; fill: rgb(252, 222, 156); fill-opacity: 1;\"/></g><g class=\"point\"><path d=\"M242.85,260V253.71H256.15V260Z\" style=\"vector-effect: none; opacity: 1; stroke-width: 0px; fill: rgb(252, 222, 156); fill-opacity: 1;\"/></g><g class=\"point\"><path d=\"M259.48,260V254.98H272.79V260Z\" style=\"vector-effect: none; opacity: 1; stroke-width: 0px; fill: rgb(252, 222, 156); fill-opacity: 1;\"/></g><g class=\"point\"><path d=\"M276.11,260V255.58H289.42V260Z\" style=\"vector-effect: none; opacity: 1; stroke-width: 0px; fill: rgb(252, 222, 156); fill-opacity: 1;\"/></g><g class=\"point\"><path d=\"M292.75,260V255.25H306.05V260Z\" style=\"vector-effect: none; opacity: 1; stroke-width: 0px; fill: rgb(252, 222, 156); fill-opacity: 1;\"/></g><g class=\"point\"><path d=\"M309.38,260V254.24H322.69V260Z\" style=\"vector-effect: none; opacity: 1; stroke-width: 0px; fill: rgb(252, 222, 156); fill-opacity: 1;\"/></g><g class=\"point\"><path d=\"M326.01,260V254.78H339.32V260Z\" style=\"vector-effect: none; opacity: 1; stroke-width: 0px; fill: rgb(252, 222, 156); fill-opacity: 1;\"/></g><g class=\"point\"><path d=\"M342.65,260V258.73H355.95V260Z\" style=\"vector-effect: none; opacity: 1; stroke-width: 0px; fill: rgb(252, 222, 156); fill-opacity: 1;\"/></g><g class=\"point\"><path d=\"M359.28,260V254.64H372.59V260Z\" style=\"vector-effect: none; opacity: 1; stroke-width: 0px; fill: rgb(252, 222, 156); fill-opacity: 1;\"/></g><g class=\"point\"><path d=\"M375.91,260V256.92H389.22V260Z\" style=\"vector-effect: none; opacity: 1; stroke-width: 0px; fill: rgb(252, 222, 156); fill-opacity: 1;\"/></g><g class=\"point\"><path d=\"M392.55,260V256.59H405.85V260Z\" style=\"vector-effect: none; opacity: 1; stroke-width: 0px; fill: rgb(252, 222, 156); fill-opacity: 1;\"/></g><g class=\"point\"><path d=\"M409.18,260V258.66H422.49V260Z\" style=\"vector-effect: none; opacity: 1; stroke-width: 0px; fill: rgb(252, 222, 156); fill-opacity: 1;\"/></g><g class=\"point\"><path d=\"M425.81,260V257.19H439.12V260Z\" style=\"vector-effect: none; opacity: 1; stroke-width: 0px; fill: rgb(252, 222, 156); fill-opacity: 1;\"/></g><g class=\"point\"><path d=\"M442.45,260V257.72H455.75V260Z\" style=\"vector-effect: none; opacity: 1; stroke-width: 0px; fill: rgb(252, 222, 156); fill-opacity: 1;\"/></g><g class=\"point\"><path d=\"M459.08,260V257.86H472.39V260Z\" style=\"vector-effect: none; opacity: 1; stroke-width: 0px; fill: rgb(252, 222, 156); fill-opacity: 1;\"/></g><g class=\"point\"><path d=\"M475.71,260V257.92H489.02V260Z\" style=\"vector-effect: none; opacity: 1; stroke-width: 0px; fill: rgb(252, 222, 156); fill-opacity: 1;\"/></g><g class=\"point\"><path d=\"M492.35,260V258.8H505.65V260Z\" style=\"vector-effect: none; opacity: 1; stroke-width: 0px; fill: rgb(252, 222, 156); fill-opacity: 1;\"/></g><g class=\"point\"><path d=\"M508.98,260V257.86H522.29V260Z\" style=\"vector-effect: none; opacity: 1; stroke-width: 0px; fill: rgb(252, 222, 156); fill-opacity: 1;\"/></g><g class=\"point\"><path d=\"M525.61,260V257.59H538.92V260Z\" style=\"vector-effect: none; opacity: 1; stroke-width: 0px; fill: rgb(252, 222, 156); fill-opacity: 1;\"/></g><g class=\"point\"><path d=\"M542.25,260V258.33H555.55V260Z\" style=\"vector-effect: none; opacity: 1; stroke-width: 0px; fill: rgb(252, 222, 156); fill-opacity: 1;\"/></g><g class=\"point\"><path d=\"M558.88,260V258.39H572.19V260Z\" style=\"vector-effect: none; opacity: 1; stroke-width: 0px; fill: rgb(252, 222, 156); fill-opacity: 1;\"/></g><g class=\"point\"><path d=\"M575.51,260V258.73H588.82V260Z\" style=\"vector-effect: none; opacity: 1; stroke-width: 0px; fill: rgb(252, 222, 156); fill-opacity: 1;\"/></g><g class=\"point\"><path d=\"M592.15,260V258.59H605.45V260Z\" style=\"vector-effect: none; opacity: 1; stroke-width: 0px; fill: rgb(252, 222, 156); fill-opacity: 1;\"/></g><g class=\"point\"><path d=\"M608.78,260V258.39H622.09V260Z\" style=\"vector-effect: none; opacity: 1; stroke-width: 0px; fill: rgb(252, 222, 156); fill-opacity: 1;\"/></g><g class=\"point\"><path d=\"M625.41,260V259.26H638.72V260Z\" style=\"vector-effect: none; opacity: 1; stroke-width: 0px; fill: rgb(252, 222, 156); fill-opacity: 1;\"/></g><g class=\"point\"><path d=\"M642.05,260V258.8H655.35V260Z\" style=\"vector-effect: none; opacity: 1; stroke-width: 0px; fill: rgb(252, 222, 156); fill-opacity: 1;\"/></g><g class=\"point\"><path d=\"M658.68,260V258.66H671.99V260Z\" style=\"vector-effect: none; opacity: 1; stroke-width: 0px; fill: rgb(252, 222, 156); fill-opacity: 1;\"/></g><g class=\"point\"><path d=\"M675.31,260V258.93H688.62V260Z\" style=\"vector-effect: none; opacity: 1; stroke-width: 0px; fill: rgb(252, 222, 156); fill-opacity: 1;\"/></g><g class=\"point\"><path d=\"M691.95,260V258.8H705.25V260Z\" style=\"vector-effect: none; opacity: 1; stroke-width: 0px; fill: rgb(252, 222, 156); fill-opacity: 1;\"/></g><g class=\"point\"><path d=\"M708.58,260V259.13H721.89V260Z\" style=\"vector-effect: none; opacity: 1; stroke-width: 0px; fill: rgb(252, 222, 156); fill-opacity: 1;\"/></g><g class=\"point\"><path d=\"M725.21,260V259.06H738.52V260Z\" style=\"vector-effect: none; opacity: 1; stroke-width: 0px; fill: rgb(252, 222, 156); fill-opacity: 1;\"/></g><g class=\"point\"><path d=\"M741.85,260V259.4H755.15V260Z\" style=\"vector-effect: none; opacity: 1; stroke-width: 0px; fill: rgb(252, 222, 156); fill-opacity: 1;\"/></g><g class=\"point\"><path d=\"M758.48,260V259.33H771.79V260Z\" style=\"vector-effect: none; opacity: 1; stroke-width: 0px; fill: rgb(252, 222, 156); fill-opacity: 1;\"/></g><g class=\"point\"><path d=\"M775.11,260V259.26H788.42V260Z\" style=\"vector-effect: none; opacity: 1; stroke-width: 0px; fill: rgb(252, 222, 156); fill-opacity: 1;\"/></g><g class=\"point\"><path d=\"M791.75,260V259.4H805.05V260Z\" style=\"vector-effect: none; opacity: 1; stroke-width: 0px; fill: rgb(252, 222, 156); fill-opacity: 1;\"/></g><g class=\"point\"><path d=\"M808.38,260V259.53H821.69V260Z\" style=\"vector-effect: none; opacity: 1; stroke-width: 0px; fill: rgb(252, 222, 156); fill-opacity: 1;\"/></g><g class=\"point\"><path d=\"M825.01,260V259.46H838.32V260Z\" style=\"vector-effect: none; opacity: 1; stroke-width: 0px; fill: rgb(252, 222, 156); fill-opacity: 1;\"/></g><g class=\"point\"><path d=\"M841.65,260V259.33H854.95V260Z\" style=\"vector-effect: none; opacity: 1; stroke-width: 0px; fill: rgb(252, 222, 156); fill-opacity: 1;\"/></g><g class=\"point\"><path d=\"M858.28,260V259.33H871.59V260Z\" style=\"vector-effect: none; opacity: 1; stroke-width: 0px; fill: rgb(252, 222, 156); fill-opacity: 1;\"/></g><g class=\"point\"><path d=\"M874.91,260V259.33H888.22V260Z\" style=\"vector-effect: none; opacity: 1; stroke-width: 0px; fill: rgb(252, 222, 156); fill-opacity: 1;\"/></g><g class=\"point\"><path d=\"M891.55,260V259.33H904.85V260Z\" style=\"vector-effect: none; opacity: 1; stroke-width: 0px; fill: rgb(252, 222, 156); fill-opacity: 1;\"/></g><g class=\"point\"><path d=\"M908.18,260V259.53H921.49V260Z\" style=\"vector-effect: none; opacity: 1; stroke-width: 0px; fill: rgb(252, 222, 156); fill-opacity: 1;\"/></g><g class=\"point\"><path d=\"M924.81,260V259.67H938.12V260Z\" style=\"vector-effect: none; opacity: 1; stroke-width: 0px; fill: rgb(252, 222, 156); fill-opacity: 1;\"/></g><g class=\"point\"><path d=\"M941.45,260V259.53H954.75V260Z\" style=\"vector-effect: none; opacity: 1; stroke-width: 0px; fill: rgb(252, 222, 156); fill-opacity: 1;\"/></g><g class=\"point\"><path d=\"M958.08,260V259.53H971.39V260Z\" style=\"vector-effect: none; opacity: 1; stroke-width: 0px; fill: rgb(252, 222, 156); fill-opacity: 1;\"/></g><g class=\"point\"><path d=\"M974.71,260V259.6H988.02V260Z\" style=\"vector-effect: none; opacity: 1; stroke-width: 0px; fill: rgb(252, 222, 156); fill-opacity: 1;\"/></g><g class=\"point\"><path d=\"M991.35,260V259.6H1004.65V260Z\" style=\"vector-effect: none; opacity: 1; stroke-width: 0px; fill: rgb(252, 222, 156); fill-opacity: 1;\"/></g><g class=\"point\"><path d=\"M1007.98,260V259.6H1021.29V260Z\" style=\"vector-effect: none; opacity: 1; stroke-width: 0px; fill: rgb(252, 222, 156); fill-opacity: 1;\"/></g><g class=\"point\"><path d=\"M1024.61,260V259.6H1037.92V260Z\" style=\"vector-effect: none; opacity: 1; stroke-width: 0px; fill: rgb(252, 222, 156); fill-opacity: 1;\"/></g><g class=\"point\"><path d=\"M1041.25,260V259.6H1054.55V260Z\" style=\"vector-effect: none; opacity: 1; stroke-width: 0px; fill: rgb(252, 222, 156); fill-opacity: 1;\"/></g><g class=\"point\"><path d=\"M1057.88,260V259.8H1071.19V260Z\" style=\"vector-effect: none; opacity: 1; stroke-width: 0px; fill: rgb(252, 222, 156); fill-opacity: 1;\"/></g><g class=\"point\"><path d=\"M1074.51,260V259.67H1087.82V260Z\" style=\"vector-effect: none; opacity: 1; stroke-width: 0px; fill: rgb(252, 222, 156); fill-opacity: 1;\"/></g><g class=\"point\"><path d=\"M1091.15,260V259.8H1104.45V260Z\" style=\"vector-effect: none; opacity: 1; stroke-width: 0px; fill: rgb(252, 222, 156); fill-opacity: 1;\"/></g><g class=\"point\"><path d=\"M1107.78,260V259.73H1121.09V260Z\" style=\"vector-effect: none; opacity: 1; stroke-width: 0px; fill: rgb(252, 222, 156); fill-opacity: 1;\"/></g><g class=\"point\"><path d=\"M1124.41,260V259.73H1137.72V260Z\" style=\"vector-effect: none; opacity: 1; stroke-width: 0px; fill: rgb(252, 222, 156); fill-opacity: 1;\"/></g><g class=\"point\"><path d=\"M1141.05,260V259.73H1154.35V260Z\" style=\"vector-effect: none; opacity: 1; stroke-width: 0px; fill: rgb(252, 222, 156); fill-opacity: 1;\"/></g><g class=\"point\"><path d=\"M1157.68,260V259.93H1170.99V260Z\" style=\"vector-effect: none; opacity: 1; stroke-width: 0px; fill: rgb(252, 222, 156); fill-opacity: 1;\"/></g><g class=\"point\"><path d=\"M1174.31,260V259.87H1187.62V260Z\" style=\"vector-effect: none; opacity: 1; stroke-width: 0px; fill: rgb(252, 222, 156); fill-opacity: 1;\"/></g><g class=\"point\"><path d=\"M1190.95,260V259.87H1204.25V260Z\" style=\"vector-effect: none; opacity: 1; stroke-width: 0px; fill: rgb(252, 222, 156); fill-opacity: 1;\"/></g><g class=\"point\"><path d=\"M1207.58,260V259.8H1220.89V260Z\" style=\"vector-effect: none; opacity: 1; stroke-width: 0px; fill: rgb(252, 222, 156); fill-opacity: 1;\"/></g><g class=\"point\"><path d=\"M1224.21,260V259.8H1237.52V260Z\" style=\"vector-effect: none; opacity: 1; stroke-width: 0px; fill: rgb(252, 222, 156); fill-opacity: 1;\"/></g><g class=\"point\"><path d=\"M1240.85,260V259.8H1254.15V260Z\" style=\"vector-effect: none; opacity: 1; stroke-width: 0px; fill: rgb(252, 222, 156); fill-opacity: 1;\"/></g><g class=\"point\"><path d=\"M1257.48,260V259.8H1270.79V260Z\" style=\"vector-effect: none; opacity: 1; stroke-width: 0px; fill: rgb(252, 222, 156); fill-opacity: 1;\"/></g><g class=\"point\"><path d=\"M1274.11,260V259.87H1287.42V260Z\" style=\"vector-effect: none; opacity: 1; stroke-width: 0px; fill: rgb(252, 222, 156); fill-opacity: 1;\"/></g><g class=\"point\"><path d=\"M1290.75,260V259.87H1304.05V260Z\" style=\"vector-effect: none; opacity: 1; stroke-width: 0px; fill: rgb(252, 222, 156); fill-opacity: 1;\"/></g><g class=\"point\"><path d=\"M1307.38,260V259.87H1320.69V260Z\" style=\"vector-effect: none; opacity: 1; stroke-width: 0px; fill: rgb(252, 222, 156); fill-opacity: 1;\"/></g><g class=\"point\"><path d=\"M1324.01,260V259.87H1337.32V260Z\" style=\"vector-effect: none; opacity: 1; stroke-width: 0px; fill: rgb(252, 222, 156); fill-opacity: 1;\"/></g><g class=\"point\"><path d=\"M1340.65,260V259.87H1353.95V260Z\" style=\"vector-effect: none; opacity: 1; stroke-width: 0px; fill: rgb(252, 222, 156); fill-opacity: 1;\"/></g><g class=\"point\"><path d=\"M1357.28,260V259.87H1370.59V260Z\" style=\"vector-effect: none; opacity: 1; stroke-width: 0px; fill: rgb(252, 222, 156); fill-opacity: 1;\"/></g><g class=\"point\"><path d=\"M1373.91,260V259.87H1387.22V260Z\" style=\"vector-effect: none; opacity: 1; stroke-width: 0px; fill: rgb(252, 222, 156); fill-opacity: 1;\"/></g><g class=\"point\"><path d=\"M1390.55,260V259.93H1403.85V260Z\" style=\"vector-effect: none; opacity: 1; stroke-width: 0px; fill: rgb(252, 222, 156); fill-opacity: 1;\"/></g><g class=\"point\"><path d=\"M0,0Z\" style=\"vector-effect: none; opacity: 1; stroke-width: 0px; fill: rgb(252, 222, 156); fill-opacity: 1;\"/></g><g class=\"point\"><path d=\"M0,0Z\" style=\"vector-effect: none; opacity: 1; stroke-width: 0px; fill: rgb(252, 222, 156); fill-opacity: 1;\"/></g><g class=\"point\"><path d=\"M0,0Z\" style=\"vector-effect: none; opacity: 1; stroke-width: 0px; fill: rgb(252, 222, 156); fill-opacity: 1;\"/></g><g class=\"point\"><path d=\"M0,0Z\" style=\"vector-effect: none; opacity: 1; stroke-width: 0px; fill: rgb(252, 222, 156); fill-opacity: 1;\"/></g><g class=\"point\"><path d=\"M0,0Z\" style=\"vector-effect: none; opacity: 1; stroke-width: 0px; fill: rgb(252, 222, 156); fill-opacity: 1;\"/></g><g class=\"point\"><path d=\"M1490.35,260V259.93H1503.65V260Z\" style=\"vector-effect: none; opacity: 1; stroke-width: 0px; fill: rgb(252, 222, 156); fill-opacity: 1;\"/></g><g class=\"point\"><path d=\"M1506.98,260V259.93H1520.29V260Z\" style=\"vector-effect: none; opacity: 1; stroke-width: 0px; fill: rgb(252, 222, 156); fill-opacity: 1;\"/></g><g class=\"point\"><path d=\"M1523.61,260V259.93H1536.92V260Z\" style=\"vector-effect: none; opacity: 1; stroke-width: 0px; fill: rgb(252, 222, 156); fill-opacity: 1;\"/></g><g class=\"point\"><path d=\"M1540.25,260V259.93H1553.55V260Z\" style=\"vector-effect: none; opacity: 1; stroke-width: 0px; fill: rgb(252, 222, 156); fill-opacity: 1;\"/></g><g class=\"point\"><path d=\"M1556.88,260V259.93H1570.19V260Z\" style=\"vector-effect: none; opacity: 1; stroke-width: 0px; fill: rgb(252, 222, 156); fill-opacity: 1;\"/></g><g class=\"point\"><path d=\"M1573.51,260V259.93H1586.82V260Z\" style=\"vector-effect: none; opacity: 1; stroke-width: 0px; fill: rgb(252, 222, 156); fill-opacity: 1;\"/></g><g class=\"point\"><path d=\"M1590.15,260V259.93H1603.45V260Z\" style=\"vector-effect: none; opacity: 1; stroke-width: 0px; fill: rgb(252, 222, 156); fill-opacity: 1;\"/></g><g class=\"point\"><path d=\"M1606.78,260V259.93H1620.09V260Z\" style=\"vector-effect: none; opacity: 1; stroke-width: 0px; fill: rgb(252, 222, 156); fill-opacity: 1;\"/></g><g class=\"point\"><path d=\"M1623.41,260V259.93H1636.72V260Z\" style=\"vector-effect: none; opacity: 1; stroke-width: 0px; fill: rgb(252, 222, 156); fill-opacity: 1;\"/></g><g class=\"point\"><path d=\"M1640.05,260V259.93H1653.35V260Z\" style=\"vector-effect: none; opacity: 1; stroke-width: 0px; fill: rgb(252, 222, 156); fill-opacity: 1;\"/></g><g class=\"point\"><path d=\"M1656.68,260V259.93H1669.99V260Z\" style=\"vector-effect: none; opacity: 1; stroke-width: 0px; fill: rgb(252, 222, 156); fill-opacity: 1;\"/></g><g class=\"point\"><path d=\"M1673.31,260V259.93H1686.62V260Z\" style=\"vector-effect: none; opacity: 1; stroke-width: 0px; fill: rgb(252, 222, 156); fill-opacity: 1;\"/></g><g class=\"point\"><path d=\"M1689.95,260V259.93H1703.25V260Z\" style=\"vector-effect: none; opacity: 1; stroke-width: 0px; fill: rgb(252, 222, 156); fill-opacity: 1;\"/></g><g class=\"point\"><path d=\"M1706.58,260V259.93H1719.89V260Z\" style=\"vector-effect: none; opacity: 1; stroke-width: 0px; fill: rgb(252, 222, 156); fill-opacity: 1;\"/></g><g class=\"point\"><path d=\"M1723.21,260V259.93H1736.52V260Z\" style=\"vector-effect: none; opacity: 1; stroke-width: 0px; fill: rgb(252, 222, 156); fill-opacity: 1;\"/></g><g class=\"point\"><path d=\"M1739.85,260V259.93H1753.15V260Z\" style=\"vector-effect: none; opacity: 1; stroke-width: 0px; fill: rgb(252, 222, 156); fill-opacity: 1;\"/></g><g class=\"point\"><path d=\"M1756.48,260V259.93H1769.79V260Z\" style=\"vector-effect: none; opacity: 1; stroke-width: 0px; fill: rgb(252, 222, 156); fill-opacity: 1;\"/></g><g class=\"point\"><path d=\"M1773.11,260V259.93H1786.42V260Z\" style=\"vector-effect: none; opacity: 1; stroke-width: 0px; fill: rgb(252, 222, 156); fill-opacity: 1;\"/></g><g class=\"point\"><path d=\"M1789.75,260V259.93H1803.05V260Z\" style=\"vector-effect: none; opacity: 1; stroke-width: 0px; fill: rgb(252, 222, 156); fill-opacity: 1;\"/></g><g class=\"point\"><path d=\"M1806.38,260V259.93H1819.69V260Z\" style=\"vector-effect: none; opacity: 1; stroke-width: 0px; fill: rgb(252, 222, 156); fill-opacity: 1;\"/></g><g class=\"point\"><path d=\"M1823.01,260V259.93H1836.32V260Z\" style=\"vector-effect: none; opacity: 1; stroke-width: 0px; fill: rgb(252, 222, 156); fill-opacity: 1;\"/></g><g class=\"point\"><path d=\"M1839.65,260V259.93H1852.95V260Z\" style=\"vector-effect: none; opacity: 1; stroke-width: 0px; fill: rgb(252, 222, 156); fill-opacity: 1;\"/></g><g class=\"point\"><path d=\"M1856.28,260V259.93H1869.59V260Z\" style=\"vector-effect: none; opacity: 1; stroke-width: 0px; fill: rgb(252, 222, 156); fill-opacity: 1;\"/></g><g class=\"point\"><path d=\"M1872.91,260V259.93H1886.22V260Z\" style=\"vector-effect: none; opacity: 1; stroke-width: 0px; fill: rgb(252, 222, 156); fill-opacity: 1;\"/></g><g class=\"point\"><path d=\"M1889.55,260V259.93H1902.85V260Z\" style=\"vector-effect: none; opacity: 1; stroke-width: 0px; fill: rgb(252, 222, 156); fill-opacity: 1;\"/></g><g class=\"point\"><path d=\"M1906.18,260V259.93H1919.49V260Z\" style=\"vector-effect: none; opacity: 1; stroke-width: 0px; fill: rgb(252, 222, 156); fill-opacity: 1;\"/></g><g class=\"point\"><path d=\"M1922.81,260V259.93H1936.12V260Z\" style=\"vector-effect: none; opacity: 1; stroke-width: 0px; fill: rgb(252, 222, 156); fill-opacity: 1;\"/></g><g class=\"point\"><path d=\"M1939.45,260V259.93H1952.75V260Z\" style=\"vector-effect: none; opacity: 1; stroke-width: 0px; fill: rgb(252, 222, 156); fill-opacity: 1;\"/></g><g class=\"point\"><path d=\"M1956.08,260V259.93H1969.39V260Z\" style=\"vector-effect: none; opacity: 1; stroke-width: 0px; fill: rgb(252, 222, 156); fill-opacity: 1;\"/></g><g class=\"point\"><path d=\"M1972.71,260V259.93H1986.02V260Z\" style=\"vector-effect: none; opacity: 1; stroke-width: 0px; fill: rgb(252, 222, 156); fill-opacity: 1;\"/></g><g class=\"point\"><path d=\"M1989.35,260V259.93H2002.65V260Z\" style=\"vector-effect: none; opacity: 1; stroke-width: 0px; fill: rgb(252, 222, 156); fill-opacity: 1;\"/></g><g class=\"point\"><path d=\"M2005.98,260V259.93H2019.29V260Z\" style=\"vector-effect: none; opacity: 1; stroke-width: 0px; fill: rgb(252, 222, 156); fill-opacity: 1;\"/></g><g class=\"point\"><path d=\"M2022.61,260V259.93H2035.92V260Z\" style=\"vector-effect: none; opacity: 1; stroke-width: 0px; fill: rgb(252, 222, 156); fill-opacity: 1;\"/></g></g></g><g class=\"trace bars\" style=\"opacity: 1;\"><g class=\"points\"><g class=\"point\"><path d=\"M-6.65,75.79V13H6.65V75.79Z\" style=\"vector-effect: none; opacity: 1; stroke-width: 0px; fill: rgb(250, 164, 118); fill-opacity: 1;\"/></g><g class=\"point\"><path d=\"M9.98,195.61V189.98H23.29V195.61Z\" style=\"vector-effect: none; opacity: 1; stroke-width: 0px; fill: rgb(250, 164, 118); fill-opacity: 1;\"/></g><g class=\"point\"><path d=\"M26.61,224.26V206.05H39.92V224.26Z\" style=\"vector-effect: none; opacity: 1; stroke-width: 0px; fill: rgb(250, 164, 118); fill-opacity: 1;\"/></g><g class=\"point\"><path d=\"M43.25,238.65V230.21H56.55V238.65Z\" style=\"vector-effect: none; opacity: 1; stroke-width: 0px; fill: rgb(250, 164, 118); fill-opacity: 1;\"/></g><g class=\"point\"><path d=\"M59.88,239.72V233.69H73.19V239.72Z\" style=\"vector-effect: none; opacity: 1; stroke-width: 0px; fill: rgb(250, 164, 118); fill-opacity: 1;\"/></g><g class=\"point\"><path d=\"M76.51,252.03V238.71H89.82V252.03Z\" style=\"vector-effect: none; opacity: 1; stroke-width: 0px; fill: rgb(250, 164, 118); fill-opacity: 1;\"/></g><g class=\"point\"><path d=\"M93.15,248.55V244.47H106.45V248.55Z\" style=\"vector-effect: none; opacity: 1; stroke-width: 0px; fill: rgb(250, 164, 118); fill-opacity: 1;\"/></g><g class=\"point\"><path d=\"M109.78,255.92V244.54H123.09V255.92Z\" style=\"vector-effect: none; opacity: 1; stroke-width: 0px; fill: rgb(250, 164, 118); fill-opacity: 1;\"/></g><g class=\"point\"><path d=\"M126.41,247.82V244.87H139.72V247.82Z\" style=\"vector-effect: none; opacity: 1; stroke-width: 0px; fill: rgb(250, 164, 118); fill-opacity: 1;\"/></g><g class=\"point\"><path d=\"M143.05,252.57V248.69H156.35V252.57Z\" style=\"vector-effect: none; opacity: 1; stroke-width: 0px; fill: rgb(250, 164, 118); fill-opacity: 1;\"/></g><g class=\"point\"><path d=\"M159.68,252.37V249.16H172.99V252.37Z\" style=\"vector-effect: none; opacity: 1; stroke-width: 0px; fill: rgb(250, 164, 118); fill-opacity: 1;\"/></g><g class=\"point\"><path d=\"M176.31,253.71V249.29H189.62V253.71Z\" style=\"vector-effect: none; opacity: 1; stroke-width: 0px; fill: rgb(250, 164, 118); fill-opacity: 1;\"/></g><g class=\"point\"><path d=\"M192.95,253.17V252.17H206.25V253.17Z\" style=\"vector-effect: none; opacity: 1; stroke-width: 0px; fill: rgb(250, 164, 118); fill-opacity: 1;\"/></g><g class=\"point\"><path d=\"M209.58,254.44V252.44H222.89V254.44Z\" style=\"vector-effect: none; opacity: 1; stroke-width: 0px; fill: rgb(250, 164, 118); fill-opacity: 1;\"/></g><g class=\"point\"><path d=\"M226.21,253.31V252.97H239.52V253.31Z\" style=\"vector-effect: none; opacity: 1; stroke-width: 0px; fill: rgb(250, 164, 118); fill-opacity: 1;\"/></g><g class=\"point\"><path d=\"M242.85,253.71V253.11H256.15V253.71Z\" style=\"vector-effect: none; opacity: 1; stroke-width: 0px; fill: rgb(250, 164, 118); fill-opacity: 1;\"/></g><g class=\"point\"><path d=\"M259.48,254.98V253.31H272.79V254.98Z\" style=\"vector-effect: none; opacity: 1; stroke-width: 0px; fill: rgb(250, 164, 118); fill-opacity: 1;\"/></g><g class=\"point\"><path d=\"M276.11,255.58V253.51H289.42V255.58Z\" style=\"vector-effect: none; opacity: 1; stroke-width: 0px; fill: rgb(250, 164, 118); fill-opacity: 1;\"/></g><g class=\"point\"><path d=\"M292.75,255.25V253.91H306.05V255.25Z\" style=\"vector-effect: none; opacity: 1; stroke-width: 0px; fill: rgb(250, 164, 118); fill-opacity: 1;\"/></g><g class=\"point\"><path d=\"M309.38,254.24V253.98H322.69V254.24Z\" style=\"vector-effect: none; opacity: 1; stroke-width: 0px; fill: rgb(250, 164, 118); fill-opacity: 1;\"/></g><g class=\"point\"><path d=\"M326.01,254.78V253.98H339.32V254.78Z\" style=\"vector-effect: none; opacity: 1; stroke-width: 0px; fill: rgb(250, 164, 118); fill-opacity: 1;\"/></g><g class=\"point\"><path d=\"M342.65,258.73V254.04H355.95V258.73Z\" style=\"vector-effect: none; opacity: 1; stroke-width: 0px; fill: rgb(250, 164, 118); fill-opacity: 1;\"/></g><g class=\"point\"><path d=\"M359.28,254.64V254.44H372.59V254.64Z\" style=\"vector-effect: none; opacity: 1; stroke-width: 0px; fill: rgb(250, 164, 118); fill-opacity: 1;\"/></g><g class=\"point\"><path d=\"M375.91,256.92V255.31H389.22V256.92Z\" style=\"vector-effect: none; opacity: 1; stroke-width: 0px; fill: rgb(250, 164, 118); fill-opacity: 1;\"/></g><g class=\"point\"><path d=\"M392.55,256.59V255.85H405.85V256.59Z\" style=\"vector-effect: none; opacity: 1; stroke-width: 0px; fill: rgb(250, 164, 118); fill-opacity: 1;\"/></g><g class=\"point\"><path d=\"M409.18,258.66V256.52H422.49V258.66Z\" style=\"vector-effect: none; opacity: 1; stroke-width: 0px; fill: rgb(250, 164, 118); fill-opacity: 1;\"/></g><g class=\"point\"><path d=\"M425.81,257.19V256.65H439.12V257.19Z\" style=\"vector-effect: none; opacity: 1; stroke-width: 0px; fill: rgb(250, 164, 118); fill-opacity: 1;\"/></g><g class=\"point\"><path d=\"M442.45,257.72V256.79H455.75V257.72Z\" style=\"vector-effect: none; opacity: 1; stroke-width: 0px; fill: rgb(250, 164, 118); fill-opacity: 1;\"/></g><g class=\"point\"><path d=\"M459.08,257.86V256.92H472.39V257.86Z\" style=\"vector-effect: none; opacity: 1; stroke-width: 0px; fill: rgb(250, 164, 118); fill-opacity: 1;\"/></g><g class=\"point\"><path d=\"M475.71,257.92V257.19H489.02V257.92Z\" style=\"vector-effect: none; opacity: 1; stroke-width: 0px; fill: rgb(250, 164, 118); fill-opacity: 1;\"/></g><g class=\"point\"><path d=\"M492.35,258.8V257.26H505.65V258.8Z\" style=\"vector-effect: none; opacity: 1; stroke-width: 0px; fill: rgb(250, 164, 118); fill-opacity: 1;\"/></g><g class=\"point\"><path d=\"M508.98,257.86V257.26H522.29V257.86Z\" style=\"vector-effect: none; opacity: 1; stroke-width: 0px; fill: rgb(250, 164, 118); fill-opacity: 1;\"/></g><g class=\"point\"><path d=\"M525.61,257.59V257.52H538.92V257.59Z\" style=\"vector-effect: none; opacity: 1; stroke-width: 0px; fill: rgb(250, 164, 118); fill-opacity: 1;\"/></g><g class=\"point\"><path d=\"M542.25,258.33V257.79H555.55V258.33Z\" style=\"vector-effect: none; opacity: 1; stroke-width: 0px; fill: rgb(250, 164, 118); fill-opacity: 1;\"/></g><g class=\"point\"><path d=\"M558.88,258.39V257.92H572.19V258.39Z\" style=\"vector-effect: none; opacity: 1; stroke-width: 0px; fill: rgb(250, 164, 118); fill-opacity: 1;\"/></g><g class=\"point\"><path d=\"M575.51,258.73V257.99H588.82V258.73Z\" style=\"vector-effect: none; opacity: 1; stroke-width: 0px; fill: rgb(250, 164, 118); fill-opacity: 1;\"/></g><g class=\"point\"><path d=\"M592.15,258.59V257.99H605.45V258.59Z\" style=\"vector-effect: none; opacity: 1; stroke-width: 0px; fill: rgb(250, 164, 118); fill-opacity: 1;\"/></g><g class=\"point\"><path d=\"M608.78,258.39V258.06H622.09V258.39Z\" style=\"vector-effect: none; opacity: 1; stroke-width: 0px; fill: rgb(250, 164, 118); fill-opacity: 1;\"/></g><g class=\"point\"><path d=\"M625.41,259.26V258.19H638.72V259.26Z\" style=\"vector-effect: none; opacity: 1; stroke-width: 0px; fill: rgb(250, 164, 118); fill-opacity: 1;\"/></g><g class=\"point\"><path d=\"M642.05,258.8V258.26H655.35V258.8Z\" style=\"vector-effect: none; opacity: 1; stroke-width: 0px; fill: rgb(250, 164, 118); fill-opacity: 1;\"/></g><g class=\"point\"><path d=\"M658.68,258.66V258.39H671.99V258.66Z\" style=\"vector-effect: none; opacity: 1; stroke-width: 0px; fill: rgb(250, 164, 118); fill-opacity: 1;\"/></g><g class=\"point\"><path d=\"M675.31,258.93V258.53H688.62V258.93Z\" style=\"vector-effect: none; opacity: 1; stroke-width: 0px; fill: rgb(250, 164, 118); fill-opacity: 1;\"/></g><g class=\"point\"><path d=\"M691.95,258.8V258.73H705.25V258.8Z\" style=\"vector-effect: none; opacity: 1; stroke-width: 0px; fill: rgb(250, 164, 118); fill-opacity: 1;\"/></g><g class=\"point\"><path d=\"M708.58,259.13V259.06H721.89V259.13Z\" style=\"vector-effect: none; opacity: 1; stroke-width: 0px; fill: rgb(250, 164, 118); fill-opacity: 1;\"/></g><g class=\"point\"><path d=\"M0,0Z\" style=\"vector-effect: none; opacity: 1; stroke-width: 0px; fill: rgb(250, 164, 118); fill-opacity: 1;\"/></g><g class=\"point\"><path d=\"M741.85,259.4V259.13H755.15V259.4Z\" style=\"vector-effect: none; opacity: 1; stroke-width: 0px; fill: rgb(250, 164, 118); fill-opacity: 1;\"/></g><g class=\"point\"><path d=\"M758.48,259.33V259.2H771.79V259.33Z\" style=\"vector-effect: none; opacity: 1; stroke-width: 0px; fill: rgb(250, 164, 118); fill-opacity: 1;\"/></g><g class=\"point\"><path d=\"M775.11,259.26V259.2H788.42V259.26Z\" style=\"vector-effect: none; opacity: 1; stroke-width: 0px; fill: rgb(250, 164, 118); fill-opacity: 1;\"/></g><g class=\"point\"><path d=\"M791.75,259.4V259.26H805.05V259.4Z\" style=\"vector-effect: none; opacity: 1; stroke-width: 0px; fill: rgb(250, 164, 118); fill-opacity: 1;\"/></g><g class=\"point\"><path d=\"M808.38,259.53V259.26H821.69V259.53Z\" style=\"vector-effect: none; opacity: 1; stroke-width: 0px; fill: rgb(250, 164, 118); fill-opacity: 1;\"/></g><g class=\"point\"><path d=\"M825.01,259.46V259.26H838.32V259.46Z\" style=\"vector-effect: none; opacity: 1; stroke-width: 0px; fill: rgb(250, 164, 118); fill-opacity: 1;\"/></g><g class=\"point\"><path d=\"M841.65,259.33V259.26H854.95V259.33Z\" style=\"vector-effect: none; opacity: 1; stroke-width: 0px; fill: rgb(250, 164, 118); fill-opacity: 1;\"/></g><g class=\"point\"><path d=\"M0,0Z\" style=\"vector-effect: none; opacity: 1; stroke-width: 0px; fill: rgb(250, 164, 118); fill-opacity: 1;\"/></g><g class=\"point\"><path d=\"M0,0Z\" style=\"vector-effect: none; opacity: 1; stroke-width: 0px; fill: rgb(250, 164, 118); fill-opacity: 1;\"/></g><g class=\"point\"><path d=\"M0,0Z\" style=\"vector-effect: none; opacity: 1; stroke-width: 0px; fill: rgb(250, 164, 118); fill-opacity: 1;\"/></g><g class=\"point\"><path d=\"M908.18,259.53V259.4H921.49V259.53Z\" style=\"vector-effect: none; opacity: 1; stroke-width: 0px; fill: rgb(250, 164, 118); fill-opacity: 1;\"/></g><g class=\"point\"><path d=\"M924.81,259.67V259.46H938.12V259.67Z\" style=\"vector-effect: none; opacity: 1; stroke-width: 0px; fill: rgb(250, 164, 118); fill-opacity: 1;\"/></g><g class=\"point\"><path d=\"M0,0Z\" style=\"vector-effect: none; opacity: 1; stroke-width: 0px; fill: rgb(250, 164, 118); fill-opacity: 1;\"/></g><g class=\"point\"><path d=\"M0,0Z\" style=\"vector-effect: none; opacity: 1; stroke-width: 0px; fill: rgb(250, 164, 118); fill-opacity: 1;\"/></g><g class=\"point\"><path d=\"M974.71,259.6V259.53H988.02V259.6Z\" style=\"vector-effect: none; opacity: 1; stroke-width: 0px; fill: rgb(250, 164, 118); fill-opacity: 1;\"/></g><g class=\"point\"><path d=\"M0,0Z\" style=\"vector-effect: none; opacity: 1; stroke-width: 0px; fill: rgb(250, 164, 118); fill-opacity: 1;\"/></g><g class=\"point\"><path d=\"M0,0Z\" style=\"vector-effect: none; opacity: 1; stroke-width: 0px; fill: rgb(250, 164, 118); fill-opacity: 1;\"/></g><g class=\"point\"><path d=\"M0,0Z\" style=\"vector-effect: none; opacity: 1; stroke-width: 0px; fill: rgb(250, 164, 118); fill-opacity: 1;\"/></g><g class=\"point\"><path d=\"M0,0Z\" style=\"vector-effect: none; opacity: 1; stroke-width: 0px; fill: rgb(250, 164, 118); fill-opacity: 1;\"/></g><g class=\"point\"><path d=\"M1057.88,259.8V259.67H1071.19V259.8Z\" style=\"vector-effect: none; opacity: 1; stroke-width: 0px; fill: rgb(250, 164, 118); fill-opacity: 1;\"/></g><g class=\"point\"><path d=\"M0,0Z\" style=\"vector-effect: none; opacity: 1; stroke-width: 0px; fill: rgb(250, 164, 118); fill-opacity: 1;\"/></g><g class=\"point\"><path d=\"M1091.15,259.8V259.73H1104.45V259.8Z\" style=\"vector-effect: none; opacity: 1; stroke-width: 0px; fill: rgb(250, 164, 118); fill-opacity: 1;\"/></g><g class=\"point\"><path d=\"M0,0Z\" style=\"vector-effect: none; opacity: 1; stroke-width: 0px; fill: rgb(250, 164, 118); fill-opacity: 1;\"/></g><g class=\"point\"><path d=\"M0,0Z\" style=\"vector-effect: none; opacity: 1; stroke-width: 0px; fill: rgb(250, 164, 118); fill-opacity: 1;\"/></g><g class=\"point\"><path d=\"M0,0Z\" style=\"vector-effect: none; opacity: 1; stroke-width: 0px; fill: rgb(250, 164, 118); fill-opacity: 1;\"/></g><g class=\"point\"><path d=\"M1157.68,259.93V259.8H1170.99V259.93Z\" style=\"vector-effect: none; opacity: 1; stroke-width: 0px; fill: rgb(250, 164, 118); fill-opacity: 1;\"/></g><g class=\"point\"><path d=\"M1174.31,259.87V259.8H1187.62V259.87Z\" style=\"vector-effect: none; opacity: 1; stroke-width: 0px; fill: rgb(250, 164, 118); fill-opacity: 1;\"/></g><g class=\"point\"><path d=\"M1190.95,259.87V259.8H1204.25V259.87Z\" style=\"vector-effect: none; opacity: 1; stroke-width: 0px; fill: rgb(250, 164, 118); fill-opacity: 1;\"/></g><g class=\"point\"><path d=\"M0,0Z\" style=\"vector-effect: none; opacity: 1; stroke-width: 0px; fill: rgb(250, 164, 118); fill-opacity: 1;\"/></g><g class=\"point\"><path d=\"M0,0Z\" style=\"vector-effect: none; opacity: 1; stroke-width: 0px; fill: rgb(250, 164, 118); fill-opacity: 1;\"/></g><g class=\"point\"><path d=\"M0,0Z\" style=\"vector-effect: none; opacity: 1; stroke-width: 0px; fill: rgb(250, 164, 118); fill-opacity: 1;\"/></g><g class=\"point\"><path d=\"M0,0Z\" style=\"vector-effect: none; opacity: 1; stroke-width: 0px; fill: rgb(250, 164, 118); fill-opacity: 1;\"/></g><g class=\"point\"><path d=\"M1274.11,259.87V259.8H1287.42V259.87Z\" style=\"vector-effect: none; opacity: 1; stroke-width: 0px; fill: rgb(250, 164, 118); fill-opacity: 1;\"/></g><g class=\"point\"><path d=\"M0,0Z\" style=\"vector-effect: none; opacity: 1; stroke-width: 0px; fill: rgb(250, 164, 118); fill-opacity: 1;\"/></g><g class=\"point\"><path d=\"M0,0Z\" style=\"vector-effect: none; opacity: 1; stroke-width: 0px; fill: rgb(250, 164, 118); fill-opacity: 1;\"/></g><g class=\"point\"><path d=\"M0,0Z\" style=\"vector-effect: none; opacity: 1; stroke-width: 0px; fill: rgb(250, 164, 118); fill-opacity: 1;\"/></g><g class=\"point\"><path d=\"M0,0Z\" style=\"vector-effect: none; opacity: 1; stroke-width: 0px; fill: rgb(250, 164, 118); fill-opacity: 1;\"/></g><g class=\"point\"><path d=\"M0,0Z\" style=\"vector-effect: none; opacity: 1; stroke-width: 0px; fill: rgb(250, 164, 118); fill-opacity: 1;\"/></g><g class=\"point\"><path d=\"M0,0Z\" style=\"vector-effect: none; opacity: 1; stroke-width: 0px; fill: rgb(250, 164, 118); fill-opacity: 1;\"/></g><g class=\"point\"><path d=\"M1390.55,259.93V259.87H1403.85V259.93Z\" style=\"vector-effect: none; opacity: 1; stroke-width: 0px; fill: rgb(250, 164, 118); fill-opacity: 1;\"/></g><g class=\"point\"><path d=\"M1407.18,260V259.93H1420.49V260Z\" style=\"vector-effect: none; opacity: 1; stroke-width: 0px; fill: rgb(250, 164, 118); fill-opacity: 1;\"/></g><g class=\"point\"><path d=\"M1423.81,260V259.93H1437.12V260Z\" style=\"vector-effect: none; opacity: 1; stroke-width: 0px; fill: rgb(250, 164, 118); fill-opacity: 1;\"/></g><g class=\"point\"><path d=\"M1440.45,260V259.93H1453.75V260Z\" style=\"vector-effect: none; opacity: 1; stroke-width: 0px; fill: rgb(250, 164, 118); fill-opacity: 1;\"/></g><g class=\"point\"><path d=\"M1457.08,260V259.93H1470.39V260Z\" style=\"vector-effect: none; opacity: 1; stroke-width: 0px; fill: rgb(250, 164, 118); fill-opacity: 1;\"/></g><g class=\"point\"><path d=\"M1473.71,260V259.93H1487.02V260Z\" style=\"vector-effect: none; opacity: 1; stroke-width: 0px; fill: rgb(250, 164, 118); fill-opacity: 1;\"/></g></g></g></g></g><g class=\"overplot\"/><path class=\"xlines-above crisp\" d=\"M0,0\" style=\"fill: none;\"/><path class=\"ylines-above crisp\" d=\"M0,0\" style=\"fill: none;\"/><g class=\"overlines-above\"/><g class=\"xaxislayer-above\"><g class=\"xtick\"><text text-anchor=\"start\" x=\"0\" y=\"373\" transform=\"translate(80,0) rotate(90,0,367)\" style=\"font-family: 'Open Sans', verdana, arial, sans-serif; font-size: 12px; fill: rgb(42, 63, 95); fill-opacity: 1; white-space: pre; opacity: 1;\">United States</text></g><g class=\"xtick\"><text text-anchor=\"start\" x=\"0\" y=\"373\" transform=\"translate(96.63,0) rotate(90,0,367)\" style=\"font-family: 'Open Sans', verdana, arial, sans-serif; font-size: 12px; fill: rgb(42, 63, 95); fill-opacity: 1; white-space: pre; opacity: 1;\">India</text></g><g class=\"xtick\"><text text-anchor=\"start\" x=\"0\" y=\"373\" transform=\"translate(113.27000000000001,0) rotate(90,0,367)\" style=\"font-family: 'Open Sans', verdana, arial, sans-serif; font-size: 12px; fill: rgb(42, 63, 95); fill-opacity: 1; white-space: pre; opacity: 1;\">United Kingdom</text></g><g class=\"xtick\"><text text-anchor=\"start\" x=\"0\" y=\"373\" transform=\"translate(129.9,0) rotate(90,0,367)\" style=\"font-family: 'Open Sans', verdana, arial, sans-serif; font-size: 12px; fill: rgb(42, 63, 95); fill-opacity: 1; white-space: pre; opacity: 1;\">Canada</text></g><g class=\"xtick\"><text text-anchor=\"start\" x=\"0\" y=\"373\" transform=\"translate(146.53,0) rotate(90,0,367)\" style=\"font-family: 'Open Sans', verdana, arial, sans-serif; font-size: 12px; fill: rgb(42, 63, 95); fill-opacity: 1; white-space: pre; opacity: 1;\">France</text></g><g class=\"xtick\"><text text-anchor=\"start\" x=\"0\" y=\"373\" transform=\"translate(163.17000000000002,0) rotate(90,0,367)\" style=\"font-family: 'Open Sans', verdana, arial, sans-serif; font-size: 12px; fill: rgb(42, 63, 95); fill-opacity: 1; white-space: pre; opacity: 1;\">Japan</text></g><g class=\"xtick\"><text text-anchor=\"start\" x=\"0\" y=\"373\" transform=\"translate(179.8,0) rotate(90,0,367)\" style=\"font-family: 'Open Sans', verdana, arial, sans-serif; font-size: 12px; fill: rgb(42, 63, 95); fill-opacity: 1; white-space: pre; opacity: 1;\">Spain</text></g><g class=\"xtick\"><text text-anchor=\"start\" x=\"0\" y=\"373\" transform=\"translate(196.43,0) rotate(90,0,367)\" style=\"font-family: 'Open Sans', verdana, arial, sans-serif; font-size: 12px; fill: rgb(42, 63, 95); fill-opacity: 1; white-space: pre; opacity: 1;\">South Korea</text></g><g class=\"xtick\"><text text-anchor=\"start\" x=\"0\" y=\"373\" transform=\"translate(213.07,0) rotate(90,0,367)\" style=\"font-family: 'Open Sans', verdana, arial, sans-serif; font-size: 12px; fill: rgb(42, 63, 95); fill-opacity: 1; white-space: pre; opacity: 1;\">Germany</text></g><g class=\"xtick\"><text text-anchor=\"start\" x=\"0\" y=\"373\" transform=\"translate(229.7,0) rotate(90,0,367)\" style=\"font-family: 'Open Sans', verdana, arial, sans-serif; font-size: 12px; fill: rgb(42, 63, 95); fill-opacity: 1; white-space: pre; opacity: 1;\">Mexico</text></g><g class=\"xtick\"><text text-anchor=\"start\" x=\"0\" y=\"373\" transform=\"translate(246.33,0) rotate(90,0,367)\" style=\"font-family: 'Open Sans', verdana, arial, sans-serif; font-size: 12px; fill: rgb(42, 63, 95); fill-opacity: 1; white-space: pre; opacity: 1;\">China</text></g><g class=\"xtick\"><text text-anchor=\"start\" x=\"0\" y=\"373\" transform=\"translate(262.97,0) rotate(90,0,367)\" style=\"font-family: 'Open Sans', verdana, arial, sans-serif; font-size: 12px; fill: rgb(42, 63, 95); fill-opacity: 1; white-space: pre; opacity: 1;\">Australia</text></g><g class=\"xtick\"><text text-anchor=\"start\" x=\"0\" y=\"373\" transform=\"translate(279.6,0) rotate(90,0,367)\" style=\"font-family: 'Open Sans', verdana, arial, sans-serif; font-size: 12px; fill: rgb(42, 63, 95); fill-opacity: 1; white-space: pre; opacity: 1;\">Egypt</text></g><g class=\"xtick\"><text text-anchor=\"start\" x=\"0\" y=\"373\" transform=\"translate(296.23,0) rotate(90,0,367)\" style=\"font-family: 'Open Sans', verdana, arial, sans-serif; font-size: 12px; fill: rgb(42, 63, 95); fill-opacity: 1; white-space: pre; opacity: 1;\">Turkey</text></g><g class=\"xtick\"><text text-anchor=\"start\" x=\"0\" y=\"373\" transform=\"translate(312.87,0) rotate(90,0,367)\" style=\"font-family: 'Open Sans', verdana, arial, sans-serif; font-size: 12px; fill: rgb(42, 63, 95); fill-opacity: 1; white-space: pre; opacity: 1;\">Hong Kong</text></g><g class=\"xtick\"><text text-anchor=\"start\" x=\"0\" y=\"373\" transform=\"translate(329.5,0) rotate(90,0,367)\" style=\"font-family: 'Open Sans', verdana, arial, sans-serif; font-size: 12px; fill: rgb(42, 63, 95); fill-opacity: 1; white-space: pre; opacity: 1;\">Nigeria</text></g><g class=\"xtick\"><text text-anchor=\"start\" x=\"0\" y=\"373\" transform=\"translate(346.13,0) rotate(90,0,367)\" style=\"font-family: 'Open Sans', verdana, arial, sans-serif; font-size: 12px; fill: rgb(42, 63, 95); fill-opacity: 1; white-space: pre; opacity: 1;\">Italy</text></g><g class=\"xtick\"><text text-anchor=\"start\" x=\"0\" y=\"373\" transform=\"translate(362.77,0) rotate(90,0,367)\" style=\"font-family: 'Open Sans', verdana, arial, sans-serif; font-size: 12px; fill: rgb(42, 63, 95); fill-opacity: 1; white-space: pre; opacity: 1;\">Brazil</text></g><g class=\"xtick\"><text text-anchor=\"start\" x=\"0\" y=\"373\" transform=\"translate(379.4,0) rotate(90,0,367)\" style=\"font-family: 'Open Sans', verdana, arial, sans-serif; font-size: 12px; fill: rgb(42, 63, 95); fill-opacity: 1; white-space: pre; opacity: 1;\">Argentina</text></g><g class=\"xtick\"><text text-anchor=\"start\" x=\"0\" y=\"373\" transform=\"translate(396.03,0) rotate(90,0,367)\" style=\"font-family: 'Open Sans', verdana, arial, sans-serif; font-size: 12px; fill: rgb(42, 63, 95); fill-opacity: 1; white-space: pre; opacity: 1;\">Indonesia</text></g><g class=\"xtick\"><text text-anchor=\"start\" x=\"0\" y=\"373\" transform=\"translate(412.67,0) rotate(90,0,367)\" style=\"font-family: 'Open Sans', verdana, arial, sans-serif; font-size: 12px; fill: rgb(42, 63, 95); fill-opacity: 1; white-space: pre; opacity: 1;\">Belgium</text></g><g class=\"xtick\"><text text-anchor=\"start\" x=\"0\" y=\"373\" transform=\"translate(429.3,0) rotate(90,0,367)\" style=\"font-family: 'Open Sans', verdana, arial, sans-serif; font-size: 12px; fill: rgb(42, 63, 95); fill-opacity: 1; white-space: pre; opacity: 1;\">Taiwan</text></g><g class=\"xtick\"><text text-anchor=\"start\" x=\"0\" y=\"373\" transform=\"translate(445.93,0) rotate(90,0,367)\" style=\"font-family: 'Open Sans', verdana, arial, sans-serif; font-size: 12px; fill: rgb(42, 63, 95); fill-opacity: 1; white-space: pre; opacity: 1;\">Philippines</text></g><g class=\"xtick\"><text text-anchor=\"start\" x=\"0\" y=\"373\" transform=\"translate(462.57,0) rotate(90,0,367)\" style=\"font-family: 'Open Sans', verdana, arial, sans-serif; font-size: 12px; fill: rgb(42, 63, 95); fill-opacity: 1; white-space: pre; opacity: 1;\">Thailand</text></g><g class=\"xtick\"><text text-anchor=\"start\" x=\"0\" y=\"373\" transform=\"translate(479.2,0) rotate(90,0,367)\" style=\"font-family: 'Open Sans', verdana, arial, sans-serif; font-size: 12px; fill: rgb(42, 63, 95); fill-opacity: 1; white-space: pre; opacity: 1;\">South Africa</text></g><g class=\"xtick\"><text text-anchor=\"start\" x=\"0\" y=\"373\" transform=\"translate(495.83,0) rotate(90,0,367)\" style=\"font-family: 'Open Sans', verdana, arial, sans-serif; font-size: 12px; fill: rgb(42, 63, 95); fill-opacity: 1; white-space: pre; opacity: 1;\">Colombia</text></g><g class=\"xtick\"><text text-anchor=\"start\" x=\"0\" y=\"373\" transform=\"translate(512.47,0) rotate(90,0,367)\" style=\"font-family: 'Open Sans', verdana, arial, sans-serif; font-size: 12px; fill: rgb(42, 63, 95); fill-opacity: 1; white-space: pre; opacity: 1;\">Netherlands</text></g><g class=\"xtick\"><text text-anchor=\"start\" x=\"0\" y=\"373\" transform=\"translate(529.1,0) rotate(90,0,367)\" style=\"font-family: 'Open Sans', verdana, arial, sans-serif; font-size: 12px; fill: rgb(42, 63, 95); fill-opacity: 1; white-space: pre; opacity: 1;\">Denmark</text></g><g class=\"xtick\"><text text-anchor=\"start\" x=\"0\" y=\"373\" transform=\"translate(545.73,0) rotate(90,0,367)\" style=\"font-family: 'Open Sans', verdana, arial, sans-serif; font-size: 12px; fill: rgb(42, 63, 95); fill-opacity: 1; white-space: pre; opacity: 1;\">Ireland</text></g><g class=\"xtick\"><text text-anchor=\"start\" x=\"0\" y=\"373\" transform=\"translate(562.37,0) rotate(90,0,367)\" style=\"font-family: 'Open Sans', verdana, arial, sans-serif; font-size: 12px; fill: rgb(42, 63, 95); fill-opacity: 1; white-space: pre; opacity: 1;\">Sweden</text></g><g class=\"xtick\"><text text-anchor=\"start\" x=\"0\" y=\"373\" transform=\"translate(579,0) rotate(90,0,367)\" style=\"font-family: 'Open Sans', verdana, arial, sans-serif; font-size: 12px; fill: rgb(42, 63, 95); fill-opacity: 1; white-space: pre; opacity: 1;\">Singapore</text></g></g><g class=\"yaxislayer-above\"><g class=\"ytick\"><text text-anchor=\"end\" x=\"79\" y=\"4.199999999999999\" transform=\"translate(0,360)\" style=\"font-family: 'Open Sans', verdana, arial, sans-serif; font-size: 12px; fill: rgb(42, 63, 95); fill-opacity: 1; white-space: pre; opacity: 1;\">0</text></g><g class=\"ytick\"><text text-anchor=\"end\" x=\"79\" y=\"4.199999999999999\" style=\"font-family: 'Open Sans', verdana, arial, sans-serif; font-size: 12px; fill: rgb(42, 63, 95); fill-opacity: 1; white-space: pre; opacity: 1;\" transform=\"translate(0,293.06)\">1000</text></g><g class=\"ytick\"><text text-anchor=\"end\" x=\"79\" y=\"4.199999999999999\" style=\"font-family: 'Open Sans', verdana, arial, sans-serif; font-size: 12px; fill: rgb(42, 63, 95); fill-opacity: 1; white-space: pre; opacity: 1;\" transform=\"translate(0,226.12)\">2000</text></g><g class=\"ytick\"><text text-anchor=\"end\" x=\"79\" y=\"4.199999999999999\" style=\"font-family: 'Open Sans', verdana, arial, sans-serif; font-size: 12px; fill: rgb(42, 63, 95); fill-opacity: 1; white-space: pre; opacity: 1;\" transform=\"translate(0,159.19)\">3000</text></g></g><g class=\"overaxes-above\"/></g></g><g class=\"polarlayer\"/><g class=\"smithlayer\"/><g class=\"ternarylayer\"/><g class=\"geolayer\"/><g class=\"funnelarealayer\"/><g class=\"pielayer\"/><g class=\"iciclelayer\"/><g class=\"treemaplayer\"/><g class=\"sunburstlayer\"/><g class=\"glimages\"/><defs id=\"topdefs-d87c6c\"><g class=\"clips\"/><clipPath id=\"legendd87c6c\"><rect width=\"99\" height=\"67\" x=\"0\" y=\"0\"/></clipPath></defs><g class=\"layer-above\"><g class=\"imagelayer\"/><g class=\"shapelayer\"/></g><g class=\"infolayer\"><g class=\"legend\" pointer-events=\"all\" transform=\"translate(588.98,100)\"><rect class=\"bg\" shape-rendering=\"crispEdges\" width=\"99\" height=\"67\" x=\"0\" y=\"0\" style=\"stroke: rgb(68, 68, 68); stroke-opacity: 1; fill: rgb(255, 255, 255); fill-opacity: 1; stroke-width: 0px;\"/><g class=\"scrollbox\" transform=\"\" clip-path=\"url(#legendd87c6c)\"><text class=\"legendtitletext\" text-anchor=\"start\" x=\"2\" y=\"18.2\" style=\"font-family: 'Open Sans', verdana, arial, sans-serif; font-size: 14px; fill: rgb(42, 63, 95); fill-opacity: 1; white-space: pre;\">type</text><g class=\"groups\" transform=\"\"><g class=\"traces\" transform=\"translate(0,32.7)\" style=\"opacity: 1;\"><text class=\"legendtext\" text-anchor=\"start\" x=\"40\" y=\"4.680000000000001\" style=\"font-family: 'Open Sans', verdana, arial, sans-serif; font-size: 12px; fill: rgb(42, 63, 95); fill-opacity: 1; white-space: pre;\">Movie</text><g class=\"layers\" style=\"opacity: 1;\"><g class=\"legendfill\"/><g class=\"legendlines\"/><g class=\"legendsymbols\"><g class=\"legendpoints\"><path class=\"legendundefined\" d=\"M6,6H-6V-6H6Z\" transform=\"translate(20,0)\" style=\"stroke-width: 0px; fill: rgb(252, 222, 156); fill-opacity: 1;\"/></g></g></g><rect class=\"legendtoggle\" x=\"0\" y=\"-9.5\" width=\"93.90625\" height=\"19\" style=\"fill: rgb(0, 0, 0); fill-opacity: 0;\"/></g></g><g class=\"groups\" transform=\"\"><g class=\"traces\" transform=\"translate(0,51.7)\" style=\"opacity: 1;\"><text class=\"legendtext\" text-anchor=\"start\" x=\"40\" y=\"4.680000000000001\" style=\"font-family: 'Open Sans', verdana, arial, sans-serif; font-size: 12px; fill: rgb(42, 63, 95); fill-opacity: 1; white-space: pre;\">TV Show</text><g class=\"layers\" style=\"opacity: 1;\"><g class=\"legendfill\"/><g class=\"legendlines\"/><g class=\"legendsymbols\"><g class=\"legendpoints\"><path class=\"legendundefined\" d=\"M6,6H-6V-6H6Z\" transform=\"translate(20,0)\" style=\"stroke-width: 0px; fill: rgb(250, 164, 118); fill-opacity: 1;\"/></g></g></g><rect class=\"legendtoggle\" x=\"0\" y=\"-9.5\" width=\"93.90625\" height=\"19\" style=\"fill: rgb(0, 0, 0); fill-opacity: 0;\"/></g></g></g><rect class=\"scrollbar\" rx=\"20\" ry=\"3\" width=\"0\" height=\"0\" x=\"0\" y=\"0\" style=\"fill: rgb(128, 139, 164); fill-opacity: 1;\"/></g><g class=\"g-gtitle\"><text class=\"gtitle\" x=\"35\" y=\"50\" text-anchor=\"start\" dy=\"0em\" style=\"font-family: 'Open Sans', verdana, arial, sans-serif; font-size: 17px; fill: rgb(42, 63, 95); opacity: 1; font-weight: normal; white-space: pre;\">Top 30 Countries with the most streaming content</text></g><g class=\"g-xtitle\"><text class=\"xtitle\" x=\"329.5\" y=\"487.659375\" text-anchor=\"middle\" style=\"font-family: 'Open Sans', verdana, arial, sans-serif; font-size: 14px; fill: rgb(42, 63, 95); opacity: 1; font-weight: normal; white-space: pre;\">Country</text></g><g class=\"g-ytitle\"><text class=\"ytitle\" transform=\"rotate(-90,24.184375000000003,230)\" x=\"24.184375000000003\" y=\"230\" text-anchor=\"middle\" style=\"font-family: 'Open Sans', verdana, arial, sans-serif; font-size: 14px; fill: rgb(42, 63, 95); opacity: 1; font-weight: normal; white-space: pre;\">count</text></g></g></svg>"
      ]
     },
     "metadata": {},
     "output_type": "display_data"
    }
   ],
   "source": [
    "px.histogram(country_count, x= 'Country', color= 'type',\n",
    "        title=\"Top 30 Countries with the most streaming content\",\n",
    "        color_discrete_sequence= px.colors.sequential.Sunsetdark).update_xaxes(\n",
    "        categoryorder=\"total descending\",range=(0, 30))"
   ]
  },
  {
   "attachments": {},
   "cell_type": "markdown",
   "metadata": {},
   "source": [
    "Findings\n",
    "\n",
    "About Netflix: \n",
    "- There are more Movies than TV-Shows available on streaming. 6131 movies and 2676 tv-shows.\n",
    "- 2019 was the year with the most content addition on the streaming platform, in 2016 movie/tv-shows added, followed by 2020 with 1879, and 2018 with 1649 total.\n",
    "- July and December are the months with the most content addition, 827 and 813 movie/tv-shows added.\n",
    "- Netflix adds content on the first day of the month more than any other day.\n",
    "\n",
    "About the content \n",
    "- Among the contents available 1147 of them were originally released in 2018 followed by 2017 with 1032, and 2019 with 1030 total.\n",
    "- Pioneers: First Women Filmmakers is the oldest content available on streaming. It's a collection of restored films dating from 1925.\n",
    "- The United States is the country that produces the most of the content with 3690 titles, followed by India 1046 titles and the United Kingdom 806 titles.\n",
    "- Anupam Kher is the actor with the higher number of titles, 43 films. Anupam Kher has appeared in over 500 films."
   ]
  }
 ],
 "metadata": {
  "kernelspec": {
   "display_name": "Python 3",
   "language": "python",
   "name": "python3"
  },
  "language_info": {
   "codemirror_mode": {
    "name": "ipython",
    "version": 3
   },
   "file_extension": ".py",
   "mimetype": "text/x-python",
   "name": "python",
   "nbconvert_exporter": "python",
   "pygments_lexer": "ipython3",
   "version": "3.11.2"
  },
  "orig_nbformat": 4,
  "vscode": {
   "interpreter": {
    "hash": "aaa84fd02175778e257c490f03911dab6e4e2a727214b7d5d6a0de23b5d238f2"
   }
  }
 },
 "nbformat": 4,
 "nbformat_minor": 2
}
